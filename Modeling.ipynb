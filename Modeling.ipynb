{
 "cells": [
  {
   "cell_type": "code",
   "execution_count": 1,
   "metadata": {},
   "outputs": [],
   "source": [
    "import numpy as np\n",
    "import pandas as pd\n",
    "import matplotlib.pyplot as plt\n",
    "%matplotlib inline\n",
    "import seaborn as sns\n",
    "#from sklearn.linear_model import LogisticRegression\n",
    "#from sklearn.metrics import plot_confusion_matrix\n",
    "#from sklearn.metrics import confusion_matrix\n",
    "from sklearn.preprocessing import StandardScaler\n",
    "from sklearn.decomposition import PCA\n",
    "#from sklearn.pipeline import make_pipeline\n",
    "from sklearn.model_selection import cross_val_score\n",
    "from sklearn.metrics import make_scorer\n",
    "import os\n",
    "#from sklearn.metrics.pairwise import euclidean_distances\n",
    "from sklearn.impute import SimpleImputer\n",
    "#from sklearn.metrics import f1_score,balanced_accuracy_score,roc_curve,auc,fbeta_score,matthews_corrcoef,roc_auc_score\n",
    "\n",
    "import pickle\n",
    "#from imblearn.over_sampling import SMOTE\n",
    "#from imblearn.under_sampling import RandomUnderSampler\n",
    "#from sklearn.metrics.pairwise import euclidean_distances\n",
    "from sklearn.decomposition import PCA\n",
    "from sklearn.model_selection import train_test_split\n",
    "#from sklearn.experimental import enable_iterative_imputer\n",
    "#from sklearn.impute import IterativeImputer\n",
    "#from sklearn.impute import SimpleImputer\n",
    "#from sklearn.linear_model import BayesianRidge\n",
    "#from sklearn.tree import DecisionTreeRegressor\n",
    "#from sklearn.ensemble import ExtraTreesRegressor\n",
    "#from sklearn.neighbors import KNeighborsRegressor\n",
    "#from sklearn.ensemble import RandomForestClassifier,AdaBoostClassifier\n",
    "#from sklearn.pipeline import Pipeline\n",
    "from imblearn.pipeline import Pipeline as ImbPipeline\n",
    "#from sklearn.model_selection import cross_val_score\n",
    "from sklearn.metrics import make_scorer\n",
    "from sklearn.metrics import confusion_matrix\n",
    "#from sklearn.impute import KNNImputer\n",
    "#from sklearn.svm import SVC\n",
    "#from sklearn.gaussian_process import GaussianProcessClassifier\n",
    "#from sklearn.naive_bayes import GaussianNB\n",
    "#from sklearn.neighbors import KNeighborsClassifier\n",
    "#from sklearn.discriminant_analysis import QuadraticDiscriminantAnalysis\n",
    "#from sklearn.linear_model import LogisticRegression\n",
    "from xgboost import XGBClassifier\n",
    "from imblearn.combine import SMOTETomek\n",
    "#from sklearn.model_selection import RandomizedSearchCV\n",
    "#from sklearn.model_selection import StratifiedShuffleSplit\n",
    "#from imblearn.under_sampling import CondensedNearestNeighbour,RandomUnderSampler\n",
    "#from sklearn.metrics import balanced_accuracy_score\n",
    "#import os\n",
    "from tempfile import mkdtemp\n",
    "from shutil import rmtree\n",
    "from sklearn.model_selection import StratifiedKFold"
   ]
  },
  {
   "cell_type": "code",
   "execution_count": 23,
   "metadata": {},
   "outputs": [],
   "source": [
    "from sklearn.metrics import precision_recall_curve,roc_curve"
   ]
  },
  {
   "cell_type": "code",
   "execution_count": 2,
   "metadata": {},
   "outputs": [],
   "source": [
    "from skopt.space import Real\n",
    "from skopt.utils import use_named_args\n",
    "from skopt import gp_minimize\n",
    "from skopt import BayesSearchCV"
   ]
  },
  {
   "cell_type": "code",
   "execution_count": 3,
   "metadata": {},
   "outputs": [],
   "source": [
    "df = pd.read_pickle('Cleaned Trucks Data.pickle')\n",
    "df.drop('90',axis=1,inplace=True)"
   ]
  },
  {
   "cell_type": "code",
   "execution_count": 94,
   "metadata": {},
   "outputs": [],
   "source": [
    "df = df.loc[:,df.isna().mean()<0.5]"
   ]
  },
  {
   "cell_type": "code",
   "execution_count": 97,
   "metadata": {},
   "outputs": [],
   "source": [
    "corrs = df.corr()['class'][1:]"
   ]
  },
  {
   "cell_type": "code",
   "execution_count": 113,
   "metadata": {},
   "outputs": [],
   "source": [
    "y = df[['class']]"
   ]
  },
  {
   "cell_type": "code",
   "execution_count": 114,
   "metadata": {},
   "outputs": [],
   "source": [
    "X = df.loc[:,corrs[corrs.abs()>0.3].index]"
   ]
  },
  {
   "cell_type": "code",
   "execution_count": null,
   "metadata": {},
   "outputs": [],
   "source": [
    "X = df.loc[:,'1':]\n",
    "y = df[['class']]"
   ]
  },
  {
   "cell_type": "code",
   "execution_count": 47,
   "metadata": {},
   "outputs": [],
   "source": [
    "Xt = df.loc[:,'1':]\n",
    "yt = df[['class']]"
   ]
  },
  {
   "cell_type": "code",
   "execution_count": 92,
   "metadata": {},
   "outputs": [
    {
     "data": {
      "text/plain": [
       "72820"
      ]
     },
     "execution_count": 92,
     "metadata": {},
     "output_type": "execute_result"
    }
   ],
   "source": [
    "temp=Xt['95'].copy()\n",
    "temp.values[:]=1\n",
    "temp[Xt[Xt['95']<9221245].index]=0\n",
    "cm = confusion_matrix(yt,temp)\n",
    "cm[0][1]*10+cm[1][0]*500"
   ]
  },
  {
   "cell_type": "code",
   "execution_count": 22,
   "metadata": {},
   "outputs": [],
   "source": [
    "Xneg = X[df['class']==0]"
   ]
  },
  {
   "cell_type": "code",
   "execution_count": 19,
   "metadata": {},
   "outputs": [],
   "source": [
    "imputer = SimpleImputer()\n",
    "Xneg = imputer.fit_transform(Xneg)"
   ]
  },
  {
   "cell_type": "code",
   "execution_count": 28,
   "metadata": {},
   "outputs": [],
   "source": [
    "under = df.loc[Xneg.sample(1000).index.tolist()+X[df['class']==1].index.tolist()]"
   ]
  },
  {
   "cell_type": "code",
   "execution_count": 30,
   "metadata": {},
   "outputs": [
    {
     "data": {
      "text/plain": [
       "<AxesSubplot:xlabel='class', ylabel='95'>"
      ]
     },
     "execution_count": 30,
     "metadata": {},
     "output_type": "execute_result"
    },
    {
     "data": {
      "image/png": "[encoded data removed]",
      "text/plain": [
       "<Figure size 432x288 with 1 Axes>"
      ]
     },
     "metadata": {
      "needs_background": "light"
     },
     "output_type": "display_data"
    }
   ],
   "source": [
    "sns.boxenplot(x='class',y='95',data=under)"
   ]
  },
  {
   "cell_type": "code",
   "execution_count": 32,
   "metadata": {},
   "outputs": [],
   "source": [
    "X = under.loc[:,'1':]\n",
    "y = under[['class']]"
   ]
  },
  {
   "cell_type": "code",
   "execution_count": 99,
   "metadata": {},
   "outputs": [],
   "source": [
    "def optimize_cost(X_train,y_train,X_test,y_test,col):     \n",
    "    bv = (X_train[col].max()+X_train[col].min())/2\n",
    "    gap = np.abs(bv)\n",
    "    lc = 0\n",
    "    bestvalue = []\n",
    "    flag = 0\n",
    "    while(bv-gap != bv+gap):\n",
    "        flag += 1\n",
    "        for i in np.arange(bv-gap,bv+gap,(2*gap)/(100/flag**2)):\n",
    "            temp=X_train[col].copy()\n",
    "            temp.values[:]=1\n",
    "            temp[X_train[X_train[col]<i].index]=0\n",
    "            #cm = confusion_matrix(y_train,temp)\n",
    "            score = roc_auc_score(y_train,temp,average='weighted')\n",
    "            bestvalue.append((i,score))\n",
    "        bestvaluedf = pd.DataFrame(bestvalue).set_index(0)\n",
    "        bestvalue = []\n",
    "        bv = float(bestvaluedf.idxmax().values)\n",
    "        lscore = float(bestvaluedf.max().values)\n",
    "        gap = (np.abs(bv)*0.1)/flag**4\n",
    "        if flag == 1:\n",
    "            bestvaluedf.plot()\n",
    "            plt.title('Cost function optimization on Train data')\n",
    "            plt.ylabel('Score')\n",
    "            plt.xlabel('Column {} value'.format(col))   \n",
    "            plt.tight_layout()\n",
    "        if ((bestvaluedf.max()/bestvaluedf.min()) < 1.001).values[0]:\n",
    "            break\n",
    "    #lc = cm[0][1]*10*50+cm[1][0]*500\n",
    "    print('best value of column \\'{}\\' from train data:'.format(col),bv)\n",
    "    #print('\\nleast cost on train data:',lc)\n",
    "    print('score on train data:',lscore)\n",
    "\n",
    "    temp=X_test[col].copy()\n",
    "    temp.values[:]=1\n",
    "    temp[X_test[X_test[col]<bv].index]=0\n",
    "    #cm = confusion_matrix(y_test,temp)\n",
    "    #lc = cm[0][1]*10*50+cm[1][0]*500\n",
    "    score = roc_auc_score(y_test,temp,average='weighted')\n",
    "    #print('\\nleast cost on test data:',lc)\n",
    "    print('score on test data:',score);"
   ]
  },
  {
   "cell_type": "code",
   "execution_count": 43,
   "metadata": {},
   "outputs": [],
   "source": [
    "def optimize_cost(X_train,y_train,X_test,y_test,col):     \n",
    "    cv = StratifiedKFold(n_splits=5,random_state=42)\n",
    "    bvs = []\n",
    "\n",
    "    for train_fold_index, val_fold_index in cv.split(X_train,y_train):\n",
    "\n",
    "        X_train_fold, y_train_fold = X_train.iloc[train_fold_index], y_train.iloc[train_fold_index]\n",
    "\n",
    "        X_val_fold, y_val_fold = X_train.iloc[val_fold_index], y_train.iloc[val_fold_index]\n",
    "\n",
    "        bv = (X_train_fold[col].max()+X_train_fold[col].min())/2\n",
    "        gap = np.abs(bv)\n",
    "        lc = 0\n",
    "        bestvalue = []\n",
    "        flag = 0\n",
    "        while(bv-gap != bv+gap):\n",
    "            flag += 1\n",
    "            for i in np.arange(bv-gap,bv+gap,(2*gap)/(100/flag**2)):\n",
    "                temp=X_train_fold[col].copy()\n",
    "                temp.values[:]=1\n",
    "                temp[X_train_fold[X_train_fold[col]<i].index]=0\n",
    "                cm = confusion_matrix(y_train_fold,temp)\n",
    "                score = cm[0][1]*10+cm[1][0]*500\n",
    "                bestvalue.append((i,score))\n",
    "            bestvaluedf = pd.DataFrame(bestvalue).set_index(0)\n",
    "            bestvalue = []\n",
    "            bv = float(bestvaluedf.idxmin().values)\n",
    "            lscore = float(bestvaluedf.min().values)\n",
    "            gap = (np.abs(bv)*0.1)/flag**4\n",
    "            if flag == 1:\n",
    "                bestvaluedf.plot()\n",
    "                plt.title('Cost function optimization on Train data')\n",
    "                plt.ylabel('Excess cost score related to APS')\n",
    "                plt.xlabel('Column {} value'.format(col))   \n",
    "                plt.tight_layout()\n",
    "                plt.show()\n",
    "            if ((bestvaluedf.max()/bestvaluedf.min()) < 1.001).values[0]:\n",
    "                break\n",
    "        #lc = cm[0][1]*10+cm[1][0]*500\n",
    "        print('best value of column \\'{}\\' from train data:'.format(col),bv)\n",
    "        bvs.append(bv)\n",
    "        #print('\\nleast cost on train data:',lc)\n",
    "        print('score on train data:',lscore)\n",
    "    print('\\nBest values from 5 train sets:',bvs)\n",
    "    print('\\nAverage best value of column \\'{}\\' from train data:'.format(col),np.mean(bvs))\n",
    "    temp=X_test[col].copy()\n",
    "    temp.values[:]=1\n",
    "    temp[X_test[X_test[col]<np.mean(bvs)].index]=0\n",
    "    cm = confusion_matrix(y_test,temp)\n",
    "    score = cm[0][1]*10+cm[1][0]*500\n",
    "    #score = lc / cm.sum()\n",
    "    #print('\\nleast cost on test data:',lc)\n",
    "    print('\\nScore on test data:',score);"
   ]
  },
  {
   "cell_type": "code",
   "execution_count": 31,
   "metadata": {},
   "outputs": [
    {
     "name": "stderr",
     "output_type": "stream",
     "text": [
      "c:\\users\\hari\\anaconda3\\lib\\site-packages\\sklearn\\model_selection\\_split.py:297: FutureWarning: Setting a random_state has no effect since shuffle is False. This will raise an error in 0.24. You should leave random_state to its default (None), or set shuffle=True.\n",
      "  FutureWarning\n"
     ]
    },
    {
     "data": {
      "image/png": "[encoded data removed]",
      "text/plain": [
       "<Figure size 432x288 with 1 Axes>"
      ]
     },
     "metadata": {
      "needs_background": "light"
     },
     "output_type": "display_data"
    },
    {
     "name": "stdout",
     "output_type": "stream",
     "text": [
      "best value of column '95' from train data: 9225825.469570167\n",
      "score on train data: 47010.0\n"
     ]
    },
    {
     "data": {
      "image/png": "[encoded data removed]",
      "text/plain": [
       "<Figure size 432x288 with 1 Axes>"
      ]
     },
     "metadata": {
      "needs_background": "light"
     },
     "output_type": "display_data"
    },
    {
     "name": "stdout",
     "output_type": "stream",
     "text": [
      "best value of column '95' from train data: 10265016.124660507\n",
      "score on train data: 47380.0\n"
     ]
    },
    {
     "data": {
      "image/png": "[encoded data removed]",
      "text/plain": [
       "<Figure size 432x288 with 1 Axes>"
      ]
     },
     "metadata": {
      "needs_background": "light"
     },
     "output_type": "display_data"
    },
    {
     "name": "stdout",
     "output_type": "stream",
     "text": [
      "best value of column '95' from train data: 9225446.934447868\n",
      "score on train data: 46820.0\n"
     ]
    },
    {
     "data": {
      "image/png": "[encoded data removed]",
      "text/plain": [
       "<Figure size 432x288 with 1 Axes>"
      ]
     },
     "metadata": {
      "needs_background": "light"
     },
     "output_type": "display_data"
    },
    {
     "name": "stdout",
     "output_type": "stream",
     "text": [
      "best value of column '95' from train data: 7773658.7300945185\n",
      "score on train data: 48250.0\n"
     ]
    },
    {
     "data": {
      "image/png": "[encoded data removed]",
      "text/plain": [
       "<Figure size 432x288 with 1 Axes>"
      ]
     },
     "metadata": {
      "needs_background": "light"
     },
     "output_type": "display_data"
    },
    {
     "name": "stdout",
     "output_type": "stream",
     "text": [
      "best value of column '95' from train data: 7773301.3731685\n",
      "score on train data: 49140.0\n",
      "\n",
      "Best values from 5 train sets: [9225825.469570167, 10265016.124660507, 9225446.934447868, 7773658.7300945185, 7773301.3731685]\n",
      "\n",
      "Average best value of column '95' from train data: 8852649.726388311\n",
      "\n",
      "Score on test data: 13020\n"
     ]
    }
   ],
   "source": [
    "optimize_cost(X_train,y_train,X_test,y_test,'95')"
   ]
  },
  {
   "cell_type": "code",
   "execution_count": 32,
   "metadata": {},
   "outputs": [],
   "source": [
    "def optimize_cost(X_train,y_train,X_test,y_test,col):     \n",
    "    bv = (X_train[col].max()+X_train[col].min())/2\n",
    "    gap = np.abs(bv)\n",
    "    lc = 0\n",
    "    bestvalue = []\n",
    "    flag = 0\n",
    "    while(bv-gap != bv+gap):\n",
    "        flag += 1\n",
    "        for i in np.arange(bv-gap,bv+gap,(2*gap)/(100/flag**2)):\n",
    "            temp=X_train[col].copy()\n",
    "            temp.values[:]=1\n",
    "            temp[X_train[X_train[col]<i].index]=0\n",
    "            cm = confusion_matrix(y_train,temp)\n",
    "            score = cm[0][1]*10+cm[1][0]*500\n",
    "            bestvalue.append((i,score))\n",
    "        bestvaluedf = pd.DataFrame(bestvalue).set_index(0)\n",
    "        bestvalue = []\n",
    "        bv = float(bestvaluedf.idxmin().values)\n",
    "        lce = float(bestvaluedf.min().values)\n",
    "        gap = (np.abs(bv)*0.1)/flag**4\n",
    "        if flag == 1:\n",
    "            bestvaluedf.plot()\n",
    "            plt.title('Cost function optimization on Train data')\n",
    "            plt.ylabel('Excess cost score related to APS')\n",
    "            plt.xlabel('Column {} value'.format(col))   \n",
    "            plt.tight_layout()\n",
    "        if ((bestvaluedf.max()/bestvaluedf.min()) < 1.001).values[0]:\n",
    "            break\n",
    "    print('best value of column \\'{}\\' from train data:'.format(col),bv)\n",
    "    print('\\nleast cost on train data:',lc)\n",
    "\n",
    "    temp=X_test[col].copy()\n",
    "    temp.values[:]=1\n",
    "    temp[X_test[X_test[col]<bv].index]=0\n",
    "    cm = confusion_matrix(y_test,temp)\n",
    "    lc = cm[0][1]*10+cm[1][0]*500\n",
    "    print('\\nleast cost on test data:',lc);"
   ]
  },
  {
   "cell_type": "code",
   "execution_count": 33,
   "metadata": {},
   "outputs": [
    {
     "name": "stdout",
     "output_type": "stream",
     "text": [
      "best value of column '95' from train data: 9225446.934447868\n",
      "\n",
      "least cost on train data: 0\n",
      "\n",
      "least cost on test data: 13190\n"
     ]
    },
    {
     "data": {
      "image/png": "[encoded data removed]",
      "text/plain": [
       "<Figure size 432x288 with 1 Axes>"
      ]
     },
     "metadata": {
      "needs_background": "light"
     },
     "output_type": "display_data"
    }
   ],
   "source": [
    "optimize_cost(X_train,y_train,X_test,y_test,'95')"
   ]
  },
  {
   "cell_type": "code",
   "execution_count": null,
   "metadata": {},
   "outputs": [],
   "source": []
  },
  {
   "cell_type": "code",
   "execution_count": 37,
   "metadata": {},
   "outputs": [],
   "source": [
    "Xpca = pd.read_pickle('Xpca.pickle')\n",
    "y = pd.read_pickle('y.pickle')"
   ]
  },
  {
   "cell_type": "code",
   "execution_count": 3,
   "metadata": {},
   "outputs": [
    {
     "data": {
      "text/plain": [
       "((52569, 91), (52569, 1))"
      ]
     },
     "execution_count": 3,
     "metadata": {},
     "output_type": "execute_result"
    }
   ],
   "source": [
    "Xpca.shape, y.shape"
   ]
  },
  {
   "cell_type": "code",
   "execution_count": 6,
   "metadata": {},
   "outputs": [
    {
     "name": "stderr",
     "output_type": "stream",
     "text": [
      "c:\\users\\hari\\anaconda3\\lib\\site-packages\\sklearn\\utils\\validation.py:72: DataConversionWarning: A column-vector y was passed when a 1d array was expected. Please change the shape of y to (n_samples, ), for example using ravel().\n",
      "  return f(**kwargs)\n",
      "c:\\users\\hari\\anaconda3\\lib\\site-packages\\sklearn\\linear_model\\_logistic.py:764: ConvergenceWarning: lbfgs failed to converge (status=1):\n",
      "STOP: TOTAL NO. of ITERATIONS REACHED LIMIT.\n",
      "\n",
      "Increase the number of iterations (max_iter) or scale the data as shown in:\n",
      "    https://scikit-learn.org/stable/modules/preprocessing.html\n",
      "Please also refer to the documentation for alternative solver options:\n",
      "    https://scikit-learn.org/stable/modules/linear_model.html#logistic-regression\n",
      "  extra_warning_msg=_LOGISTIC_SOLVER_CONVERGENCE_MSG)\n"
     ]
    },
    {
     "data": {
      "text/plain": [
       "<sklearn.metrics._plot.confusion_matrix.ConfusionMatrixDisplay at 0x2382feb8488>"
      ]
     },
     "execution_count": 6,
     "metadata": {},
     "output_type": "execute_result"
    },
    {
     "data": {
      "image/png": "[encoded data removed]",
      "text/plain": [
       "<Figure size 432x288 with 2 Axes>"
      ]
     },
     "metadata": {
      "needs_background": "light"
     },
     "output_type": "display_data"
    }
   ],
   "source": [
    "logreg = LogisticRegression(random_state=42)\n",
    "logreg.fit(Xpca, y)\n",
    "plot_confusion_matrix(logreg, Xpca, y)"
   ]
  },
  {
   "cell_type": "code",
   "execution_count": 6,
   "metadata": {},
   "outputs": [
    {
     "data": {
      "text/plain": [
       "0.9627156689303582"
      ]
     },
     "execution_count": 6,
     "metadata": {},
     "output_type": "execute_result"
    }
   ],
   "source": [
    "logreg.score(Xpca, y)"
   ]
  },
  {
   "cell_type": "code",
   "execution_count": 15,
   "metadata": {},
   "outputs": [
    {
     "data": {
      "text/plain": [
       "array([[34783,   587],\n",
       "       [ 1373, 15826]], dtype=int64)"
      ]
     },
     "execution_count": 15,
     "metadata": {},
     "output_type": "execute_result"
    }
   ],
   "source": [
    "cm = confusion_matrix(y,logreg.predict(Xpca))\n",
    "cm"
   ]
  },
  {
   "cell_type": "code",
   "execution_count": 16,
   "metadata": {},
   "outputs": [
    {
     "data": {
      "text/plain": [
       "(0.016595985298275374, 0.07983022268736555)"
      ]
     },
     "execution_count": 16,
     "metadata": {},
     "output_type": "execute_result"
    }
   ],
   "source": [
    "fpr = cm[0][1]/cm[0].sum()\n",
    "fnr = cm[1][0]/cm[1].sum()\n",
    "fpr,fnr"
   ]
  },
  {
   "cell_type": "code",
   "execution_count": 17,
   "metadata": {},
   "outputs": [
    {
     "data": {
      "text/plain": [
       "40.081071196665526"
      ]
     },
     "execution_count": 17,
     "metadata": {},
     "output_type": "execute_result"
    }
   ],
   "source": [
    "fpr*10+fnr*500"
   ]
  },
  {
   "cell_type": "code",
   "execution_count": 20,
   "metadata": {},
   "outputs": [
    {
     "data": {
      "text/plain": [
       "5883.059027183321"
      ]
     },
     "execution_count": 20,
     "metadata": {},
     "output_type": "execute_result"
    }
   ],
   "source": [
    "cm[0][1]*10+cm[1][0]*500 / len(y)"
   ]
  },
  {
   "cell_type": "code",
   "execution_count": 19,
   "metadata": {},
   "outputs": [
    {
     "data": {
      "text/plain": [
       "(52569, 52569)"
      ]
     },
     "execution_count": 19,
     "metadata": {},
     "output_type": "execute_result"
    }
   ],
   "source": [
    "len(Xpca), len(y)"
   ]
  },
  {
   "cell_type": "code",
   "execution_count": 4,
   "metadata": {},
   "outputs": [],
   "source": [
    "df = pd.read_pickle('Cleaned Trucks Data.pickle')\n",
    "df.drop('90',axis=1,inplace=True)\n",
    "X = df.loc[:,'1':]\n",
    "y = df[['class']]"
   ]
  },
  {
   "cell_type": "code",
   "execution_count": 5,
   "metadata": {},
   "outputs": [],
   "source": [
    "X_train, X_test, y_train, y_test = train_test_split(X, y, test_size=0.2,stratify=y, random_state=42)"
   ]
  },
  {
   "cell_type": "code",
   "execution_count": 6,
   "metadata": {},
   "outputs": [
    {
     "data": {
      "text/plain": [
       "((48000, 169), (48000, 1), (12000, 169), (12000, 1))"
      ]
     },
     "execution_count": 6,
     "metadata": {},
     "output_type": "execute_result"
    }
   ],
   "source": [
    "X_train.shape, y_train.shape, X_test.shape, y_test.shape"
   ]
  },
  {
   "cell_type": "code",
   "execution_count": 5,
   "metadata": {},
   "outputs": [],
   "source": [
    "def score_func(y, y_pred):\n",
    "    cm = confusion_matrix(y,y_pred)\n",
    "    score = (cm[0][1]*10+cm[1][0]*500) / cm.sum()\n",
    "    return score"
   ]
  },
  {
   "cell_type": "code",
   "execution_count": 29,
   "metadata": {},
   "outputs": [
    {
     "name": "stdout",
     "output_type": "stream",
     "text": [
      "[Pipeline] ................. (step 1 of 5) Processing i, total=   1.9s\n",
      "[Pipeline] ................. (step 2 of 5) Processing o, total= 2.6min\n",
      "[Pipeline] ................. (step 3 of 5) Processing s, total=   0.4s\n",
      "[Pipeline] ................. (step 4 of 5) Processing p, total=   3.8s\n",
      "[Pipeline] ................. (step 5 of 5) Processing m, total=  36.4s\n",
      "(0.773125, 0.7941666666666667, 'median', 0.9, 0.5, 1, 5, 0.001, 0, 0.5)\n",
      "[Pipeline] ................. (step 5 of 5) Processing m, total=  49.3s\n",
      "(0.7160416666666667, 0.72, 'median', 0.9, 0.5, 1, 5, 0.001, 0, 0.7)\n",
      "[Pipeline] ................. (step 5 of 5) Processing m, total= 1.1min\n",
      "(0.7316666666666667, 0.7025, 'median', 0.9, 0.5, 1, 5, 0.001, 0, 0.9)\n",
      "[Pipeline] ................. (step 5 of 5) Processing m, total= 1.1min\n",
      "(0.7552083333333334, 0.785, 'median', 0.9, 0.5, 1, 5, 0.001, 0, 1)\n",
      "[Pipeline] ................. (step 5 of 5) Processing m, total=  39.2s\n",
      "(0.773125, 0.7941666666666667, 'median', 0.9, 0.5, 1, 5, 0.001, 0.4, 0.5)\n",
      "[Pipeline] ................. (step 5 of 5) Processing m, total=  52.5s\n",
      "(0.7160416666666667, 0.72, 'median', 0.9, 0.5, 1, 5, 0.001, 0.4, 0.7)\n",
      "[Pipeline] ................. (step 5 of 5) Processing m, total= 1.1min\n",
      "(0.7316666666666667, 0.7025, 'median', 0.9, 0.5, 1, 5, 0.001, 0.4, 0.9)\n",
      "[Pipeline] ................. (step 5 of 5) Processing m, total= 1.4min\n",
      "(0.7552083333333334, 0.785, 'median', 0.9, 0.5, 1, 5, 0.001, 0.4, 1)\n",
      "[Pipeline] ................. (step 5 of 5) Processing m, total=  52.9s\n",
      "(0.773125, 0.7941666666666667, 'median', 0.9, 0.5, 1, 5, 0.001, 1, 0.5)\n",
      "[Pipeline] ................. (step 5 of 5) Processing m, total= 1.0min\n",
      "(0.7160416666666667, 0.72, 'median', 0.9, 0.5, 1, 5, 0.001, 1, 0.7)\n",
      "[Pipeline] ................. (step 5 of 5) Processing m, total= 1.1min\n",
      "(0.7316666666666667, 0.7033333333333334, 'median', 0.9, 0.5, 1, 5, 0.001, 1, 0.9)\n",
      "[Pipeline] ................. (step 5 of 5) Processing m, total= 1.3min\n",
      "(0.7554166666666666, 0.785, 'median', 0.9, 0.5, 1, 5, 0.001, 1, 1)\n",
      "[Pipeline] ................. (step 5 of 5) Processing m, total=  42.8s\n",
      "(0.7729166666666667, 0.7941666666666667, 'median', 0.9, 0.5, 1, 5, 0.001, 5, 0.5)\n",
      "[Pipeline] ................. (step 5 of 5) Processing m, total=  55.6s\n",
      "(0.7170833333333333, 0.7191666666666666, 'median', 0.9, 0.5, 1, 5, 0.001, 5, 0.7)\n",
      "[Pipeline] ................. (step 5 of 5) Processing m, total= 1.1min\n",
      "(0.7316666666666667, 0.7025, 'median', 0.9, 0.5, 1, 5, 0.001, 5, 0.9)\n",
      "[Pipeline] ................. (step 5 of 5) Processing m, total= 1.3min\n",
      "(0.7558333333333334, 0.785, 'median', 0.9, 0.5, 1, 5, 0.001, 5, 1)\n",
      "[Pipeline] ................. (step 5 of 5) Processing m, total=  41.3s\n",
      "(0.6004166666666667, 0.8391666666666666, 'median', 0.9, 0.5, 1, 5, 0.01, 0, 0.5)\n",
      "[Pipeline] ................. (step 5 of 5) Processing m, total=  54.5s\n",
      "(0.5483333333333333, 0.7508333333333334, 'median', 0.9, 0.5, 1, 5, 0.01, 0, 0.7)\n",
      "[Pipeline] ................. (step 5 of 5) Processing m, total= 1.1min\n",
      "(0.5422916666666666, 0.7491666666666666, 'median', 0.9, 0.5, 1, 5, 0.01, 0, 0.9)\n",
      "[Pipeline] ................. (step 5 of 5) Processing m, total= 1.2min\n",
      "(0.5539583333333333, 0.7541666666666667, 'median', 0.9, 0.5, 1, 5, 0.01, 0, 1)\n",
      "[Pipeline] ................. (step 5 of 5) Processing m, total=  41.7s\n",
      "(0.6020833333333333, 0.8408333333333333, 'median', 0.9, 0.5, 1, 5, 0.01, 0.4, 0.5)\n",
      "[Pipeline] ................. (step 5 of 5) Processing m, total=  54.9s\n",
      "(0.5485416666666667, 0.7508333333333334, 'median', 0.9, 0.5, 1, 5, 0.01, 0.4, 0.7)\n",
      "[Pipeline] ................. (step 5 of 5) Processing m, total= 1.1min\n",
      "(0.5439583333333333, 0.7475, 'median', 0.9, 0.5, 1, 5, 0.01, 0.4, 0.9)\n",
      "[Pipeline] ................. (step 5 of 5) Processing m, total= 1.2min\n",
      "(0.55375, 0.755, 'median', 0.9, 0.5, 1, 5, 0.01, 0.4, 1)\n",
      "[Pipeline] ................. (step 5 of 5) Processing m, total=  41.1s\n",
      "(0.6022916666666667, 0.8425, 'median', 0.9, 0.5, 1, 5, 0.01, 1, 0.5)\n",
      "[Pipeline] ................. (step 5 of 5) Processing m, total=  54.6s\n",
      "(0.5585416666666667, 0.7916666666666666, 'median', 0.9, 0.5, 1, 5, 0.01, 1, 0.7)\n",
      "[Pipeline] ................. (step 5 of 5) Processing m, total= 1.1min\n",
      "(0.5533333333333333, 0.7475, 'median', 0.9, 0.5, 1, 5, 0.01, 1, 0.9)\n",
      "[Pipeline] ................. (step 5 of 5) Processing m, total= 1.2min\n",
      "(0.5527083333333334, 0.755, 'median', 0.9, 0.5, 1, 5, 0.01, 1, 1)\n",
      "[Pipeline] ................. (step 5 of 5) Processing m, total=  45.2s\n",
      "(0.6025, 0.8383333333333334, 'median', 0.9, 0.5, 1, 5, 0.01, 5, 0.5)\n",
      "[Pipeline] ................. (step 5 of 5) Processing m, total=  59.5s\n",
      "(0.56, 0.7916666666666666, 'median', 0.9, 0.5, 1, 5, 0.01, 5, 0.7)\n",
      "[Pipeline] ................. (step 5 of 5) Processing m, total= 1.2min\n",
      "(0.5545833333333333, 0.7491666666666666, 'median', 0.9, 0.5, 1, 5, 0.01, 5, 0.9)\n",
      "[Pipeline] ................. (step 5 of 5) Processing m, total= 1.4min\n",
      "(0.5539583333333333, 0.7125, 'median', 0.9, 0.5, 1, 5, 0.01, 5, 1)\n",
      "[Pipeline] ................. (step 5 of 5) Processing m, total=  48.3s\n",
      "(0.07020833333333333, 1.0683333333333334, 'median', 0.9, 0.5, 1, 5, 0.1, 0, 0.5)\n",
      "[Pipeline] ................. (step 5 of 5) Processing m, total= 1.0min\n",
      "(0.065625, 1.0691666666666666, 'median', 0.9, 0.5, 1, 5, 0.1, 0, 0.7)\n",
      "[Pipeline] ................. (step 5 of 5) Processing m, total= 1.2min\n",
      "(0.060625, 0.9766666666666667, 'median', 0.9, 0.5, 1, 5, 0.1, 0, 0.9)\n",
      "[Pipeline] ................. (step 5 of 5) Processing m, total= 1.4min\n",
      "(0.058541666666666665, 1.1008333333333333, 'median', 0.9, 0.5, 1, 5, 0.1, 0, 1)\n",
      "[Pipeline] ................. (step 5 of 5) Processing m, total=  47.4s\n",
      "(0.07916666666666666, 0.8891666666666667, 'median', 0.9, 0.5, 1, 5, 0.1, 0.4, 0.5)\n",
      "[Pipeline] ................. (step 5 of 5) Processing m, total= 1.0min\n",
      "(0.06520833333333333, 1.0216666666666667, 'median', 0.9, 0.5, 1, 5, 0.1, 0.4, 0.7)\n",
      "[Pipeline] ................. (step 5 of 5) Processing m, total= 1.4min\n",
      "(0.059583333333333335, 1.0616666666666668, 'median', 0.9, 0.5, 1, 5, 0.1, 0.4, 0.9)\n",
      "[Pipeline] ................. (step 5 of 5) Processing m, total= 1.6min\n",
      "(0.058541666666666665, 0.9766666666666667, 'median', 0.9, 0.5, 1, 5, 0.1, 0.4, 1)\n",
      "[Pipeline] ................. (step 5 of 5) Processing m, total=  51.1s\n",
      "(0.07416666666666667, 0.9091666666666667, 'median', 0.9, 0.5, 1, 5, 0.1, 1, 0.5)\n",
      "[Pipeline] ................. (step 5 of 5) Processing m, total= 1.1min\n",
      "(0.065625, 1.0633333333333332, 'median', 0.9, 0.5, 1, 5, 0.1, 1, 0.7)\n",
      "[Pipeline] ................. (step 5 of 5) Processing m, total= 1.5min\n",
      "(0.06229166666666667, 0.8558333333333333, 'median', 0.9, 0.5, 1, 5, 0.1, 1, 0.9)\n",
      "[Pipeline] ................. (step 5 of 5) Processing m, total= 1.6min\n",
      "(0.058958333333333335, 0.9783333333333334, 'median', 0.9, 0.5, 1, 5, 0.1, 1, 1)\n",
      "[Pipeline] ................. (step 5 of 5) Processing m, total=  57.6s\n",
      "(0.11979166666666667, 0.8725, 'median', 0.9, 0.5, 1, 5, 0.1, 5, 0.5)\n",
      "[Pipeline] ................. (step 5 of 5) Processing m, total= 1.0min\n",
      "(0.1, 0.8691666666666666, 'median', 0.9, 0.5, 1, 5, 0.1, 5, 0.7)\n",
      "[Pipeline] ................. (step 5 of 5) Processing m, total= 1.3min\n",
      "(0.10479166666666667, 0.8283333333333334, 'median', 0.9, 0.5, 1, 5, 0.1, 5, 0.9)\n",
      "[Pipeline] ................. (step 5 of 5) Processing m, total= 1.5min\n",
      "(0.115, 0.8266666666666667, 'median', 0.9, 0.5, 1, 5, 0.1, 5, 1)\n",
      "[Pipeline] ................. (step 5 of 5) Processing m, total=  46.0s\n",
      "(0.02125, 1.11, 'median', 0.9, 0.5, 1, 5, 0.5, 0, 0.5)\n",
      "[Pipeline] ................. (step 5 of 5) Processing m, total=  52.6s\n",
      "(0.02125, 1.2391666666666667, 'median', 0.9, 0.5, 1, 5, 0.5, 0, 0.7)\n",
      "[Pipeline] ................. (step 5 of 5) Processing m, total= 1.0min\n",
      "(0.021458333333333333, 1.3566666666666667, 'median', 0.9, 0.5, 1, 5, 0.5, 0, 0.9)\n",
      "[Pipeline] ................. (step 5 of 5) Processing m, total= 1.1min\n",
      "(0.021458333333333333, 1.3141666666666667, 'median', 0.9, 0.5, 1, 5, 0.5, 0, 1)\n",
      "[Pipeline] ................. (step 5 of 5) Processing m, total=  39.6s\n",
      "(0.021666666666666667, 1.4991666666666668, 'median', 0.9, 0.5, 1, 5, 0.5, 0.4, 0.5)\n",
      "[Pipeline] ................. (step 5 of 5) Processing m, total=  52.8s\n",
      "(0.021458333333333333, 1.3216666666666668, 'median', 0.9, 0.5, 1, 5, 0.5, 0.4, 0.7)\n",
      "[Pipeline] ................. (step 5 of 5) Processing m, total= 1.1min\n"
     ]
    },
    {
     "name": "stdout",
     "output_type": "stream",
     "text": [
      "(0.02125, 1.245, 'median', 0.9, 0.5, 1, 5, 0.5, 0.4, 0.9)\n",
      "[Pipeline] ................. (step 5 of 5) Processing m, total= 1.2min\n",
      "(0.021875, 1.4816666666666667, 'median', 0.9, 0.5, 1, 5, 0.5, 0.4, 1)\n",
      "[Pipeline] ................. (step 5 of 5) Processing m, total=  40.2s\n",
      "(0.031875, 1.4541666666666666, 'median', 0.9, 0.5, 1, 5, 0.5, 1, 0.5)\n",
      "[Pipeline] ................. (step 5 of 5) Processing m, total=  52.9s\n",
      "(0.03166666666666667, 1.4558333333333333, 'median', 0.9, 0.5, 1, 5, 0.5, 1, 0.7)\n",
      "[Pipeline] ................. (step 5 of 5) Processing m, total= 1.4min\n",
      "(0.031875, 1.1566666666666667, 'median', 0.9, 0.5, 1, 5, 0.5, 1, 0.9)\n",
      "[Pipeline] ................. (step 5 of 5) Processing m, total= 1.5min\n",
      "(0.03208333333333333, 1.3691666666666666, 'median', 0.9, 0.5, 1, 5, 0.5, 1, 1)\n",
      "[Pipeline] ................. (step 5 of 5) Processing m, total=  41.2s\n",
      "(0.06479166666666666, 1.4366666666666668, 'median', 0.9, 0.5, 1, 5, 0.5, 5, 0.5)\n",
      "[Pipeline] ................. (step 5 of 5) Processing m, total=  54.3s\n",
      "(0.08208333333333333, 1.0325, 'median', 0.9, 0.5, 1, 5, 0.5, 5, 0.7)\n",
      "[Pipeline] ................. (step 5 of 5) Processing m, total= 1.1min\n",
      "(0.05979166666666667, 1.1766666666666667, 'median', 0.9, 0.5, 1, 5, 0.5, 5, 0.9)\n",
      "[Pipeline] ................. (step 5 of 5) Processing m, total= 1.2min\n",
      "(0.07979166666666666, 1.3966666666666667, 'median', 0.9, 0.5, 1, 5, 0.5, 5, 1)\n",
      "[Pipeline] ................. (step 5 of 5) Processing m, total= 1.4min\n",
      "(0.4170833333333333, 0.8475, 'median', 0.9, 0.5, 1, 10, 0.001, 0, 0.5)\n",
      "[Pipeline] ................. (step 5 of 5) Processing m, total= 1.8min\n",
      "(0.380625, 0.875, 'median', 0.9, 0.5, 1, 10, 0.001, 0, 0.7)\n",
      "[Pipeline] ................. (step 5 of 5) Processing m, total= 2.3min\n",
      "(0.369375, 0.8283333333333334, 'median', 0.9, 0.5, 1, 10, 0.001, 0, 0.9)\n",
      "[Pipeline] ................. (step 5 of 5) Processing m, total= 2.4min\n",
      "(0.36354166666666665, 0.9158333333333334, 'median', 0.9, 0.5, 1, 10, 0.001, 0, 1)\n",
      "[Pipeline] ................. (step 5 of 5) Processing m, total= 1.4min\n",
      "(0.416875, 0.8466666666666667, 'median', 0.9, 0.5, 1, 10, 0.001, 0.4, 0.5)\n",
      "[Pipeline] ................. (step 5 of 5) Processing m, total= 1.9min\n",
      "(0.380625, 0.8333333333333334, 'median', 0.9, 0.5, 1, 10, 0.001, 0.4, 0.7)\n",
      "[Pipeline] ................. (step 5 of 5) Processing m, total= 2.3min\n",
      "(0.3697916666666667, 0.8291666666666667, 'median', 0.9, 0.5, 1, 10, 0.001, 0.4, 0.9)\n",
      "[Pipeline] ................. (step 5 of 5) Processing m, total= 2.5min\n",
      "(0.36395833333333333, 0.9166666666666666, 'median', 0.9, 0.5, 1, 10, 0.001, 0.4, 1)\n",
      "[Pipeline] ................. (step 5 of 5) Processing m, total= 1.4min\n",
      "(0.4075, 0.8483333333333334, 'median', 0.9, 0.5, 1, 10, 0.001, 1, 0.5)\n",
      "[Pipeline] ................. (step 5 of 5) Processing m, total= 2.2min\n",
      "(0.38166666666666665, 0.8333333333333334, 'median', 0.9, 0.5, 1, 10, 0.001, 1, 0.7)\n",
      "[Pipeline] ................. (step 5 of 5) Processing m, total= 2.5min\n",
      "(0.3697916666666667, 0.83, 'median', 0.9, 0.5, 1, 10, 0.001, 1, 0.9)\n",
      "[Pipeline] ................. (step 5 of 5) Processing m, total= 2.8min\n",
      "(0.3641666666666667, 0.9166666666666666, 'median', 0.9, 0.5, 1, 10, 0.001, 1, 1)\n",
      "[Pipeline] ................. (step 5 of 5) Processing m, total= 1.5min\n",
      "(0.4266666666666667, 0.8533333333333334, 'median', 0.9, 0.5, 1, 10, 0.001, 5, 0.5)\n",
      "[Pipeline] ................. (step 5 of 5) Processing m, total= 2.4min\n",
      "(0.39, 0.835, 'median', 0.9, 0.5, 1, 10, 0.001, 5, 0.7)\n",
      "[Pipeline] ................. (step 5 of 5) Processing m, total= 2.7min\n",
      "(0.37958333333333333, 0.7966666666666666, 'median', 0.9, 0.5, 1, 10, 0.001, 5, 0.9)\n",
      "[Pipeline] ................. (step 5 of 5) Processing m, total= 2.8min\n",
      "(0.3725, 0.88, 'median', 0.9, 0.5, 1, 10, 0.001, 5, 1)\n",
      "[Pipeline] ................. (step 5 of 5) Processing m, total= 1.5min\n",
      "(0.19666666666666666, 0.84, 'median', 0.9, 0.5, 1, 10, 0.01, 0, 0.5)\n",
      "[Pipeline] ................. (step 5 of 5) Processing m, total= 2.7min\n",
      "(0.17270833333333332, 0.7883333333333333, 'median', 0.9, 0.5, 1, 10, 0.01, 0, 0.7)\n",
      "[Pipeline] ................. (step 5 of 5) Processing m, total= 2.9min\n",
      "(0.17833333333333334, 0.9166666666666666, 'median', 0.9, 0.5, 1, 10, 0.01, 0, 0.9)\n",
      "[Pipeline] ................. (step 5 of 5) Processing m, total= 2.7min\n",
      "(0.18104166666666666, 0.9133333333333333, 'median', 0.9, 0.5, 1, 10, 0.01, 0, 1)\n",
      "[Pipeline] ................. (step 5 of 5) Processing m, total= 1.5min\n",
      "(0.19895833333333332, 0.7991666666666667, 'median', 0.9, 0.5, 1, 10, 0.01, 0.4, 0.5)\n",
      "[Pipeline] ................. (step 5 of 5) Processing m, total= 2.2min\n",
      "(0.18458333333333332, 0.7908333333333334, 'median', 0.9, 0.5, 1, 10, 0.01, 0.4, 0.7)\n",
      "[Pipeline] ................. (step 5 of 5) Processing m, total= 2.5min\n",
      "(0.18, 0.875, 'median', 0.9, 0.5, 1, 10, 0.01, 0.4, 0.9)\n",
      "[Pipeline] ................. (step 5 of 5) Processing m, total= 2.7min\n",
      "(0.18208333333333335, 0.9183333333333333, 'median', 0.9, 0.5, 1, 10, 0.01, 0.4, 1)\n",
      "[Pipeline] ................. (step 5 of 5) Processing m, total= 1.5min\n",
      "(0.20083333333333334, 0.8375, 'median', 0.9, 0.5, 1, 10, 0.01, 1, 0.5)\n",
      "[Pipeline] ................. (step 5 of 5) Processing m, total= 2.1min\n",
      "(0.1975, 0.7508333333333334, 'median', 0.9, 0.5, 1, 10, 0.01, 1, 0.7)\n",
      "[Pipeline] ................. (step 5 of 5) Processing m, total= 2.6min\n",
      "(0.18, 0.8725, 'median', 0.9, 0.5, 1, 10, 0.01, 1, 0.9)\n",
      "[Pipeline] ................. (step 5 of 5) Processing m, total= 2.7min\n",
      "(0.18354166666666666, 0.9191666666666667, 'median', 0.9, 0.5, 1, 10, 0.01, 1, 1)\n",
      "[Pipeline] ................. (step 5 of 5) Processing m, total= 1.5min\n",
      "(0.230625, 0.7275, 'median', 0.9, 0.5, 1, 10, 0.01, 5, 0.5)\n",
      "[Pipeline] ................. (step 5 of 5) Processing m, total= 2.0min\n",
      "(0.21229166666666666, 0.7591666666666667, 'median', 0.9, 0.5, 1, 10, 0.01, 5, 0.7)\n",
      "[Pipeline] ................. (step 5 of 5) Processing m, total= 2.5min\n",
      "(0.21395833333333333, 0.8916666666666667, 'median', 0.9, 0.5, 1, 10, 0.01, 5, 0.9)\n",
      "[Pipeline] ................. (step 5 of 5) Processing m, total= 2.6min\n",
      "(0.20458333333333334, 0.8908333333333334, 'median', 0.9, 0.5, 1, 10, 0.01, 5, 1)\n",
      "[Pipeline] ................. (step 5 of 5) Processing m, total= 1.2min\n",
      "(0.02125, 1.0716666666666668, 'median', 0.9, 0.5, 1, 10, 0.1, 0, 0.5)\n",
      "[Pipeline] ................. (step 5 of 5) Processing m, total= 1.6min\n",
      "(0.021458333333333333, 0.9441666666666667, 'median', 0.9, 0.5, 1, 10, 0.1, 0, 0.7)\n"
     ]
    },
    {
     "ename": "KeyboardInterrupt",
     "evalue": "",
     "output_type": "error",
     "traceback": [
      "\u001b[1;31m---------------------------------------------------------------------------\u001b[0m",
      "\u001b[1;31mKeyboardInterrupt\u001b[0m                         Traceback (most recent call last)",
      "\u001b[1;32m<ipython-input-29-7887f5a4e061>\u001b[0m in \u001b[0;36m<module>\u001b[1;34m\u001b[0m\n\u001b[0;32m     16\u001b[0m                                 \u001b[0mscorer\u001b[0m \u001b[1;33m=\u001b[0m \u001b[0mmake_scorer\u001b[0m\u001b[1;33m(\u001b[0m\u001b[0mscore_func\u001b[0m\u001b[1;33m)\u001b[0m\u001b[1;33m\u001b[0m\u001b[1;33m\u001b[0m\u001b[0m\n\u001b[0;32m     17\u001b[0m                                 \u001b[0mpipeline\u001b[0m \u001b[1;33m=\u001b[0m \u001b[0mImbPipeline\u001b[0m\u001b[1;33m(\u001b[0m\u001b[0msteps\u001b[0m\u001b[1;33m=\u001b[0m\u001b[1;33m[\u001b[0m\u001b[1;33m(\u001b[0m\u001b[1;34m'i'\u001b[0m\u001b[1;33m,\u001b[0m \u001b[0mimputer\u001b[0m\u001b[1;33m)\u001b[0m\u001b[1;33m,\u001b[0m\u001b[1;33m(\u001b[0m\u001b[1;34m'o'\u001b[0m\u001b[1;33m,\u001b[0m\u001b[0moversampling\u001b[0m\u001b[1;33m)\u001b[0m\u001b[1;33m,\u001b[0m\u001b[1;33m(\u001b[0m\u001b[1;34m's'\u001b[0m\u001b[1;33m,\u001b[0m \u001b[0mscaler\u001b[0m\u001b[1;33m)\u001b[0m\u001b[1;33m,\u001b[0m\u001b[1;33m(\u001b[0m\u001b[1;34m'p'\u001b[0m\u001b[1;33m,\u001b[0m \u001b[0mpca\u001b[0m\u001b[1;33m)\u001b[0m\u001b[1;33m,\u001b[0m \u001b[1;33m(\u001b[0m\u001b[1;34m'm'\u001b[0m\u001b[1;33m,\u001b[0m \u001b[0mmodel\u001b[0m\u001b[1;33m)\u001b[0m\u001b[1;33m]\u001b[0m\u001b[1;33m,\u001b[0m\u001b[0mverbose\u001b[0m\u001b[1;33m=\u001b[0m\u001b[1;32mTrue\u001b[0m\u001b[1;33m,\u001b[0m\u001b[0mmemory\u001b[0m\u001b[1;33m=\u001b[0m\u001b[0mcachedir\u001b[0m\u001b[1;33m)\u001b[0m\u001b[1;33m\u001b[0m\u001b[1;33m\u001b[0m\u001b[0m\n\u001b[1;32m---> 18\u001b[1;33m                                 \u001b[0mpipeline\u001b[0m\u001b[1;33m.\u001b[0m\u001b[0mfit\u001b[0m\u001b[1;33m(\u001b[0m\u001b[0mX_train\u001b[0m\u001b[1;33m,\u001b[0m\u001b[0my_train\u001b[0m\u001b[1;33m.\u001b[0m\u001b[0mvalues\u001b[0m\u001b[1;33m.\u001b[0m\u001b[0mravel\u001b[0m\u001b[1;33m(\u001b[0m\u001b[1;33m)\u001b[0m\u001b[1;33m)\u001b[0m\u001b[1;33m\u001b[0m\u001b[1;33m\u001b[0m\u001b[0m\n\u001b[0m\u001b[0;32m     19\u001b[0m                                 \u001b[0mtrainscore\u001b[0m \u001b[1;33m=\u001b[0m \u001b[0mscore_func\u001b[0m\u001b[1;33m(\u001b[0m\u001b[0my_train\u001b[0m\u001b[1;33m,\u001b[0m\u001b[0mpipeline\u001b[0m\u001b[1;33m.\u001b[0m\u001b[0mpredict\u001b[0m\u001b[1;33m(\u001b[0m\u001b[0mX_train\u001b[0m\u001b[1;33m)\u001b[0m\u001b[1;33m)\u001b[0m\u001b[1;33m\u001b[0m\u001b[1;33m\u001b[0m\u001b[0m\n\u001b[0;32m     20\u001b[0m                                 \u001b[0mtestscore\u001b[0m \u001b[1;33m=\u001b[0m \u001b[0mscore_func\u001b[0m\u001b[1;33m(\u001b[0m\u001b[0my_test\u001b[0m\u001b[1;33m,\u001b[0m\u001b[0mpipeline\u001b[0m\u001b[1;33m.\u001b[0m\u001b[0mpredict\u001b[0m\u001b[1;33m(\u001b[0m\u001b[0mX_test\u001b[0m\u001b[1;33m)\u001b[0m\u001b[1;33m)\u001b[0m\u001b[1;33m\u001b[0m\u001b[1;33m\u001b[0m\u001b[0m\n",
      "\u001b[1;32mc:\\users\\hari\\anaconda3\\lib\\site-packages\\imblearn\\pipeline.py\u001b[0m in \u001b[0;36mfit\u001b[1;34m(self, X, y, **fit_params)\u001b[0m\n\u001b[0;32m    279\u001b[0m                                  self._log_message(len(self.steps) - 1)):\n\u001b[0;32m    280\u001b[0m             \u001b[1;32mif\u001b[0m \u001b[0mself\u001b[0m\u001b[1;33m.\u001b[0m\u001b[0m_final_estimator\u001b[0m \u001b[1;33m!=\u001b[0m \u001b[1;34m\"passthrough\"\u001b[0m\u001b[1;33m:\u001b[0m\u001b[1;33m\u001b[0m\u001b[1;33m\u001b[0m\u001b[0m\n\u001b[1;32m--> 281\u001b[1;33m                 \u001b[0mself\u001b[0m\u001b[1;33m.\u001b[0m\u001b[0m_final_estimator\u001b[0m\u001b[1;33m.\u001b[0m\u001b[0mfit\u001b[0m\u001b[1;33m(\u001b[0m\u001b[0mXt\u001b[0m\u001b[1;33m,\u001b[0m \u001b[0myt\u001b[0m\u001b[1;33m,\u001b[0m \u001b[1;33m**\u001b[0m\u001b[0mfit_params\u001b[0m\u001b[1;33m)\u001b[0m\u001b[1;33m\u001b[0m\u001b[1;33m\u001b[0m\u001b[0m\n\u001b[0m\u001b[0;32m    282\u001b[0m         \u001b[1;32mreturn\u001b[0m \u001b[0mself\u001b[0m\u001b[1;33m\u001b[0m\u001b[1;33m\u001b[0m\u001b[0m\n\u001b[0;32m    283\u001b[0m \u001b[1;33m\u001b[0m\u001b[0m\n",
      "\u001b[1;32mc:\\users\\hari\\anaconda3\\lib\\site-packages\\xgboost\\sklearn.py\u001b[0m in \u001b[0;36mfit\u001b[1;34m(self, X, y, sample_weight, base_margin, eval_set, eval_metric, early_stopping_rounds, verbose, xgb_model, sample_weight_eval_set, callbacks)\u001b[0m\n\u001b[0;32m    832\u001b[0m                               \u001b[0mevals_result\u001b[0m\u001b[1;33m=\u001b[0m\u001b[0mevals_result\u001b[0m\u001b[1;33m,\u001b[0m \u001b[0mobj\u001b[0m\u001b[1;33m=\u001b[0m\u001b[0mobj\u001b[0m\u001b[1;33m,\u001b[0m \u001b[0mfeval\u001b[0m\u001b[1;33m=\u001b[0m\u001b[0mfeval\u001b[0m\u001b[1;33m,\u001b[0m\u001b[1;33m\u001b[0m\u001b[1;33m\u001b[0m\u001b[0m\n\u001b[0;32m    833\u001b[0m                               \u001b[0mverbose_eval\u001b[0m\u001b[1;33m=\u001b[0m\u001b[0mverbose\u001b[0m\u001b[1;33m,\u001b[0m \u001b[0mxgb_model\u001b[0m\u001b[1;33m=\u001b[0m\u001b[0mxgb_model\u001b[0m\u001b[1;33m,\u001b[0m\u001b[1;33m\u001b[0m\u001b[1;33m\u001b[0m\u001b[0m\n\u001b[1;32m--> 834\u001b[1;33m                               callbacks=callbacks)\n\u001b[0m\u001b[0;32m    835\u001b[0m \u001b[1;33m\u001b[0m\u001b[0m\n\u001b[0;32m    836\u001b[0m         \u001b[0mself\u001b[0m\u001b[1;33m.\u001b[0m\u001b[0mobjective\u001b[0m \u001b[1;33m=\u001b[0m \u001b[0mxgb_options\u001b[0m\u001b[1;33m[\u001b[0m\u001b[1;34m\"objective\"\u001b[0m\u001b[1;33m]\u001b[0m\u001b[1;33m\u001b[0m\u001b[1;33m\u001b[0m\u001b[0m\n",
      "\u001b[1;32mc:\\users\\hari\\anaconda3\\lib\\site-packages\\xgboost\\training.py\u001b[0m in \u001b[0;36mtrain\u001b[1;34m(params, dtrain, num_boost_round, evals, obj, feval, maximize, early_stopping_rounds, evals_result, verbose_eval, xgb_model, callbacks)\u001b[0m\n\u001b[0;32m    210\u001b[0m                            \u001b[0mevals\u001b[0m\u001b[1;33m=\u001b[0m\u001b[0mevals\u001b[0m\u001b[1;33m,\u001b[0m\u001b[1;33m\u001b[0m\u001b[1;33m\u001b[0m\u001b[0m\n\u001b[0;32m    211\u001b[0m                            \u001b[0mobj\u001b[0m\u001b[1;33m=\u001b[0m\u001b[0mobj\u001b[0m\u001b[1;33m,\u001b[0m \u001b[0mfeval\u001b[0m\u001b[1;33m=\u001b[0m\u001b[0mfeval\u001b[0m\u001b[1;33m,\u001b[0m\u001b[1;33m\u001b[0m\u001b[1;33m\u001b[0m\u001b[0m\n\u001b[1;32m--> 212\u001b[1;33m                            xgb_model=xgb_model, callbacks=callbacks)\n\u001b[0m\u001b[0;32m    213\u001b[0m \u001b[1;33m\u001b[0m\u001b[0m\n\u001b[0;32m    214\u001b[0m \u001b[1;33m\u001b[0m\u001b[0m\n",
      "\u001b[1;32mc:\\users\\hari\\anaconda3\\lib\\site-packages\\xgboost\\training.py\u001b[0m in \u001b[0;36m_train_internal\u001b[1;34m(params, dtrain, num_boost_round, evals, obj, feval, xgb_model, callbacks)\u001b[0m\n\u001b[0;32m     73\u001b[0m         \u001b[1;31m# Skip the first update if it is a recovery step.\u001b[0m\u001b[1;33m\u001b[0m\u001b[1;33m\u001b[0m\u001b[1;33m\u001b[0m\u001b[0m\n\u001b[0;32m     74\u001b[0m         \u001b[1;32mif\u001b[0m \u001b[0mversion\u001b[0m \u001b[1;33m%\u001b[0m \u001b[1;36m2\u001b[0m \u001b[1;33m==\u001b[0m \u001b[1;36m0\u001b[0m\u001b[1;33m:\u001b[0m\u001b[1;33m\u001b[0m\u001b[1;33m\u001b[0m\u001b[0m\n\u001b[1;32m---> 75\u001b[1;33m             \u001b[0mbst\u001b[0m\u001b[1;33m.\u001b[0m\u001b[0mupdate\u001b[0m\u001b[1;33m(\u001b[0m\u001b[0mdtrain\u001b[0m\u001b[1;33m,\u001b[0m \u001b[0mi\u001b[0m\u001b[1;33m,\u001b[0m \u001b[0mobj\u001b[0m\u001b[1;33m)\u001b[0m\u001b[1;33m\u001b[0m\u001b[1;33m\u001b[0m\u001b[0m\n\u001b[0m\u001b[0;32m     76\u001b[0m             \u001b[0mbst\u001b[0m\u001b[1;33m.\u001b[0m\u001b[0msave_rabit_checkpoint\u001b[0m\u001b[1;33m(\u001b[0m\u001b[1;33m)\u001b[0m\u001b[1;33m\u001b[0m\u001b[1;33m\u001b[0m\u001b[0m\n\u001b[0;32m     77\u001b[0m             \u001b[0mversion\u001b[0m \u001b[1;33m+=\u001b[0m \u001b[1;36m1\u001b[0m\u001b[1;33m\u001b[0m\u001b[1;33m\u001b[0m\u001b[0m\n",
      "\u001b[1;32mc:\\users\\hari\\anaconda3\\lib\\site-packages\\xgboost\\core.py\u001b[0m in \u001b[0;36mupdate\u001b[1;34m(self, dtrain, iteration, fobj)\u001b[0m\n\u001b[0;32m   1159\u001b[0m             _check_call(_LIB.XGBoosterUpdateOneIter(self.handle,\n\u001b[0;32m   1160\u001b[0m                                                     \u001b[0mctypes\u001b[0m\u001b[1;33m.\u001b[0m\u001b[0mc_int\u001b[0m\u001b[1;33m(\u001b[0m\u001b[0miteration\u001b[0m\u001b[1;33m)\u001b[0m\u001b[1;33m,\u001b[0m\u001b[1;33m\u001b[0m\u001b[1;33m\u001b[0m\u001b[0m\n\u001b[1;32m-> 1161\u001b[1;33m                                                     dtrain.handle))\n\u001b[0m\u001b[0;32m   1162\u001b[0m         \u001b[1;32melse\u001b[0m\u001b[1;33m:\u001b[0m\u001b[1;33m\u001b[0m\u001b[1;33m\u001b[0m\u001b[0m\n\u001b[0;32m   1163\u001b[0m             \u001b[0mpred\u001b[0m \u001b[1;33m=\u001b[0m \u001b[0mself\u001b[0m\u001b[1;33m.\u001b[0m\u001b[0mpredict\u001b[0m\u001b[1;33m(\u001b[0m\u001b[0mdtrain\u001b[0m\u001b[1;33m,\u001b[0m \u001b[0moutput_margin\u001b[0m\u001b[1;33m=\u001b[0m\u001b[1;32mTrue\u001b[0m\u001b[1;33m,\u001b[0m \u001b[0mtraining\u001b[0m\u001b[1;33m=\u001b[0m\u001b[1;32mTrue\u001b[0m\u001b[1;33m)\u001b[0m\u001b[1;33m\u001b[0m\u001b[1;33m\u001b[0m\u001b[0m\n",
      "\u001b[1;31mKeyboardInterrupt\u001b[0m: "
     ]
    }
   ],
   "source": [
    "results = []\n",
    "cachedir = mkdtemp()\n",
    "for i in ['median','mean']:\n",
    "    for j in [0.9,0.95,0.99]:\n",
    "        for k in [0.5,0.7,0.9,1]:\n",
    "            for l in [1,3,5]:\n",
    "                for m in [5,10,15,20]:\n",
    "                    for n in [0.001,0.01,0.1,0.5]:\n",
    "                        for o in [0,0.4,1,5]:\n",
    "                            for p in [0.5,0.7,0.9,1]:                    \n",
    "                                imputer = SimpleImputer(strategy=i)#,IterativeImputer(random_state=42),KNNImputer()]\n",
    "                                scaler = StandardScaler()\n",
    "                                pca = PCA(n_components = j)\n",
    "                                model = XGBClassifier(subsample= k,n_estimators=300,min_child_weight=l,max_depth=m,learning_rate=n,gamma=o,colsample_bytree=p,n_jobs=-1,verbosity=1)\n",
    "                                oversampling = SMOTETomek(random_state=42)\n",
    "                                scorer = make_scorer(score_func)  \n",
    "                                pipeline = ImbPipeline(steps=[('i', imputer),('o',oversampling),('s', scaler),('p', pca), ('m', model)],verbose=True,memory=cachedir)\n",
    "                                pipeline.fit(X_train,y_train.values.ravel())\n",
    "                                trainscore = score_func(y_train,pipeline.predict(X_train))\n",
    "                                testscore = score_func(y_test,pipeline.predict(X_test))\n",
    "                                results.append((trainscore,testscore,i,j,k,l,m,n,o,p))\n",
    "                                print(results[-1])\n",
    "rmtree(cachedir)"
   ]
  },
  {
   "cell_type": "code",
   "execution_count": 33,
   "metadata": {},
   "outputs": [
    {
     "data": {
      "text/html": [
       "<div>\n",
       "<style scoped>\n",
       "    .dataframe tbody tr th:only-of-type {\n",
       "        vertical-align: middle;\n",
       "    }\n",
       "\n",
       "    .dataframe tbody tr th {\n",
       "        vertical-align: top;\n",
       "    }\n",
       "\n",
       "    .dataframe thead th {\n",
       "        text-align: right;\n",
       "    }\n",
       "</style>\n",
       "<table border=\"1\" class=\"dataframe\">\n",
       "  <thead>\n",
       "    <tr style=\"text-align: right;\">\n",
       "      <th></th>\n",
       "      <th>0</th>\n",
       "      <th>1</th>\n",
       "      <th>2</th>\n",
       "      <th>3</th>\n",
       "      <th>4</th>\n",
       "      <th>5</th>\n",
       "      <th>6</th>\n",
       "      <th>7</th>\n",
       "      <th>8</th>\n",
       "      <th>9</th>\n",
       "    </tr>\n",
       "  </thead>\n",
       "  <tbody>\n",
       "    <tr>\n",
       "      <th>14</th>\n",
       "      <td>0.731667</td>\n",
       "      <td>0.702500</td>\n",
       "      <td>median</td>\n",
       "      <td>0.9</td>\n",
       "      <td>0.5</td>\n",
       "      <td>1</td>\n",
       "      <td>5</td>\n",
       "      <td>0.001</td>\n",
       "      <td>5.0</td>\n",
       "      <td>0.9</td>\n",
       "    </tr>\n",
       "    <tr>\n",
       "      <th>2</th>\n",
       "      <td>0.731667</td>\n",
       "      <td>0.702500</td>\n",
       "      <td>median</td>\n",
       "      <td>0.9</td>\n",
       "      <td>0.5</td>\n",
       "      <td>1</td>\n",
       "      <td>5</td>\n",
       "      <td>0.001</td>\n",
       "      <td>0.0</td>\n",
       "      <td>0.9</td>\n",
       "    </tr>\n",
       "    <tr>\n",
       "      <th>6</th>\n",
       "      <td>0.731667</td>\n",
       "      <td>0.702500</td>\n",
       "      <td>median</td>\n",
       "      <td>0.9</td>\n",
       "      <td>0.5</td>\n",
       "      <td>1</td>\n",
       "      <td>5</td>\n",
       "      <td>0.001</td>\n",
       "      <td>0.4</td>\n",
       "      <td>0.9</td>\n",
       "    </tr>\n",
       "    <tr>\n",
       "      <th>10</th>\n",
       "      <td>0.731667</td>\n",
       "      <td>0.703333</td>\n",
       "      <td>median</td>\n",
       "      <td>0.9</td>\n",
       "      <td>0.5</td>\n",
       "      <td>1</td>\n",
       "      <td>5</td>\n",
       "      <td>0.001</td>\n",
       "      <td>1.0</td>\n",
       "      <td>0.9</td>\n",
       "    </tr>\n",
       "    <tr>\n",
       "      <th>31</th>\n",
       "      <td>0.553958</td>\n",
       "      <td>0.712500</td>\n",
       "      <td>median</td>\n",
       "      <td>0.9</td>\n",
       "      <td>0.5</td>\n",
       "      <td>1</td>\n",
       "      <td>5</td>\n",
       "      <td>0.010</td>\n",
       "      <td>5.0</td>\n",
       "      <td>1.0</td>\n",
       "    </tr>\n",
       "  </tbody>\n",
       "</table>\n",
       "</div>"
      ],
      "text/plain": [
       "           0         1       2    3    4  5  6      7    8    9\n",
       "14  0.731667  0.702500  median  0.9  0.5  1  5  0.001  5.0  0.9\n",
       "2   0.731667  0.702500  median  0.9  0.5  1  5  0.001  0.0  0.9\n",
       "6   0.731667  0.702500  median  0.9  0.5  1  5  0.001  0.4  0.9\n",
       "10  0.731667  0.703333  median  0.9  0.5  1  5  0.001  1.0  0.9\n",
       "31  0.553958  0.712500  median  0.9  0.5  1  5  0.010  5.0  1.0"
      ]
     },
     "execution_count": 33,
     "metadata": {},
     "output_type": "execute_result"
    }
   ],
   "source": [
    "pd.DataFrame(results).sort_values(1)[:5]"
   ]
  },
  {
   "cell_type": "code",
   "execution_count": 34,
   "metadata": {
    "scrolled": true
   },
   "outputs": [
    {
     "name": "stdout",
     "output_type": "stream",
     "text": [
      "[Pipeline] ................. (step 1 of 5) Processing i, total=   1.3s\n",
      "[Pipeline] ................. (step 2 of 5) Processing o, total= 2.6min\n",
      "[Pipeline] ................. (step 3 of 5) Processing s, total=   0.4s\n",
      "[Pipeline] ................. (step 4 of 5) Processing p, total=   3.7s\n",
      "[Pipeline] ................. (step 5 of 5) Processing m, total= 2.6min\n",
      "(0.363125, 0.8266666666666667, 'median', 0.9, 0.7, 1, 10, 0.001, 5, 0.9)\n",
      "[Pipeline] ................. (step 5 of 5) Processing m, total= 3.7min\n",
      "(0.23458333333333334, 1.0225, 'median', 0.9, 0.7, 1, 15, 0.001, 5, 0.9)\n",
      "[Pipeline] ................. (step 5 of 5) Processing m, total= 4.2min\n",
      "(0.21041666666666667, 1.0108333333333333, 'median', 0.9, 0.7, 1, 20, 0.001, 5, 0.9)\n",
      "[Pipeline] ................. (step 5 of 5) Processing m, total= 2.6min\n",
      "(0.36916666666666664, 0.95, 'median', 0.9, 0.7, 3, 10, 0.001, 5, 0.9)\n",
      "[Pipeline] ................. (step 5 of 5) Processing m, total= 3.4min\n",
      "(0.25666666666666665, 0.9516666666666667, 'median', 0.9, 0.7, 3, 15, 0.001, 5, 0.9)\n",
      "[Pipeline] ................. (step 5 of 5) Processing m, total= 3.8min\n",
      "(0.246875, 0.9425, 'median', 0.9, 0.7, 3, 20, 0.001, 5, 0.9)\n",
      "[Pipeline] ................. (step 5 of 5) Processing m, total= 2.6min\n",
      "(0.38916666666666666, 0.8391666666666666, 'median', 0.9, 0.7, 5, 10, 0.001, 5, 0.9)\n",
      "[Pipeline] ................. (step 5 of 5) Processing m, total= 3.3min\n",
      "(0.2889583333333333, 0.8875, 'median', 0.9, 0.7, 5, 15, 0.001, 5, 0.9)\n",
      "[Pipeline] ................. (step 5 of 5) Processing m, total= 3.5min\n",
      "(0.2839583333333333, 0.8841666666666667, 'median', 0.9, 0.7, 5, 20, 0.001, 5, 0.9)\n",
      "[Pipeline] ................. (step 5 of 5) Processing m, total= 3.0min\n",
      "(0.3647916666666667, 0.9391666666666667, 'median', 0.9, 0.9, 1, 10, 0.001, 5, 0.9)\n",
      "[Pipeline] ................. (step 5 of 5) Processing m, total= 4.3min\n",
      "(0.22895833333333335, 1.0483333333333333, 'median', 0.9, 0.9, 1, 15, 0.001, 5, 0.9)\n",
      "[Pipeline] ................. (step 5 of 5) Processing m, total= 5.1min\n",
      "(0.19770833333333335, 1.0691666666666666, 'median', 0.9, 0.9, 1, 20, 0.001, 5, 0.9)\n"
     ]
    },
    {
     "ename": "KeyboardInterrupt",
     "evalue": "",
     "output_type": "error",
     "traceback": [
      "\u001b[1;31m---------------------------------------------------------------------------\u001b[0m",
      "\u001b[1;31mKeyboardInterrupt\u001b[0m                         Traceback (most recent call last)",
      "\u001b[1;32m<ipython-input-34-aff9349da276>\u001b[0m in \u001b[0;36m<module>\u001b[1;34m\u001b[0m\n\u001b[0;32m     16\u001b[0m                                 \u001b[0mscorer\u001b[0m \u001b[1;33m=\u001b[0m \u001b[0mmake_scorer\u001b[0m\u001b[1;33m(\u001b[0m\u001b[0mscore_func\u001b[0m\u001b[1;33m)\u001b[0m\u001b[1;33m\u001b[0m\u001b[1;33m\u001b[0m\u001b[0m\n\u001b[0;32m     17\u001b[0m                                 \u001b[0mpipeline\u001b[0m \u001b[1;33m=\u001b[0m \u001b[0mImbPipeline\u001b[0m\u001b[1;33m(\u001b[0m\u001b[0msteps\u001b[0m\u001b[1;33m=\u001b[0m\u001b[1;33m[\u001b[0m\u001b[1;33m(\u001b[0m\u001b[1;34m'i'\u001b[0m\u001b[1;33m,\u001b[0m \u001b[0mimputer\u001b[0m\u001b[1;33m)\u001b[0m\u001b[1;33m,\u001b[0m\u001b[1;33m(\u001b[0m\u001b[1;34m'o'\u001b[0m\u001b[1;33m,\u001b[0m\u001b[0moversampling\u001b[0m\u001b[1;33m)\u001b[0m\u001b[1;33m,\u001b[0m\u001b[1;33m(\u001b[0m\u001b[1;34m's'\u001b[0m\u001b[1;33m,\u001b[0m \u001b[0mscaler\u001b[0m\u001b[1;33m)\u001b[0m\u001b[1;33m,\u001b[0m\u001b[1;33m(\u001b[0m\u001b[1;34m'p'\u001b[0m\u001b[1;33m,\u001b[0m \u001b[0mpca\u001b[0m\u001b[1;33m)\u001b[0m\u001b[1;33m,\u001b[0m \u001b[1;33m(\u001b[0m\u001b[1;34m'm'\u001b[0m\u001b[1;33m,\u001b[0m \u001b[0mmodel\u001b[0m\u001b[1;33m)\u001b[0m\u001b[1;33m]\u001b[0m\u001b[1;33m,\u001b[0m\u001b[0mverbose\u001b[0m\u001b[1;33m=\u001b[0m\u001b[1;32mTrue\u001b[0m\u001b[1;33m,\u001b[0m\u001b[0mmemory\u001b[0m\u001b[1;33m=\u001b[0m\u001b[0mcachedir\u001b[0m\u001b[1;33m)\u001b[0m\u001b[1;33m\u001b[0m\u001b[1;33m\u001b[0m\u001b[0m\n\u001b[1;32m---> 18\u001b[1;33m                                 \u001b[0mpipeline\u001b[0m\u001b[1;33m.\u001b[0m\u001b[0mfit\u001b[0m\u001b[1;33m(\u001b[0m\u001b[0mX_train\u001b[0m\u001b[1;33m,\u001b[0m\u001b[0my_train\u001b[0m\u001b[1;33m.\u001b[0m\u001b[0mvalues\u001b[0m\u001b[1;33m.\u001b[0m\u001b[0mravel\u001b[0m\u001b[1;33m(\u001b[0m\u001b[1;33m)\u001b[0m\u001b[1;33m)\u001b[0m\u001b[1;33m\u001b[0m\u001b[1;33m\u001b[0m\u001b[0m\n\u001b[0m\u001b[0;32m     19\u001b[0m                                 \u001b[0mtrainscore\u001b[0m \u001b[1;33m=\u001b[0m \u001b[0mscore_func\u001b[0m\u001b[1;33m(\u001b[0m\u001b[0my_train\u001b[0m\u001b[1;33m,\u001b[0m\u001b[0mpipeline\u001b[0m\u001b[1;33m.\u001b[0m\u001b[0mpredict\u001b[0m\u001b[1;33m(\u001b[0m\u001b[0mX_train\u001b[0m\u001b[1;33m)\u001b[0m\u001b[1;33m)\u001b[0m\u001b[1;33m\u001b[0m\u001b[1;33m\u001b[0m\u001b[0m\n\u001b[0;32m     20\u001b[0m                                 \u001b[0mtestscore\u001b[0m \u001b[1;33m=\u001b[0m \u001b[0mscore_func\u001b[0m\u001b[1;33m(\u001b[0m\u001b[0my_test\u001b[0m\u001b[1;33m,\u001b[0m\u001b[0mpipeline\u001b[0m\u001b[1;33m.\u001b[0m\u001b[0mpredict\u001b[0m\u001b[1;33m(\u001b[0m\u001b[0mX_test\u001b[0m\u001b[1;33m)\u001b[0m\u001b[1;33m)\u001b[0m\u001b[1;33m\u001b[0m\u001b[1;33m\u001b[0m\u001b[0m\n",
      "\u001b[1;32mc:\\users\\hari\\anaconda3\\lib\\site-packages\\imblearn\\pipeline.py\u001b[0m in \u001b[0;36mfit\u001b[1;34m(self, X, y, **fit_params)\u001b[0m\n\u001b[0;32m    279\u001b[0m                                  self._log_message(len(self.steps) - 1)):\n\u001b[0;32m    280\u001b[0m             \u001b[1;32mif\u001b[0m \u001b[0mself\u001b[0m\u001b[1;33m.\u001b[0m\u001b[0m_final_estimator\u001b[0m \u001b[1;33m!=\u001b[0m \u001b[1;34m\"passthrough\"\u001b[0m\u001b[1;33m:\u001b[0m\u001b[1;33m\u001b[0m\u001b[1;33m\u001b[0m\u001b[0m\n\u001b[1;32m--> 281\u001b[1;33m                 \u001b[0mself\u001b[0m\u001b[1;33m.\u001b[0m\u001b[0m_final_estimator\u001b[0m\u001b[1;33m.\u001b[0m\u001b[0mfit\u001b[0m\u001b[1;33m(\u001b[0m\u001b[0mXt\u001b[0m\u001b[1;33m,\u001b[0m \u001b[0myt\u001b[0m\u001b[1;33m,\u001b[0m \u001b[1;33m**\u001b[0m\u001b[0mfit_params\u001b[0m\u001b[1;33m)\u001b[0m\u001b[1;33m\u001b[0m\u001b[1;33m\u001b[0m\u001b[0m\n\u001b[0m\u001b[0;32m    282\u001b[0m         \u001b[1;32mreturn\u001b[0m \u001b[0mself\u001b[0m\u001b[1;33m\u001b[0m\u001b[1;33m\u001b[0m\u001b[0m\n\u001b[0;32m    283\u001b[0m \u001b[1;33m\u001b[0m\u001b[0m\n",
      "\u001b[1;32mc:\\users\\hari\\anaconda3\\lib\\site-packages\\xgboost\\sklearn.py\u001b[0m in \u001b[0;36mfit\u001b[1;34m(self, X, y, sample_weight, base_margin, eval_set, eval_metric, early_stopping_rounds, verbose, xgb_model, sample_weight_eval_set, callbacks)\u001b[0m\n\u001b[0;32m    832\u001b[0m                               \u001b[0mevals_result\u001b[0m\u001b[1;33m=\u001b[0m\u001b[0mevals_result\u001b[0m\u001b[1;33m,\u001b[0m \u001b[0mobj\u001b[0m\u001b[1;33m=\u001b[0m\u001b[0mobj\u001b[0m\u001b[1;33m,\u001b[0m \u001b[0mfeval\u001b[0m\u001b[1;33m=\u001b[0m\u001b[0mfeval\u001b[0m\u001b[1;33m,\u001b[0m\u001b[1;33m\u001b[0m\u001b[1;33m\u001b[0m\u001b[0m\n\u001b[0;32m    833\u001b[0m                               \u001b[0mverbose_eval\u001b[0m\u001b[1;33m=\u001b[0m\u001b[0mverbose\u001b[0m\u001b[1;33m,\u001b[0m \u001b[0mxgb_model\u001b[0m\u001b[1;33m=\u001b[0m\u001b[0mxgb_model\u001b[0m\u001b[1;33m,\u001b[0m\u001b[1;33m\u001b[0m\u001b[1;33m\u001b[0m\u001b[0m\n\u001b[1;32m--> 834\u001b[1;33m                               callbacks=callbacks)\n\u001b[0m\u001b[0;32m    835\u001b[0m \u001b[1;33m\u001b[0m\u001b[0m\n\u001b[0;32m    836\u001b[0m         \u001b[0mself\u001b[0m\u001b[1;33m.\u001b[0m\u001b[0mobjective\u001b[0m \u001b[1;33m=\u001b[0m \u001b[0mxgb_options\u001b[0m\u001b[1;33m[\u001b[0m\u001b[1;34m\"objective\"\u001b[0m\u001b[1;33m]\u001b[0m\u001b[1;33m\u001b[0m\u001b[1;33m\u001b[0m\u001b[0m\n",
      "\u001b[1;32mc:\\users\\hari\\anaconda3\\lib\\site-packages\\xgboost\\training.py\u001b[0m in \u001b[0;36mtrain\u001b[1;34m(params, dtrain, num_boost_round, evals, obj, feval, maximize, early_stopping_rounds, evals_result, verbose_eval, xgb_model, callbacks)\u001b[0m\n\u001b[0;32m    210\u001b[0m                            \u001b[0mevals\u001b[0m\u001b[1;33m=\u001b[0m\u001b[0mevals\u001b[0m\u001b[1;33m,\u001b[0m\u001b[1;33m\u001b[0m\u001b[1;33m\u001b[0m\u001b[0m\n\u001b[0;32m    211\u001b[0m                            \u001b[0mobj\u001b[0m\u001b[1;33m=\u001b[0m\u001b[0mobj\u001b[0m\u001b[1;33m,\u001b[0m \u001b[0mfeval\u001b[0m\u001b[1;33m=\u001b[0m\u001b[0mfeval\u001b[0m\u001b[1;33m,\u001b[0m\u001b[1;33m\u001b[0m\u001b[1;33m\u001b[0m\u001b[0m\n\u001b[1;32m--> 212\u001b[1;33m                            xgb_model=xgb_model, callbacks=callbacks)\n\u001b[0m\u001b[0;32m    213\u001b[0m \u001b[1;33m\u001b[0m\u001b[0m\n\u001b[0;32m    214\u001b[0m \u001b[1;33m\u001b[0m\u001b[0m\n",
      "\u001b[1;32mc:\\users\\hari\\anaconda3\\lib\\site-packages\\xgboost\\training.py\u001b[0m in \u001b[0;36m_train_internal\u001b[1;34m(params, dtrain, num_boost_round, evals, obj, feval, xgb_model, callbacks)\u001b[0m\n\u001b[0;32m     73\u001b[0m         \u001b[1;31m# Skip the first update if it is a recovery step.\u001b[0m\u001b[1;33m\u001b[0m\u001b[1;33m\u001b[0m\u001b[1;33m\u001b[0m\u001b[0m\n\u001b[0;32m     74\u001b[0m         \u001b[1;32mif\u001b[0m \u001b[0mversion\u001b[0m \u001b[1;33m%\u001b[0m \u001b[1;36m2\u001b[0m \u001b[1;33m==\u001b[0m \u001b[1;36m0\u001b[0m\u001b[1;33m:\u001b[0m\u001b[1;33m\u001b[0m\u001b[1;33m\u001b[0m\u001b[0m\n\u001b[1;32m---> 75\u001b[1;33m             \u001b[0mbst\u001b[0m\u001b[1;33m.\u001b[0m\u001b[0mupdate\u001b[0m\u001b[1;33m(\u001b[0m\u001b[0mdtrain\u001b[0m\u001b[1;33m,\u001b[0m \u001b[0mi\u001b[0m\u001b[1;33m,\u001b[0m \u001b[0mobj\u001b[0m\u001b[1;33m)\u001b[0m\u001b[1;33m\u001b[0m\u001b[1;33m\u001b[0m\u001b[0m\n\u001b[0m\u001b[0;32m     76\u001b[0m             \u001b[0mbst\u001b[0m\u001b[1;33m.\u001b[0m\u001b[0msave_rabit_checkpoint\u001b[0m\u001b[1;33m(\u001b[0m\u001b[1;33m)\u001b[0m\u001b[1;33m\u001b[0m\u001b[1;33m\u001b[0m\u001b[0m\n\u001b[0;32m     77\u001b[0m             \u001b[0mversion\u001b[0m \u001b[1;33m+=\u001b[0m \u001b[1;36m1\u001b[0m\u001b[1;33m\u001b[0m\u001b[1;33m\u001b[0m\u001b[0m\n",
      "\u001b[1;32mc:\\users\\hari\\anaconda3\\lib\\site-packages\\xgboost\\core.py\u001b[0m in \u001b[0;36mupdate\u001b[1;34m(self, dtrain, iteration, fobj)\u001b[0m\n\u001b[0;32m   1159\u001b[0m             _check_call(_LIB.XGBoosterUpdateOneIter(self.handle,\n\u001b[0;32m   1160\u001b[0m                                                     \u001b[0mctypes\u001b[0m\u001b[1;33m.\u001b[0m\u001b[0mc_int\u001b[0m\u001b[1;33m(\u001b[0m\u001b[0miteration\u001b[0m\u001b[1;33m)\u001b[0m\u001b[1;33m,\u001b[0m\u001b[1;33m\u001b[0m\u001b[1;33m\u001b[0m\u001b[0m\n\u001b[1;32m-> 1161\u001b[1;33m                                                     dtrain.handle))\n\u001b[0m\u001b[0;32m   1162\u001b[0m         \u001b[1;32melse\u001b[0m\u001b[1;33m:\u001b[0m\u001b[1;33m\u001b[0m\u001b[1;33m\u001b[0m\u001b[0m\n\u001b[0;32m   1163\u001b[0m             \u001b[0mpred\u001b[0m \u001b[1;33m=\u001b[0m \u001b[0mself\u001b[0m\u001b[1;33m.\u001b[0m\u001b[0mpredict\u001b[0m\u001b[1;33m(\u001b[0m\u001b[0mdtrain\u001b[0m\u001b[1;33m,\u001b[0m \u001b[0moutput_margin\u001b[0m\u001b[1;33m=\u001b[0m\u001b[1;32mTrue\u001b[0m\u001b[1;33m,\u001b[0m \u001b[0mtraining\u001b[0m\u001b[1;33m=\u001b[0m\u001b[1;32mTrue\u001b[0m\u001b[1;33m)\u001b[0m\u001b[1;33m\u001b[0m\u001b[1;33m\u001b[0m\u001b[0m\n",
      "\u001b[1;31mKeyboardInterrupt\u001b[0m: "
     ]
    }
   ],
   "source": [
    "results = []\n",
    "cachedir = mkdtemp()\n",
    "for i in ['median','mean']:\n",
    "    for j in [0.9,0.95,0.99]:\n",
    "        for k in [0.7,0.9]:\n",
    "            for l in [1,3,5]:\n",
    "                for m in [10,15,20]:\n",
    "                    for n in [0.001]:\n",
    "                        for o in [5]:\n",
    "                            for p in [0.9]:                    \n",
    "                                imputer = SimpleImputer(strategy=i)#,IterativeImputer(random_state=42),KNNImputer()]\n",
    "                                scaler = StandardScaler()\n",
    "                                pca = PCA(n_components = j)\n",
    "                                model = XGBClassifier(subsample= k,n_estimators=300,min_child_weight=l,max_depth=m,learning_rate=n,gamma=o,colsample_bytree=p,n_jobs=-1,verbosity=1)\n",
    "                                oversampling = SMOTETomek(random_state=42)\n",
    "                                scorer = make_scorer(score_func)  \n",
    "                                pipeline = ImbPipeline(steps=[('i', imputer),('o',oversampling),('s', scaler),('p', pca), ('m', model)],verbose=True,memory=cachedir)\n",
    "                                pipeline.fit(X_train,y_train.values.ravel())\n",
    "                                trainscore = score_func(y_train,pipeline.predict(X_train))\n",
    "                                testscore = score_func(y_test,pipeline.predict(X_test))\n",
    "                                results.append((trainscore,testscore,i,j,k,l,m,n,o,p))\n",
    "                                print(results[-1])\n",
    "rmtree(cachedir)"
   ]
  },
  {
   "cell_type": "code",
   "execution_count": 35,
   "metadata": {},
   "outputs": [
    {
     "data": {
      "text/html": [
       "<div>\n",
       "<style scoped>\n",
       "    .dataframe tbody tr th:only-of-type {\n",
       "        vertical-align: middle;\n",
       "    }\n",
       "\n",
       "    .dataframe tbody tr th {\n",
       "        vertical-align: top;\n",
       "    }\n",
       "\n",
       "    .dataframe thead th {\n",
       "        text-align: right;\n",
       "    }\n",
       "</style>\n",
       "<table border=\"1\" class=\"dataframe\">\n",
       "  <thead>\n",
       "    <tr style=\"text-align: right;\">\n",
       "      <th></th>\n",
       "      <th>0</th>\n",
       "      <th>1</th>\n",
       "      <th>2</th>\n",
       "      <th>3</th>\n",
       "      <th>4</th>\n",
       "      <th>5</th>\n",
       "      <th>6</th>\n",
       "      <th>7</th>\n",
       "      <th>8</th>\n",
       "      <th>9</th>\n",
       "    </tr>\n",
       "  </thead>\n",
       "  <tbody>\n",
       "    <tr>\n",
       "      <th>0</th>\n",
       "      <td>0.363125</td>\n",
       "      <td>0.826667</td>\n",
       "      <td>median</td>\n",
       "      <td>0.9</td>\n",
       "      <td>0.7</td>\n",
       "      <td>1</td>\n",
       "      <td>10</td>\n",
       "      <td>0.001</td>\n",
       "      <td>5</td>\n",
       "      <td>0.9</td>\n",
       "    </tr>\n",
       "    <tr>\n",
       "      <th>6</th>\n",
       "      <td>0.389167</td>\n",
       "      <td>0.839167</td>\n",
       "      <td>median</td>\n",
       "      <td>0.9</td>\n",
       "      <td>0.7</td>\n",
       "      <td>5</td>\n",
       "      <td>10</td>\n",
       "      <td>0.001</td>\n",
       "      <td>5</td>\n",
       "      <td>0.9</td>\n",
       "    </tr>\n",
       "    <tr>\n",
       "      <th>8</th>\n",
       "      <td>0.283958</td>\n",
       "      <td>0.884167</td>\n",
       "      <td>median</td>\n",
       "      <td>0.9</td>\n",
       "      <td>0.7</td>\n",
       "      <td>5</td>\n",
       "      <td>20</td>\n",
       "      <td>0.001</td>\n",
       "      <td>5</td>\n",
       "      <td>0.9</td>\n",
       "    </tr>\n",
       "    <tr>\n",
       "      <th>7</th>\n",
       "      <td>0.288958</td>\n",
       "      <td>0.887500</td>\n",
       "      <td>median</td>\n",
       "      <td>0.9</td>\n",
       "      <td>0.7</td>\n",
       "      <td>5</td>\n",
       "      <td>15</td>\n",
       "      <td>0.001</td>\n",
       "      <td>5</td>\n",
       "      <td>0.9</td>\n",
       "    </tr>\n",
       "    <tr>\n",
       "      <th>9</th>\n",
       "      <td>0.364792</td>\n",
       "      <td>0.939167</td>\n",
       "      <td>median</td>\n",
       "      <td>0.9</td>\n",
       "      <td>0.9</td>\n",
       "      <td>1</td>\n",
       "      <td>10</td>\n",
       "      <td>0.001</td>\n",
       "      <td>5</td>\n",
       "      <td>0.9</td>\n",
       "    </tr>\n",
       "  </tbody>\n",
       "</table>\n",
       "</div>"
      ],
      "text/plain": [
       "          0         1       2    3    4  5   6      7  8    9\n",
       "0  0.363125  0.826667  median  0.9  0.7  1  10  0.001  5  0.9\n",
       "6  0.389167  0.839167  median  0.9  0.7  5  10  0.001  5  0.9\n",
       "8  0.283958  0.884167  median  0.9  0.7  5  20  0.001  5  0.9\n",
       "7  0.288958  0.887500  median  0.9  0.7  5  15  0.001  5  0.9\n",
       "9  0.364792  0.939167  median  0.9  0.9  1  10  0.001  5  0.9"
      ]
     },
     "execution_count": 35,
     "metadata": {},
     "output_type": "execute_result"
    }
   ],
   "source": [
    "pd.DataFrame(results).sort_values(1)[:5]"
   ]
  },
  {
   "cell_type": "code",
   "execution_count": 38,
   "metadata": {},
   "outputs": [
    {
     "name": "stdout",
     "output_type": "stream",
     "text": [
      "[Pipeline] ................. (step 1 of 5) Processing i, total=   1.4s\n",
      "[Pipeline] ................. (step 2 of 5) Processing o, total= 2.5min\n",
      "[Pipeline] ................. (step 3 of 5) Processing s, total=   0.4s\n",
      "[Pipeline] ................. (step 4 of 5) Processing p, total=   3.4s\n",
      "[Pipeline] ................. (step 5 of 5) Processing m, total= 1.6min\n",
      "(0.41375, 0.7683333333333333, 'median', 0.9, 0.3, 1, 10, 0.001, 5, 0.9)\n",
      "[Pipeline] ................. (step 5 of 5) Processing m, total= 2.1min\n",
      "(0.33791666666666664, 0.7433333333333333, 'median', 0.9, 0.3, 1, 15, 0.001, 5, 0.9)\n",
      "[Pipeline] ................. (step 5 of 5) Processing m, total= 2.4min\n",
      "(0.32958333333333334, 0.74, 'median', 0.9, 0.3, 1, 20, 0.001, 5, 0.9)\n",
      "[Pipeline] ................. (step 5 of 5) Processing m, total= 1.6min\n",
      "(0.4297916666666667, 0.7425, 'median', 0.9, 0.3, 3, 10, 0.001, 5, 0.9)\n",
      "[Pipeline] ................. (step 5 of 5) Processing m, total= 2.1min\n",
      "(0.37958333333333333, 0.6875, 'median', 0.9, 0.3, 3, 15, 0.001, 5, 0.9)\n",
      "[Pipeline] ................. (step 5 of 5) Processing m, total= 2.1min\n",
      "(0.37833333333333335, 0.685, 'median', 0.9, 0.3, 3, 20, 0.001, 5, 0.9)\n",
      "[Pipeline] ................. (step 5 of 5) Processing m, total= 1.5min\n",
      "(0.46416666666666667, 0.6733333333333333, 'median', 0.9, 0.3, 5, 10, 0.001, 5, 0.9)\n",
      "[Pipeline] ................. (step 5 of 5) Processing m, total= 1.9min\n",
      "(0.444375, 0.7125, 'median', 0.9, 0.3, 5, 15, 0.001, 5, 0.9)\n",
      "[Pipeline] ................. (step 5 of 5) Processing m, total= 1.9min\n",
      "(0.44458333333333333, 0.7125, 'median', 0.9, 0.3, 5, 20, 0.001, 5, 0.9)\n",
      "[Pipeline] ................. (step 4 of 5) Processing p, total=   3.4s\n",
      "[Pipeline] ................. (step 5 of 5) Processing m, total= 2.0min\n",
      "(0.37625, 0.7141666666666666, 'median', 0.95, 0.3, 1, 10, 0.001, 5, 0.9)\n",
      "[Pipeline] ................. (step 5 of 5) Processing m, total= 2.7min\n",
      "(0.32458333333333333, 0.7383333333333333, 'median', 0.95, 0.3, 1, 15, 0.001, 5, 0.9)\n",
      "[Pipeline] ................. (step 5 of 5) Processing m, total= 3.1min\n",
      "(0.3175, 0.735, 'median', 0.95, 0.3, 1, 20, 0.001, 5, 0.9)\n",
      "[Pipeline] ................. (step 5 of 5) Processing m, total= 2.0min\n",
      "(0.415625, 0.6908333333333333, 'median', 0.95, 0.3, 3, 10, 0.001, 5, 0.9)\n",
      "[Pipeline] ................. (step 5 of 5) Processing m, total= 2.7min\n",
      "(0.37604166666666666, 0.6383333333333333, 'median', 0.95, 0.3, 3, 15, 0.001, 5, 0.9)\n",
      "[Pipeline] ................. (step 5 of 5) Processing m, total= 3.3min\n",
      "(0.3754166666666667, 0.6366666666666667, 'median', 0.95, 0.3, 3, 20, 0.001, 5, 0.9)\n",
      "[Pipeline] ................. (step 5 of 5) Processing m, total= 2.1min\n",
      "(0.451875, 0.6616666666666666, 'median', 0.95, 0.3, 5, 10, 0.001, 5, 0.9)\n",
      "[Pipeline] ................. (step 5 of 5) Processing m, total= 2.9min\n",
      "(0.423125, 0.6216666666666667, 'median', 0.95, 0.3, 5, 15, 0.001, 5, 0.9)\n",
      "[Pipeline] ................. (step 5 of 5) Processing m, total= 3.0min\n",
      "(0.42270833333333335, 0.6216666666666667, 'median', 0.95, 0.3, 5, 20, 0.001, 5, 0.9)\n",
      "[Pipeline] ................. (step 4 of 5) Processing p, total=   4.1s\n",
      "[Pipeline] ................. (step 5 of 5) Processing m, total= 3.6min\n",
      "(0.36083333333333334, 0.6625, 'median', 0.99, 0.3, 1, 10, 0.001, 5, 0.9)\n",
      "[Pipeline] ................. (step 5 of 5) Processing m, total= 4.9min\n",
      "(0.30416666666666664, 0.7641666666666667, 'median', 0.99, 0.3, 1, 15, 0.001, 5, 0.9)\n",
      "[Pipeline] ................. (step 5 of 5) Processing m, total= 5.4min\n",
      "(0.29, 0.75, 'median', 0.99, 0.3, 1, 20, 0.001, 5, 0.9)\n",
      "[Pipeline] ................. (step 5 of 5) Processing m, total= 3.1min\n",
      "(0.39916666666666667, 0.6333333333333333, 'median', 0.99, 0.3, 3, 10, 0.001, 5, 0.9)\n",
      "[Pipeline] ................. (step 5 of 5) Processing m, total= 4.1min\n",
      "(0.341875, 0.6208333333333333, 'median', 0.99, 0.3, 3, 15, 0.001, 5, 0.9)\n",
      "[Pipeline] ................. (step 5 of 5) Processing m, total= 5.2min\n",
      "(0.33666666666666667, 0.6583333333333333, 'median', 0.99, 0.3, 3, 20, 0.001, 5, 0.9)\n",
      "[Pipeline] ................. (step 5 of 5) Processing m, total= 3.2min\n",
      "(0.4322916666666667, 0.6491666666666667, 'median', 0.99, 0.3, 5, 10, 0.001, 5, 0.9)\n",
      "[Pipeline] ................. (step 5 of 5) Processing m, total= 4.3min\n",
      "(0.38708333333333333, 0.6441666666666667, 'median', 0.99, 0.3, 5, 15, 0.001, 5, 0.9)\n",
      "[Pipeline] ................. (step 5 of 5) Processing m, total= 4.6min\n",
      "(0.385625, 0.6433333333333333, 'median', 0.99, 0.3, 5, 20, 0.001, 5, 0.9)\n",
      "[Pipeline] ................. (step 1 of 5) Processing i, total=   0.3s\n",
      "[Pipeline] ................. (step 2 of 5) Processing o, total= 2.1min\n",
      "[Pipeline] ................. (step 3 of 5) Processing s, total=   0.4s\n",
      "[Pipeline] ................. (step 4 of 5) Processing p, total=   4.0s\n",
      "[Pipeline] ................. (step 5 of 5) Processing m, total= 2.0min\n",
      "(0.4272916666666667, 0.7658333333333334, 'mean', 0.9, 0.3, 1, 10, 0.001, 5, 0.9)\n",
      "[Pipeline] ................. (step 5 of 5) Processing m, total= 2.3min\n",
      "(0.356875, 0.7033333333333334, 'mean', 0.9, 0.3, 1, 15, 0.001, 5, 0.9)\n",
      "[Pipeline] ................. (step 5 of 5) Processing m, total= 2.5min\n",
      "(0.34958333333333336, 0.74, 'mean', 0.9, 0.3, 1, 20, 0.001, 5, 0.9)\n",
      "[Pipeline] ................. (step 5 of 5) Processing m, total= 1.6min\n",
      "(0.44354166666666667, 0.7766666666666666, 'mean', 0.9, 0.3, 3, 10, 0.001, 5, 0.9)\n",
      "[Pipeline] ................. (step 5 of 5) Processing m, total= 2.5min\n",
      "(0.39979166666666666, 0.7216666666666667, 'mean', 0.9, 0.3, 3, 15, 0.001, 5, 0.9)\n",
      "[Pipeline] ................. (step 5 of 5) Processing m, total= 2.8min\n",
      "(0.39770833333333333, 0.7208333333333333, 'mean', 0.9, 0.3, 3, 20, 0.001, 5, 0.9)\n",
      "[Pipeline] ................. (step 5 of 5) Processing m, total= 2.0min\n",
      "(0.4870833333333333, 0.7475, 'mean', 0.9, 0.3, 5, 10, 0.001, 5, 0.9)\n",
      "[Pipeline] ................. (step 5 of 5) Processing m, total= 2.3min\n",
      "(0.454375, 0.7833333333333333, 'mean', 0.9, 0.3, 5, 15, 0.001, 5, 0.9)\n",
      "[Pipeline] ................. (step 5 of 5) Processing m, total= 2.2min\n",
      "(0.4554166666666667, 0.7833333333333333, 'mean', 0.9, 0.3, 5, 20, 0.001, 5, 0.9)\n",
      "[Pipeline] ................. (step 4 of 5) Processing p, total=   4.2s\n",
      "[Pipeline] ................. (step 5 of 5) Processing m, total= 2.3min\n",
      "(0.3875, 0.7466666666666667, 'mean', 0.95, 0.3, 1, 10, 0.001, 5, 0.9)\n",
      "[Pipeline] ................. (step 5 of 5) Processing m, total= 3.2min\n",
      "(0.32416666666666666, 0.7641666666666667, 'mean', 0.95, 0.3, 1, 15, 0.001, 5, 0.9)\n",
      "[Pipeline] ................. (step 5 of 5) Processing m, total= 3.5min\n",
      "(0.31979166666666664, 0.7591666666666667, 'mean', 0.95, 0.3, 1, 20, 0.001, 5, 0.9)\n",
      "[Pipeline] ................. (step 5 of 5) Processing m, total= 2.3min\n",
      "(0.43041666666666667, 0.7241666666666666, 'mean', 0.95, 0.3, 3, 10, 0.001, 5, 0.9)\n",
      "[Pipeline] ................. (step 5 of 5) Processing m, total= 2.9min\n",
      "(0.36854166666666666, 0.6683333333333333, 'mean', 0.95, 0.3, 3, 15, 0.001, 5, 0.9)\n",
      "[Pipeline] ................. (step 5 of 5) Processing m, total= 3.3min\n",
      "(0.36770833333333336, 0.6683333333333333, 'mean', 0.95, 0.3, 3, 20, 0.001, 5, 0.9)\n",
      "[Pipeline] ................. (step 5 of 5) Processing m, total= 2.6min\n",
      "(0.45770833333333333, 0.7341666666666666, 'mean', 0.95, 0.3, 5, 10, 0.001, 5, 0.9)\n",
      "[Pipeline] ................. (step 5 of 5) Processing m, total= 2.8min\n",
      "(0.41770833333333335, 0.7283333333333334, 'mean', 0.95, 0.3, 5, 15, 0.001, 5, 0.9)\n",
      "[Pipeline] ................. (step 5 of 5) Processing m, total= 3.1min\n",
      "(0.406875, 0.6866666666666666, 'mean', 0.95, 0.3, 5, 20, 0.001, 5, 0.9)\n",
      "[Pipeline] ................. (step 4 of 5) Processing p, total=   4.0s\n",
      "[Pipeline] ................. (step 5 of 5) Processing m, total= 3.6min\n",
      "(0.3729166666666667, 0.8208333333333333, 'mean', 0.99, 0.3, 1, 10, 0.001, 5, 0.9)\n",
      "[Pipeline] ................. (step 5 of 5) Processing m, total= 4.6min\n",
      "(0.311875, 0.8375, 'mean', 0.99, 0.3, 1, 15, 0.001, 5, 0.9)\n",
      "[Pipeline] ................. (step 5 of 5) Processing m, total= 5.4min\n",
      "(0.30083333333333334, 0.8675, 'mean', 0.99, 0.3, 1, 20, 0.001, 5, 0.9)\n",
      "[Pipeline] ................. (step 5 of 5) Processing m, total= 3.4min\n",
      "(0.3908333333333333, 0.7516666666666667, 'mean', 0.99, 0.3, 3, 10, 0.001, 5, 0.9)\n",
      "[Pipeline] ................. (step 5 of 5) Processing m, total= 4.4min\n",
      "(0.3416666666666667, 0.7325, 'mean', 0.99, 0.3, 3, 15, 0.001, 5, 0.9)\n"
     ]
    },
    {
     "name": "stdout",
     "output_type": "stream",
     "text": [
      "[Pipeline] ................. (step 5 of 5) Processing m, total= 4.5min\n",
      "(0.34020833333333333, 0.7308333333333333, 'mean', 0.99, 0.3, 3, 20, 0.001, 5, 0.9)\n",
      "[Pipeline] ................. (step 5 of 5) Processing m, total= 2.9min\n",
      "(0.43833333333333335, 0.77, 'mean', 0.99, 0.3, 5, 10, 0.001, 5, 0.9)\n",
      "[Pipeline] ................. (step 5 of 5) Processing m, total= 3.8min\n",
      "(0.38375, 0.715, 'mean', 0.99, 0.3, 5, 15, 0.001, 5, 0.9)\n",
      "[Pipeline] ................. (step 5 of 5) Processing m, total= 4.2min\n",
      "(0.383125, 0.715, 'mean', 0.99, 0.3, 5, 20, 0.001, 5, 0.9)\n"
     ]
    }
   ],
   "source": [
    "cachedir = mkdtemp()\n",
    "for i in ['median','mean']:\n",
    "    for j in [0.9,0.95,0.99]:\n",
    "        for k in [0.3]:\n",
    "            for l in [1,3,5]:\n",
    "                for m in [10,15,20]:\n",
    "                    for n in [0.001]:\n",
    "                        for o in [5]:\n",
    "                            for p in [0.9]:                    \n",
    "                                imputer = SimpleImputer(strategy=i)#,IterativeImputer(random_state=42),KNNImputer()]\n",
    "                                scaler = StandardScaler()\n",
    "                                pca = PCA(n_components = j)\n",
    "                                model = XGBClassifier(subsample= k,n_estimators=300,min_child_weight=l,max_depth=m,learning_rate=n,gamma=o,colsample_bytree=p,n_jobs=-1,verbosity=1)\n",
    "                                oversampling = SMOTETomek(random_state=42)\n",
    "                                scorer = make_scorer(score_func)  \n",
    "                                pipeline = ImbPipeline(steps=[('i', imputer),('o',oversampling),('s', scaler),('p', pca), ('m', model)],verbose=True,memory=cachedir)\n",
    "                                pipeline.fit(X_train,y_train.values.ravel())\n",
    "                                trainscore = score_func(y_train,pipeline.predict(X_train))\n",
    "                                testscore = score_func(y_test,pipeline.predict(X_test))\n",
    "                                results.append((trainscore,testscore,i,j,k,l,m,n,o,p))\n",
    "                                print(results[-1])\n",
    "rmtree(cachedir)"
   ]
  },
  {
   "cell_type": "code",
   "execution_count": 41,
   "metadata": {},
   "outputs": [
    {
     "data": {
      "text/html": [
       "<div>\n",
       "<style scoped>\n",
       "    .dataframe tbody tr th:only-of-type {\n",
       "        vertical-align: middle;\n",
       "    }\n",
       "\n",
       "    .dataframe tbody tr th {\n",
       "        vertical-align: top;\n",
       "    }\n",
       "\n",
       "    .dataframe thead th {\n",
       "        text-align: right;\n",
       "    }\n",
       "</style>\n",
       "<table border=\"1\" class=\"dataframe\">\n",
       "  <thead>\n",
       "    <tr style=\"text-align: right;\">\n",
       "      <th></th>\n",
       "      <th>0</th>\n",
       "      <th>1</th>\n",
       "      <th>2</th>\n",
       "      <th>3</th>\n",
       "      <th>4</th>\n",
       "      <th>5</th>\n",
       "      <th>6</th>\n",
       "      <th>7</th>\n",
       "      <th>8</th>\n",
       "      <th>9</th>\n",
       "    </tr>\n",
       "  </thead>\n",
       "  <tbody>\n",
       "    <tr>\n",
       "      <th>39</th>\n",
       "      <td>0.341875</td>\n",
       "      <td>0.620833</td>\n",
       "      <td>median</td>\n",
       "      <td>0.99</td>\n",
       "      <td>0.3</td>\n",
       "      <td>3</td>\n",
       "      <td>15</td>\n",
       "      <td>0.001</td>\n",
       "      <td>5.0</td>\n",
       "      <td>0.9</td>\n",
       "    </tr>\n",
       "    <tr>\n",
       "      <th>34</th>\n",
       "      <td>0.422708</td>\n",
       "      <td>0.621667</td>\n",
       "      <td>median</td>\n",
       "      <td>0.95</td>\n",
       "      <td>0.3</td>\n",
       "      <td>5</td>\n",
       "      <td>20</td>\n",
       "      <td>0.001</td>\n",
       "      <td>5.0</td>\n",
       "      <td>0.9</td>\n",
       "    </tr>\n",
       "    <tr>\n",
       "      <th>33</th>\n",
       "      <td>0.423125</td>\n",
       "      <td>0.621667</td>\n",
       "      <td>median</td>\n",
       "      <td>0.95</td>\n",
       "      <td>0.3</td>\n",
       "      <td>5</td>\n",
       "      <td>15</td>\n",
       "      <td>0.001</td>\n",
       "      <td>5.0</td>\n",
       "      <td>0.9</td>\n",
       "    </tr>\n",
       "    <tr>\n",
       "      <th>38</th>\n",
       "      <td>0.399167</td>\n",
       "      <td>0.633333</td>\n",
       "      <td>median</td>\n",
       "      <td>0.99</td>\n",
       "      <td>0.3</td>\n",
       "      <td>3</td>\n",
       "      <td>10</td>\n",
       "      <td>0.001</td>\n",
       "      <td>5.0</td>\n",
       "      <td>0.9</td>\n",
       "    </tr>\n",
       "    <tr>\n",
       "      <th>31</th>\n",
       "      <td>0.375417</td>\n",
       "      <td>0.636667</td>\n",
       "      <td>median</td>\n",
       "      <td>0.95</td>\n",
       "      <td>0.3</td>\n",
       "      <td>3</td>\n",
       "      <td>20</td>\n",
       "      <td>0.001</td>\n",
       "      <td>5.0</td>\n",
       "      <td>0.9</td>\n",
       "    </tr>\n",
       "    <tr>\n",
       "      <th>30</th>\n",
       "      <td>0.376042</td>\n",
       "      <td>0.638333</td>\n",
       "      <td>median</td>\n",
       "      <td>0.95</td>\n",
       "      <td>0.3</td>\n",
       "      <td>3</td>\n",
       "      <td>15</td>\n",
       "      <td>0.001</td>\n",
       "      <td>5.0</td>\n",
       "      <td>0.9</td>\n",
       "    </tr>\n",
       "    <tr>\n",
       "      <th>43</th>\n",
       "      <td>0.385625</td>\n",
       "      <td>0.643333</td>\n",
       "      <td>median</td>\n",
       "      <td>0.99</td>\n",
       "      <td>0.3</td>\n",
       "      <td>5</td>\n",
       "      <td>20</td>\n",
       "      <td>0.001</td>\n",
       "      <td>5.0</td>\n",
       "      <td>0.9</td>\n",
       "    </tr>\n",
       "    <tr>\n",
       "      <th>42</th>\n",
       "      <td>0.387083</td>\n",
       "      <td>0.644167</td>\n",
       "      <td>median</td>\n",
       "      <td>0.99</td>\n",
       "      <td>0.3</td>\n",
       "      <td>5</td>\n",
       "      <td>15</td>\n",
       "      <td>0.001</td>\n",
       "      <td>5.0</td>\n",
       "      <td>0.9</td>\n",
       "    </tr>\n",
       "    <tr>\n",
       "      <th>41</th>\n",
       "      <td>0.432292</td>\n",
       "      <td>0.649167</td>\n",
       "      <td>median</td>\n",
       "      <td>0.99</td>\n",
       "      <td>0.3</td>\n",
       "      <td>5</td>\n",
       "      <td>10</td>\n",
       "      <td>0.001</td>\n",
       "      <td>5.0</td>\n",
       "      <td>0.9</td>\n",
       "    </tr>\n",
       "    <tr>\n",
       "      <th>40</th>\n",
       "      <td>0.336667</td>\n",
       "      <td>0.658333</td>\n",
       "      <td>median</td>\n",
       "      <td>0.99</td>\n",
       "      <td>0.3</td>\n",
       "      <td>3</td>\n",
       "      <td>20</td>\n",
       "      <td>0.001</td>\n",
       "      <td>5.0</td>\n",
       "      <td>0.9</td>\n",
       "    </tr>\n",
       "    <tr>\n",
       "      <th>32</th>\n",
       "      <td>0.451875</td>\n",
       "      <td>0.661667</td>\n",
       "      <td>median</td>\n",
       "      <td>0.95</td>\n",
       "      <td>0.3</td>\n",
       "      <td>5</td>\n",
       "      <td>10</td>\n",
       "      <td>0.001</td>\n",
       "      <td>5.0</td>\n",
       "      <td>0.9</td>\n",
       "    </tr>\n",
       "    <tr>\n",
       "      <th>35</th>\n",
       "      <td>0.360833</td>\n",
       "      <td>0.662500</td>\n",
       "      <td>median</td>\n",
       "      <td>0.99</td>\n",
       "      <td>0.3</td>\n",
       "      <td>1</td>\n",
       "      <td>10</td>\n",
       "      <td>0.001</td>\n",
       "      <td>5.0</td>\n",
       "      <td>0.9</td>\n",
       "    </tr>\n",
       "    <tr>\n",
       "      <th>57</th>\n",
       "      <td>0.368542</td>\n",
       "      <td>0.668333</td>\n",
       "      <td>mean</td>\n",
       "      <td>0.95</td>\n",
       "      <td>0.3</td>\n",
       "      <td>3</td>\n",
       "      <td>15</td>\n",
       "      <td>0.001</td>\n",
       "      <td>5.0</td>\n",
       "      <td>0.9</td>\n",
       "    </tr>\n",
       "    <tr>\n",
       "      <th>58</th>\n",
       "      <td>0.367708</td>\n",
       "      <td>0.668333</td>\n",
       "      <td>mean</td>\n",
       "      <td>0.95</td>\n",
       "      <td>0.3</td>\n",
       "      <td>3</td>\n",
       "      <td>20</td>\n",
       "      <td>0.001</td>\n",
       "      <td>5.0</td>\n",
       "      <td>0.9</td>\n",
       "    </tr>\n",
       "    <tr>\n",
       "      <th>23</th>\n",
       "      <td>0.464167</td>\n",
       "      <td>0.673333</td>\n",
       "      <td>median</td>\n",
       "      <td>0.90</td>\n",
       "      <td>0.3</td>\n",
       "      <td>5</td>\n",
       "      <td>10</td>\n",
       "      <td>0.001</td>\n",
       "      <td>5.0</td>\n",
       "      <td>0.9</td>\n",
       "    </tr>\n",
       "    <tr>\n",
       "      <th>22</th>\n",
       "      <td>0.378333</td>\n",
       "      <td>0.685000</td>\n",
       "      <td>median</td>\n",
       "      <td>0.90</td>\n",
       "      <td>0.3</td>\n",
       "      <td>3</td>\n",
       "      <td>20</td>\n",
       "      <td>0.001</td>\n",
       "      <td>5.0</td>\n",
       "      <td>0.9</td>\n",
       "    </tr>\n",
       "    <tr>\n",
       "      <th>61</th>\n",
       "      <td>0.406875</td>\n",
       "      <td>0.686667</td>\n",
       "      <td>mean</td>\n",
       "      <td>0.95</td>\n",
       "      <td>0.3</td>\n",
       "      <td>5</td>\n",
       "      <td>20</td>\n",
       "      <td>0.001</td>\n",
       "      <td>5.0</td>\n",
       "      <td>0.9</td>\n",
       "    </tr>\n",
       "    <tr>\n",
       "      <th>21</th>\n",
       "      <td>0.379583</td>\n",
       "      <td>0.687500</td>\n",
       "      <td>median</td>\n",
       "      <td>0.90</td>\n",
       "      <td>0.3</td>\n",
       "      <td>3</td>\n",
       "      <td>15</td>\n",
       "      <td>0.001</td>\n",
       "      <td>5.0</td>\n",
       "      <td>0.9</td>\n",
       "    </tr>\n",
       "    <tr>\n",
       "      <th>29</th>\n",
       "      <td>0.415625</td>\n",
       "      <td>0.690833</td>\n",
       "      <td>median</td>\n",
       "      <td>0.95</td>\n",
       "      <td>0.3</td>\n",
       "      <td>3</td>\n",
       "      <td>10</td>\n",
       "      <td>0.001</td>\n",
       "      <td>5.0</td>\n",
       "      <td>0.9</td>\n",
       "    </tr>\n",
       "    <tr>\n",
       "      <th>13</th>\n",
       "      <td>0.731667</td>\n",
       "      <td>0.702500</td>\n",
       "      <td>median</td>\n",
       "      <td>0.90</td>\n",
       "      <td>0.5</td>\n",
       "      <td>1</td>\n",
       "      <td>5</td>\n",
       "      <td>0.001</td>\n",
       "      <td>0.0</td>\n",
       "      <td>0.9</td>\n",
       "    </tr>\n",
       "  </tbody>\n",
       "</table>\n",
       "</div>"
      ],
      "text/plain": [
       "           0         1       2     3    4  5   6      7    8    9\n",
       "39  0.341875  0.620833  median  0.99  0.3  3  15  0.001  5.0  0.9\n",
       "34  0.422708  0.621667  median  0.95  0.3  5  20  0.001  5.0  0.9\n",
       "33  0.423125  0.621667  median  0.95  0.3  5  15  0.001  5.0  0.9\n",
       "38  0.399167  0.633333  median  0.99  0.3  3  10  0.001  5.0  0.9\n",
       "31  0.375417  0.636667  median  0.95  0.3  3  20  0.001  5.0  0.9\n",
       "30  0.376042  0.638333  median  0.95  0.3  3  15  0.001  5.0  0.9\n",
       "43  0.385625  0.643333  median  0.99  0.3  5  20  0.001  5.0  0.9\n",
       "42  0.387083  0.644167  median  0.99  0.3  5  15  0.001  5.0  0.9\n",
       "41  0.432292  0.649167  median  0.99  0.3  5  10  0.001  5.0  0.9\n",
       "40  0.336667  0.658333  median  0.99  0.3  3  20  0.001  5.0  0.9\n",
       "32  0.451875  0.661667  median  0.95  0.3  5  10  0.001  5.0  0.9\n",
       "35  0.360833  0.662500  median  0.99  0.3  1  10  0.001  5.0  0.9\n",
       "57  0.368542  0.668333    mean  0.95  0.3  3  15  0.001  5.0  0.9\n",
       "58  0.367708  0.668333    mean  0.95  0.3  3  20  0.001  5.0  0.9\n",
       "23  0.464167  0.673333  median  0.90  0.3  5  10  0.001  5.0  0.9\n",
       "22  0.378333  0.685000  median  0.90  0.3  3  20  0.001  5.0  0.9\n",
       "61  0.406875  0.686667    mean  0.95  0.3  5  20  0.001  5.0  0.9\n",
       "21  0.379583  0.687500  median  0.90  0.3  3  15  0.001  5.0  0.9\n",
       "29  0.415625  0.690833  median  0.95  0.3  3  10  0.001  5.0  0.9\n",
       "13  0.731667  0.702500  median  0.90  0.5  1   5  0.001  0.0  0.9"
      ]
     },
     "execution_count": 41,
     "metadata": {},
     "output_type": "execute_result"
    }
   ],
   "source": [
    "pd.DataFrame(results).sort_values(1)[:20]"
   ]
  },
  {
   "cell_type": "code",
   "execution_count": 60,
   "metadata": {},
   "outputs": [
    {
     "name": "stdout",
     "output_type": "stream",
     "text": [
      "[Pipeline] ................. (step 1 of 5) Processing i, total=   0.2s\n",
      "[Pipeline] ................. (step 2 of 5) Processing o, total=  14.0s\n",
      "[Pipeline] ................. (step 3 of 5) Processing s, total=   0.1s\n",
      "[Pipeline] ................. (step 4 of 5) Processing p, total=   0.7s\n",
      "[Pipeline] ................. (step 5 of 5) Processing m, total=  27.3s\n",
      "1.4858333333333333 0.37666666666666665 median 0.95 0.5 5 20 0.001 5 0.9\n"
     ]
    }
   ],
   "source": [
    "cachedir = mkdtemp()\n",
    "for i in ['median']:\n",
    "    for j in [0.95]:\n",
    "        for k in [0.5]:\n",
    "            for l in [5]:\n",
    "                for m in [20]:\n",
    "                    for n in [0.001]:\n",
    "                        for o in [5]:\n",
    "                            for p in [0.9]:                    \n",
    "                                imputer = SimpleImputer(strategy=i)#,IterativeImputer(random_state=42),KNNImputer()]\n",
    "                                scaler = StandardScaler()\n",
    "                                pca = PCA(n_components = j)\n",
    "                                model = XGBClassifier(subsample= k,n_estimators=300,min_child_weight=l,max_depth=m,learning_rate=n,gamma=o,colsample_bytree=p,n_jobs=-1,verbosity=1)\n",
    "                                oversampling = SMOTETomek(random_state=42)\n",
    "                                scorer = make_scorer(score_func)  \n",
    "                                pipeline = ImbPipeline(steps=[('i', imputer),('o',oversampling),('s', scaler),('p', pca), ('m', model)],verbose=True,memory=cachedir)\n",
    "                                pipeline.fit(X_train,y_train.values.ravel())\n",
    "                                trainscore = score_func(y_train,pipeline.predict(X_train))\n",
    "                                testscore = score_func(y_test,pipeline.predict(X_test))\n",
    "                                print(trainscore,testscore,i,j,k,l,m,n,o,p)\n",
    "                                \n",
    "rmtree(cachedir)"
   ]
  },
  {
   "cell_type": "code",
   "execution_count": 43,
   "metadata": {},
   "outputs": [],
   "source": [
    "results.append((0.31854166666666667, 0.705, 'median', 0.95, 0.5, 5, 20, 0.001, 5, 0.9))"
   ]
  },
  {
   "cell_type": "code",
   "execution_count": 59,
   "metadata": {},
   "outputs": [
    {
     "data": {
      "image/png": "[encoded data removed]",
      "text/plain": [
       "<Figure size 1080x540 with 1 Axes>"
      ]
     },
     "metadata": {
      "needs_background": "light"
     },
     "output_type": "display_data"
    }
   ],
   "source": [
    "plt.figure(figsize=(15,7.5))\n",
    "plt.scatter(x=range(72),y=pd.DataFrame(results).sort_values(1)[[0]],label='train')\n",
    "plt.scatter(x=range(72),y=pd.DataFrame(results).sort_values(1)[[1]],c='r',label='validation')\n",
    "plt.legend();"
   ]
  },
  {
   "cell_type": "code",
   "execution_count": 211,
   "metadata": {},
   "outputs": [
    {
     "name": "stdout",
     "output_type": "stream",
     "text": [
      "[Pipeline] ................. (step 1 of 5) Processing i, total=   0.8s\n",
      "[Pipeline] ................. (step 2 of 5) Processing o, total=  29.6s\n",
      "[Pipeline] ................. (step 3 of 5) Processing s, total=   0.4s\n",
      "[Pipeline] ................. (step 4 of 5) Processing p, total=   1.9s\n",
      "[Pipeline] ................. (step 5 of 5) Processing m, total=  22.4s\n"
     ]
    },
    {
     "data": {
      "text/plain": [
       "Pipeline(steps=[('i', SimpleImputer(strategy='median')),\n",
       "                ('o', SMOTETomek(random_state=42)), ('s', StandardScaler()),\n",
       "                ('p', PCA(n_components=0.95)),\n",
       "                ('m',\n",
       "                 XGBClassifier(base_score=0.5, booster='gbtree',\n",
       "                               colsample_bylevel=1, colsample_bynode=1,\n",
       "                               colsample_bytree=0.6, gamma=2.0, gpu_id=-1,\n",
       "                               importance_type='gain',\n",
       "                               interaction_constraints='', learning_rate=0.5,\n",
       "                               max_delta_step=0, max_depth=4,\n",
       "                               min_child_weight=2, missing=nan,\n",
       "                               monotone_constraints='()', n_estimators=400,\n",
       "                               n_jobs=-1, num_parallel_tree=1, random_state=42,\n",
       "                               reg_alpha=0, reg_lambda=1, scale_pos_weight=1,\n",
       "                               subsample=0.4, tree_method='exact',\n",
       "                               validate_parameters=1, verbosity=1))],\n",
       "         verbose=True)"
      ]
     },
     "execution_count": 211,
     "metadata": {},
     "output_type": "execute_result"
    }
   ],
   "source": [
    "imputer = SimpleImputer(strategy='median')\n",
    "scaler = StandardScaler()\n",
    "pca = PCA(n_components = 0.9)\n",
    "model = XGBClassifier(scale_pos_weight=59,subsample= 0.3,n_estimators=300,min_child_weight=3,max_depth=15,learning_rate=0.001,gamma=5,colsample_bytree=0.9,n_jobs=-1,verbosity=1)\n",
    "oversampling = SMOTETomek(random_state=42)\n",
    "#scorer = make_scorer(score_func)  \n",
    "\n",
    "#pipeline = ImbPipeline(steps=[('i', imputer),('s', scaler),('p', pca), ('m', model)],verbose=True,memory=cachedir)\n",
    "\n",
    "pipeline = ImbPipeline(steps=[('i', SimpleImputer(strategy='median')),\n",
    "                  ('o', SMOTETomek(random_state=42)), ('s', StandardScaler()),\n",
    "                  ('p', PCA(n_components=0.95)),\n",
    "                  ('m',\n",
    "                   XGBClassifier(base_score=0.5, booster='gbtree',\n",
    "                                 colsample_bylevel=1, colsample_bynode=1,\n",
    "                                 colsample_bytree=0.6, gamma=2.0, gpu_id=-1,\n",
    "                                 importance_type='gain',\n",
    "                                 interaction_constraints='', learning_rate=0.5,\n",
    "                                 max_delta_step=0, max_depth=4,\n",
    "                                 min_child_weight=2,\n",
    "                                 monotone_constraints='()', n_estimators=400,\n",
    "                                 n_jobs=-1, num_parallel_tree=1, random_state=42,\n",
    "                                 reg_alpha=0, reg_lambda=1, scale_pos_weight=1,\n",
    "                                 subsample=0.4, tree_method='exact',\n",
    "                                 validate_parameters=1, verbosity=1))],\n",
    "           verbose=True)\n",
    "\n",
    "pipeline.fit(X,y.values.ravel())\n",
    "#0.9\t0.5\t1\t5\t0.001\t5.0\t0.9 ,('s', scaler),('p', pca),('o',oversampling)\n",
    "#0.99\t0.3\t3\t15\t0.001\t5.0\t0.9 scale_pos_weight=59,"
   ]
  },
  {
   "cell_type": "code",
   "execution_count": 212,
   "metadata": {},
   "outputs": [],
   "source": [
    "fpr,tpr, thresholds = roc_curve(y, pipeline.predict_proba(X)[:,1])"
   ]
  },
  {
   "cell_type": "code",
   "execution_count": 213,
   "metadata": {},
   "outputs": [],
   "source": [
    "mymetric = fpr + (1-tpr)"
   ]
  },
  {
   "cell_type": "code",
   "execution_count": 214,
   "metadata": {},
   "outputs": [
    {
     "data": {
      "text/plain": [
       "166"
      ]
     },
     "execution_count": 214,
     "metadata": {},
     "output_type": "execute_result"
    }
   ],
   "source": [
    "np.argmin(mymetric)"
   ]
  },
  {
   "cell_type": "code",
   "execution_count": 215,
   "metadata": {},
   "outputs": [
    {
     "name": "stdout",
     "output_type": "stream",
     "text": [
      "Best Threshold: 0.55317885\n"
     ]
    },
    {
     "data": {
      "image/png": "[encoded data removed]",
      "text/plain": [
       "<Figure size 432x288 with 1 Axes>"
      ]
     },
     "metadata": {
      "needs_background": "light"
     },
     "output_type": "display_data"
    }
   ],
   "source": [
    "plt.plot(fpr,tpr)\n",
    "plt.scatter(fpr[np.argmin(mymetric)],tpr[np.argmin(mymetric)],c='r')\n",
    "print('Best Threshold:',thresholds[np.argmin(mymetric)])"
   ]
  },
  {
   "cell_type": "code",
   "execution_count": 216,
   "metadata": {},
   "outputs": [
    {
     "data": {
      "text/plain": [
       "34030"
      ]
     },
     "execution_count": 216,
     "metadata": {},
     "output_type": "execute_result"
    }
   ],
   "source": [
    "cm = confusion_matrix(testy,(pipeline.predict(testX)))\n",
    "cm[0][1]*10+cm[1][0]*500"
   ]
  },
  {
   "cell_type": "code",
   "execution_count": 217,
   "metadata": {},
   "outputs": [
    {
     "data": {
      "text/plain": [
       "34870"
      ]
     },
     "execution_count": 217,
     "metadata": {},
     "output_type": "execute_result"
    }
   ],
   "source": [
    "cm = confusion_matrix(testy,(pipeline.predict_proba(testX)[:,1] >= thresholds[np.argmin(mymetric)]).astype(bool))\n",
    "cm[0][1]*10+cm[1][0]*500"
   ]
  },
  {
   "cell_type": "code",
   "execution_count": 52,
   "metadata": {
    "collapsed": true
   },
   "outputs": [
    {
     "name": "stdout",
     "output_type": "stream",
     "text": [
      "Best threshold: 0.47100824\n"
     ]
    },
    {
     "data": {
      "image/png": "[encoded data removed]",
      "text/plain": [
       "<Figure size 432x288 with 1 Axes>"
      ]
     },
     "metadata": {
      "needs_background": "light"
     },
     "output_type": "display_data"
    }
   ],
   "source": [
    "costs = []\n",
    "for t in thresholds:\n",
    "    cm = confusion_matrix(testy,(pipeline.predict_proba(testX)[:,1] >= t).astype(bool))\n",
    "    costs.append(cm[0][1]*10+cm[1][0]*500)\n",
    "plt.plot(thresholds,costs)\n",
    "print('Best threshold:', thresholds[np.argmin(costs)])"
   ]
  },
  {
   "cell_type": "code",
   "execution_count": 95,
   "metadata": {},
   "outputs": [
    {
     "ename": "TypeError",
     "evalue": "__init__() got multiple values for argument 'name'",
     "output_type": "error",
     "traceback": [
      "\u001b[1;31m---------------------------------------------------------------------------\u001b[0m",
      "\u001b[1;31mTypeError\u001b[0m                                 Traceback (most recent call last)",
      "\u001b[1;32m<ipython-input-95-820987a9d4b5>\u001b[0m in \u001b[0;36m<module>\u001b[1;34m\u001b[0m\n\u001b[1;32m----> 1\u001b[1;33m search_space = [Real(0.5,0.6,0.7,0.8,0.9,0.95,0.99, name='p__n_components'), \n\u001b[0m\u001b[0;32m      2\u001b[0m                 \u001b[0mReal\u001b[0m\u001b[1;33m(\u001b[0m\u001b[1;36m0.3\u001b[0m\u001b[1;33m,\u001b[0m\u001b[1;36m0.4\u001b[0m\u001b[1;33m,\u001b[0m\u001b[1;36m0.5\u001b[0m\u001b[1;33m,\u001b[0m\u001b[1;36m0.6\u001b[0m\u001b[1;33m,\u001b[0m\u001b[1;36m0.7\u001b[0m\u001b[1;33m,\u001b[0m\u001b[1;36m0.8\u001b[0m\u001b[1;33m,\u001b[0m\u001b[1;36m0.9\u001b[0m\u001b[1;33m,\u001b[0m\u001b[1;36m1\u001b[0m\u001b[1;33m,\u001b[0m \u001b[0mname\u001b[0m\u001b[1;33m=\u001b[0m\u001b[1;34m'm__subsample'\u001b[0m\u001b[1;33m)\u001b[0m\u001b[1;33m,\u001b[0m\u001b[1;33m\u001b[0m\u001b[1;33m\u001b[0m\u001b[0m\n\u001b[0;32m      3\u001b[0m                 \u001b[0mReal\u001b[0m\u001b[1;33m(\u001b[0m\u001b[1;36m100\u001b[0m\u001b[1;33m,\u001b[0m\u001b[1;36m200\u001b[0m\u001b[1;33m,\u001b[0m\u001b[1;36m300\u001b[0m\u001b[1;33m,\u001b[0m\u001b[1;36m400\u001b[0m\u001b[1;33m,\u001b[0m \u001b[0mname\u001b[0m\u001b[1;33m=\u001b[0m\u001b[1;34m'm__n_estimators'\u001b[0m\u001b[1;33m)\u001b[0m\u001b[1;33m,\u001b[0m\u001b[1;33m\u001b[0m\u001b[1;33m\u001b[0m\u001b[0m\n\u001b[0;32m      4\u001b[0m                 \u001b[0mReal\u001b[0m\u001b[1;33m(\u001b[0m\u001b[1;36m1\u001b[0m\u001b[1;33m,\u001b[0m\u001b[1;36m2\u001b[0m\u001b[1;33m,\u001b[0m\u001b[1;36m3\u001b[0m\u001b[1;33m,\u001b[0m\u001b[1;36m4\u001b[0m\u001b[1;33m,\u001b[0m\u001b[1;36m5\u001b[0m\u001b[1;33m,\u001b[0m\u001b[1;36m6\u001b[0m\u001b[1;33m,\u001b[0m\u001b[1;36m7\u001b[0m\u001b[1;33m,\u001b[0m\u001b[1;36m8\u001b[0m\u001b[1;33m,\u001b[0m\u001b[1;36m9\u001b[0m\u001b[1;33m,\u001b[0m\u001b[1;36m10\u001b[0m\u001b[1;33m,\u001b[0m \u001b[0mname\u001b[0m\u001b[1;33m=\u001b[0m\u001b[1;34m'm__min_child_weight'\u001b[0m\u001b[1;33m)\u001b[0m\u001b[1;33m,\u001b[0m\u001b[1;33m\u001b[0m\u001b[1;33m\u001b[0m\u001b[0m\n\u001b[0;32m      5\u001b[0m                 \u001b[0mReal\u001b[0m\u001b[1;33m(\u001b[0m\u001b[1;36m3\u001b[0m\u001b[1;33m,\u001b[0m\u001b[1;36m5\u001b[0m\u001b[1;33m,\u001b[0m\u001b[1;36m7\u001b[0m\u001b[1;33m,\u001b[0m\u001b[1;36m9\u001b[0m\u001b[1;33m,\u001b[0m\u001b[1;36m11\u001b[0m\u001b[1;33m,\u001b[0m\u001b[1;36m15\u001b[0m\u001b[1;33m,\u001b[0m\u001b[1;36m22\u001b[0m\u001b[1;33m,\u001b[0m \u001b[0mname\u001b[0m\u001b[1;33m=\u001b[0m\u001b[1;34m'm__max_depth'\u001b[0m\u001b[1;33m)\u001b[0m\u001b[1;33m,\u001b[0m\u001b[1;33m\u001b[0m\u001b[1;33m\u001b[0m\u001b[0m\n",
      "\u001b[1;31mTypeError\u001b[0m: __init__() got multiple values for argument 'name'"
     ]
    }
   ],
   "source": [
    "search_space = [Real(0.5,0.6,0.7,0.8,0.9,0.95,0.99, name='p__n_components'), \n",
    "                Real(0.3,0.4,0.5,0.6,0.7,0.8,0.9,1, name='m__subsample'),\n",
    "                Real(100,200,300,400, name='m__n_estimators'),\n",
    "                Real(1,2,3,4,5,6,7,8,9,10, name='m__min_child_weight'),\n",
    "                Real(3,5,7,9,11,15,22, name='m__max_depth'),\n",
    "                Real(0.0001,0.001,0.005,0.01,0.05,0.1,0.2,0.5, name='m__learning_rate'),\n",
    "                Real(0,1,2,3,4,5,10, name='m__gamma'),\n",
    "                Real(0.3,0.4,0.5,0.6,0.7,0.8,0.9,1.0, name='m__colsample_bytree')]\n",
    "imputer = SimpleImputer(strategy='median')\n",
    "scaler = StandardScaler()\n",
    "pca = PCA()\n",
    "model = XGBClassifier(n_jobs=-1,verbosity=1)\n",
    "oversampling = SMOTETomek(random_state=42)\n",
    "scorer = make_scorer(score_func)  \n",
    "pipeline = ImbPipeline(steps=[('i', imputer),('o',oversampling),('s', scaler),('p', pca), ('m', model)],verbose=True,memory=cachedir)\n",
    "\n",
    "@use_named_args(search_space)\n",
    "def evaluate_model(**params):\n",
    "    pipeline.set_params(**params)\n",
    "    result = cross_val_score(pipeline, X, y.values.ravel(), cv=5, n_jobs=-1, scoring=scorer)\n",
    "    estimate = np.mean(result)\n",
    "    return estimate\n",
    " \n",
    "# perform optimization\n",
    "result = gp_minimize(evaluate_model, search_space)\n",
    "# summarizing finding:\n",
    "print('Best Score:',result.fun)\n",
    "print('Best Parameters:',result.x)"
   ]
  },
  {
   "cell_type": "code",
   "execution_count": 81,
   "metadata": {},
   "outputs": [
    {
     "data": {
      "text/plain": [
       "0.7725"
      ]
     },
     "execution_count": 81,
     "metadata": {},
     "output_type": "execute_result"
    }
   ],
   "source": [
    "score_func(y_train,pipeline.predict(X_train))\n"
   ]
  },
  {
   "cell_type": "code",
   "execution_count": 71,
   "metadata": {},
   "outputs": [
    {
     "data": {
      "text/plain": [
       "array([[15189,   436],\n",
       "       [   38,   337]], dtype=int64)"
      ]
     },
     "execution_count": 71,
     "metadata": {},
     "output_type": "execute_result"
    }
   ],
   "source": [
    "cm"
   ]
  },
  {
   "cell_type": "code",
   "execution_count": 13,
   "metadata": {},
   "outputs": [
    {
     "data": {
      "text/plain": [
       "14920"
      ]
     },
     "execution_count": 13,
     "metadata": {},
     "output_type": "execute_result"
    }
   ],
   "source": [
    "cm = confusion_matrix(testy,pipeline.predict(testX))\n",
    "cm[0][1]*10+cm[1][0]*500"
   ]
  },
  {
   "cell_type": "code",
   "execution_count": 82,
   "metadata": {},
   "outputs": [
    {
     "data": {
      "text/plain": [
       "array([[14870,   755],\n",
       "       [   16,   359]], dtype=int64)"
      ]
     },
     "execution_count": 82,
     "metadata": {},
     "output_type": "execute_result"
    }
   ],
   "source": [
    "cm"
   ]
  },
  {
   "cell_type": "code",
   "execution_count": 208,
   "metadata": {},
   "outputs": [
    {
     "name": "stdout",
     "output_type": "stream",
     "text": [
      "Fitting 3 folds for each of 5 candidates, totalling 15 fits\n"
     ]
    },
    {
     "name": "stderr",
     "output_type": "stream",
     "text": [
      "[Parallel(n_jobs=-1)]: Using backend LokyBackend with 4 concurrent workers.\n",
      "[Parallel(n_jobs=-1)]: Done  15 out of  15 | elapsed: 11.3min finished\n"
     ]
    },
    {
     "name": "stdout",
     "output_type": "stream",
     "text": [
      "Fitting 3 folds for each of 5 candidates, totalling 15 fits\n"
     ]
    },
    {
     "name": "stderr",
     "output_type": "stream",
     "text": [
      "[Parallel(n_jobs=-1)]: Using backend LokyBackend with 4 concurrent workers.\n",
      "[Parallel(n_jobs=-1)]: Done  15 out of  15 | elapsed:  8.7min finished\n"
     ]
    },
    {
     "name": "stdout",
     "output_type": "stream",
     "text": [
      "Fitting 3 folds for each of 5 candidates, totalling 15 fits\n"
     ]
    },
    {
     "name": "stderr",
     "output_type": "stream",
     "text": [
      "[Parallel(n_jobs=-1)]: Using backend LokyBackend with 4 concurrent workers.\n",
      "[Parallel(n_jobs=-1)]: Done  15 out of  15 | elapsed: 11.2min finished\n"
     ]
    },
    {
     "name": "stdout",
     "output_type": "stream",
     "text": [
      "Fitting 3 folds for each of 5 candidates, totalling 15 fits\n"
     ]
    },
    {
     "name": "stderr",
     "output_type": "stream",
     "text": [
      "[Parallel(n_jobs=-1)]: Using backend LokyBackend with 4 concurrent workers.\n",
      "[Parallel(n_jobs=-1)]: Done  15 out of  15 | elapsed:  6.2min finished\n"
     ]
    },
    {
     "name": "stdout",
     "output_type": "stream",
     "text": [
      "Fitting 3 folds for each of 5 candidates, totalling 15 fits\n"
     ]
    },
    {
     "name": "stderr",
     "output_type": "stream",
     "text": [
      "[Parallel(n_jobs=-1)]: Using backend LokyBackend with 4 concurrent workers.\n",
      "[Parallel(n_jobs=-1)]: Done  15 out of  15 | elapsed: 10.8min finished\n"
     ]
    },
    {
     "name": "stdout",
     "output_type": "stream",
     "text": [
      "Fitting 3 folds for each of 5 candidates, totalling 15 fits\n"
     ]
    },
    {
     "name": "stderr",
     "output_type": "stream",
     "text": [
      "[Parallel(n_jobs=-1)]: Using backend LokyBackend with 4 concurrent workers.\n",
      "[Parallel(n_jobs=-1)]: Done  15 out of  15 | elapsed:  9.2min finished\n"
     ]
    },
    {
     "name": "stdout",
     "output_type": "stream",
     "text": [
      "Fitting 3 folds for each of 5 candidates, totalling 15 fits\n"
     ]
    },
    {
     "name": "stderr",
     "output_type": "stream",
     "text": [
      "[Parallel(n_jobs=-1)]: Using backend LokyBackend with 4 concurrent workers.\n",
      "[Parallel(n_jobs=-1)]: Done  15 out of  15 | elapsed: 11.6min finished\n"
     ]
    },
    {
     "name": "stdout",
     "output_type": "stream",
     "text": [
      "Fitting 3 folds for each of 5 candidates, totalling 15 fits\n"
     ]
    },
    {
     "name": "stderr",
     "output_type": "stream",
     "text": [
      "[Parallel(n_jobs=-1)]: Using backend LokyBackend with 4 concurrent workers.\n",
      "[Parallel(n_jobs=-1)]: Done  15 out of  15 | elapsed:  8.1min finished\n"
     ]
    },
    {
     "name": "stdout",
     "output_type": "stream",
     "text": [
      "Fitting 3 folds for each of 5 candidates, totalling 15 fits\n"
     ]
    },
    {
     "name": "stderr",
     "output_type": "stream",
     "text": [
      "[Parallel(n_jobs=-1)]: Using backend LokyBackend with 4 concurrent workers.\n",
      "[Parallel(n_jobs=-1)]: Done  15 out of  15 | elapsed:  4.4min finished\n"
     ]
    },
    {
     "name": "stdout",
     "output_type": "stream",
     "text": [
      "Fitting 3 folds for each of 5 candidates, totalling 15 fits\n"
     ]
    },
    {
     "name": "stderr",
     "output_type": "stream",
     "text": [
      "[Parallel(n_jobs=-1)]: Using backend LokyBackend with 4 concurrent workers.\n",
      "[Parallel(n_jobs=-1)]: Done  15 out of  15 | elapsed:  5.7min finished\n"
     ]
    },
    {
     "name": "stdout",
     "output_type": "stream",
     "text": [
      "[Pipeline] ................. (step 1 of 5) Processing i, total=   0.7s\n",
      "[Pipeline] ................. (step 2 of 5) Processing o, total=  27.4s\n",
      "[Pipeline] ................. (step 3 of 5) Processing s, total=   0.2s\n",
      "[Pipeline] ................. (step 4 of 5) Processing p, total=   1.5s\n",
      "[Pipeline] ................. (step 5 of 5) Processing m, total=  22.9s\n"
     ]
    }
   ],
   "source": [
    "bayesresult = []\n",
    "imp = SimpleImputer(strategy='median')#,IterativeImputer(random_state=42),KNNImputer()]\n",
    "scaler = StandardScaler()\n",
    "pca = PCA()\n",
    "model = XGBClassifier(random_state=42,n_jobs=-1,verbosity=1)\n",
    "over = SMOTETomek(random_state=42)\n",
    "cachedir = mkdtemp()\n",
    "scorer = make_scorer(score_func)   \n",
    "params =    {'m__learning_rate'    : [0.0001,0.001,0.005,0.01,0.05,0.1,0.2,0.5 ] ,\n",
    "                 'm__max_depth'        : [ 3, 4, 5, 6, 8, 10, 12, 15,20,25],\n",
    "                 'm__min_child_weight' : [ 1,2,3,4,5,6,7,8,9,10 ],\n",
    "                 'm__gamma'            : [ 0.0, 0.1, 0.2 , 0.3, 0.4,0.5,1,2,3,4,5,10 ],\n",
    "                 'm__colsample_bytree' : [ 0.3,0.4,0.5,0.6,0.7,0.8,0.9,1.0 ], \n",
    "                 'm__n_estimators': [int(x) for x in np.linspace(start = 100, stop = 1000, num = 10)],\n",
    "                 'm__subsample': [0.3,0.4,0.5,0.6,0.7,0.8,0.9,1],\n",
    "                 'p__n_components':[0.85,0.9,0.925,0.95,0.99]}\n",
    "                \n",
    "pipeline = ImbPipeline(steps=[('i', imp),('o',over),('s', scaler),('p', pca), ('m', model)],verbose=True)\n",
    "bs = BayesSearchCV(pipeline,params,scoring=scorer,cv=3,n_jobs=-1,n_points=5,verbose=1)\n",
    "bs.fit(X,y.values.ravel())\n",
    "bayesresult.append((bs.best_estimator_,bs.best_score_,bs.cv_results_['std_test_score'][bs.best_index_]))\n",
    "with open('BayesResult.pkl', 'wb') as f:\n",
    "    pickle.dump(bayesresult, f)\n",
    "                        \n",
    "rmtree(cachedir)\n"
   ]
  },
  {
   "cell_type": "code",
   "execution_count": 209,
   "metadata": {},
   "outputs": [
    {
     "data": {
      "text/plain": [
       "[(Pipeline(steps=[('i', SimpleImputer(strategy='median')),\n",
       "                  ('o', SMOTETomek(random_state=42)), ('s', StandardScaler()),\n",
       "                  ('p', PCA(n_components=0.95)),\n",
       "                  ('m',\n",
       "                   XGBClassifier(base_score=0.5, booster='gbtree',\n",
       "                                 colsample_bylevel=1, colsample_bynode=1,\n",
       "                                 colsample_bytree=0.6, gamma=2.0, gpu_id=-1,\n",
       "                                 importance_type='gain',\n",
       "                                 interaction_constraints='', learning_rate=0.5,\n",
       "                                 max_delta_step=0, max_depth=4,\n",
       "                                 min_child_weight=2, missing=nan,\n",
       "                                 monotone_constraints='()', n_estimators=400,\n",
       "                                 n_jobs=-1, num_parallel_tree=1, random_state=42,\n",
       "                                 reg_alpha=0, reg_lambda=1, scale_pos_weight=1,\n",
       "                                 subsample=0.4, tree_method='exact',\n",
       "                                 validate_parameters=1, verbosity=1))],\n",
       "           verbose=True),\n",
       "  1.8173333333333332,\n",
       "  0.15295387830613796)]"
      ]
     },
     "execution_count": 209,
     "metadata": {},
     "output_type": "execute_result"
    }
   ],
   "source": [
    "bayesresult"
   ]
  },
  {
   "cell_type": "code",
   "execution_count": 9,
   "metadata": {},
   "outputs": [
    {
     "name": "stdout",
     "output_type": "stream",
     "text": [
      "[Pipeline] ................. (step 1 of 5) Processing i, total=   2.0s\n",
      "[Pipeline] ................. (step 2 of 5) Processing o, total= 4.3min\n",
      "[Pipeline] ................. (step 3 of 5) Processing s, total=   0.6s\n",
      "[Pipeline] ................. (step 4 of 5) Processing p, total=   5.2s\n",
      "[16:00:40] INFO: C:\\Users\\Administrator\\workspace\\xgboost-win64_release_1.2.0\\src\\tree\\updater_prune.cc:101: tree pruning end, 542 extra nodes, 14 pruned nodes, max_depth=15\n",
      "[16:00:41] INFO: C:\\Users\\Administrator\\workspace\\xgboost-win64_release_1.2.0\\src\\tree\\updater_prune.cc:101: tree pruning end, 444 extra nodes, 12 pruned nodes, max_depth=15\n",
      "[16:00:41] INFO: C:\\Users\\Administrator\\workspace\\xgboost-win64_release_1.2.0\\src\\tree\\updater_prune.cc:101: tree pruning end, 452 extra nodes, 28 pruned nodes, max_depth=15\n",
      "[16:00:41] INFO: C:\\Users\\Administrator\\workspace\\xgboost-win64_release_1.2.0\\src\\tree\\updater_prune.cc:101: tree pruning end, 518 extra nodes, 26 pruned nodes, max_depth=15\n",
      "[16:00:41] INFO: C:\\Users\\Administrator\\workspace\\xgboost-win64_release_1.2.0\\src\\tree\\updater_prune.cc:101: tree pruning end, 596 extra nodes, 28 pruned nodes, max_depth=15\n",
      "[16:00:42] INFO: C:\\Users\\Administrator\\workspace\\xgboost-win64_release_1.2.0\\src\\tree\\updater_prune.cc:101: tree pruning end, 614 extra nodes, 28 pruned nodes, max_depth=15\n",
      "[16:00:42] INFO: C:\\Users\\Administrator\\workspace\\xgboost-win64_release_1.2.0\\src\\tree\\updater_prune.cc:101: tree pruning end, 606 extra nodes, 30 pruned nodes, max_depth=15\n",
      "[16:00:42] INFO: C:\\Users\\Administrator\\workspace\\xgboost-win64_release_1.2.0\\src\\tree\\updater_prune.cc:101: tree pruning end, 576 extra nodes, 18 pruned nodes, max_depth=15\n",
      "[16:00:42] INFO: C:\\Users\\Administrator\\workspace\\xgboost-win64_release_1.2.0\\src\\tree\\updater_prune.cc:101: tree pruning end, 504 extra nodes, 34 pruned nodes, max_depth=15\n",
      "[16:00:43] INFO: C:\\Users\\Administrator\\workspace\\xgboost-win64_release_1.2.0\\src\\tree\\updater_prune.cc:101: tree pruning end, 466 extra nodes, 30 pruned nodes, max_depth=15\n",
      "[16:00:43] INFO: C:\\Users\\Administrator\\workspace\\xgboost-win64_release_1.2.0\\src\\tree\\updater_prune.cc:101: tree pruning end, 472 extra nodes, 32 pruned nodes, max_depth=14\n",
      "[16:00:43] INFO: C:\\Users\\Administrator\\workspace\\xgboost-win64_release_1.2.0\\src\\tree\\updater_prune.cc:101: tree pruning end, 474 extra nodes, 22 pruned nodes, max_depth=15\n",
      "[16:00:43] INFO: C:\\Users\\Administrator\\workspace\\xgboost-win64_release_1.2.0\\src\\tree\\updater_prune.cc:101: tree pruning end, 494 extra nodes, 20 pruned nodes, max_depth=15\n",
      "[16:00:43] INFO: C:\\Users\\Administrator\\workspace\\xgboost-win64_release_1.2.0\\src\\tree\\updater_prune.cc:101: tree pruning end, 418 extra nodes, 32 pruned nodes, max_depth=15\n",
      "[16:00:44] INFO: C:\\Users\\Administrator\\workspace\\xgboost-win64_release_1.2.0\\src\\tree\\updater_prune.cc:101: tree pruning end, 412 extra nodes, 20 pruned nodes, max_depth=15\n",
      "[16:00:44] INFO: C:\\Users\\Administrator\\workspace\\xgboost-win64_release_1.2.0\\src\\tree\\updater_prune.cc:101: tree pruning end, 386 extra nodes, 24 pruned nodes, max_depth=15\n",
      "[16:00:44] INFO: C:\\Users\\Administrator\\workspace\\xgboost-win64_release_1.2.0\\src\\tree\\updater_prune.cc:101: tree pruning end, 400 extra nodes, 22 pruned nodes, max_depth=15\n",
      "[16:00:44] INFO: C:\\Users\\Administrator\\workspace\\xgboost-win64_release_1.2.0\\src\\tree\\updater_prune.cc:101: tree pruning end, 398 extra nodes, 20 pruned nodes, max_depth=15\n",
      "[16:00:45] INFO: C:\\Users\\Administrator\\workspace\\xgboost-win64_release_1.2.0\\src\\tree\\updater_prune.cc:101: tree pruning end, 376 extra nodes, 12 pruned nodes, max_depth=15\n",
      "[16:00:45] INFO: C:\\Users\\Administrator\\workspace\\xgboost-win64_release_1.2.0\\src\\tree\\updater_prune.cc:101: tree pruning end, 360 extra nodes, 10 pruned nodes, max_depth=15\n",
      "[16:00:45] INFO: C:\\Users\\Administrator\\workspace\\xgboost-win64_release_1.2.0\\src\\tree\\updater_prune.cc:101: tree pruning end, 334 extra nodes, 10 pruned nodes, max_depth=14\n",
      "[16:00:45] INFO: C:\\Users\\Administrator\\workspace\\xgboost-win64_release_1.2.0\\src\\tree\\updater_prune.cc:101: tree pruning end, 312 extra nodes, 6 pruned nodes, max_depth=15\n",
      "[16:00:45] INFO: C:\\Users\\Administrator\\workspace\\xgboost-win64_release_1.2.0\\src\\tree\\updater_prune.cc:101: tree pruning end, 314 extra nodes, 6 pruned nodes, max_depth=15\n",
      "[16:00:46] INFO: C:\\Users\\Administrator\\workspace\\xgboost-win64_release_1.2.0\\src\\tree\\updater_prune.cc:101: tree pruning end, 292 extra nodes, 14 pruned nodes, max_depth=15\n",
      "[16:00:46] INFO: C:\\Users\\Administrator\\workspace\\xgboost-win64_release_1.2.0\\src\\tree\\updater_prune.cc:101: tree pruning end, 248 extra nodes, 14 pruned nodes, max_depth=15\n",
      "[16:00:46] INFO: C:\\Users\\Administrator\\workspace\\xgboost-win64_release_1.2.0\\src\\tree\\updater_prune.cc:101: tree pruning end, 276 extra nodes, 6 pruned nodes, max_depth=15\n",
      "[16:00:46] INFO: C:\\Users\\Administrator\\workspace\\xgboost-win64_release_1.2.0\\src\\tree\\updater_prune.cc:101: tree pruning end, 264 extra nodes, 6 pruned nodes, max_depth=15\n",
      "[16:00:46] INFO: C:\\Users\\Administrator\\workspace\\xgboost-win64_release_1.2.0\\src\\tree\\updater_prune.cc:101: tree pruning end, 194 extra nodes, 12 pruned nodes, max_depth=15\n",
      "[16:00:47] INFO: C:\\Users\\Administrator\\workspace\\xgboost-win64_release_1.2.0\\src\\tree\\updater_prune.cc:101: tree pruning end, 186 extra nodes, 2 pruned nodes, max_depth=15\n",
      "[16:00:47] INFO: C:\\Users\\Administrator\\workspace\\xgboost-win64_release_1.2.0\\src\\tree\\updater_prune.cc:101: tree pruning end, 188 extra nodes, 0 pruned nodes, max_depth=15\n",
      "[16:00:47] INFO: C:\\Users\\Administrator\\workspace\\xgboost-win64_release_1.2.0\\src\\tree\\updater_prune.cc:101: tree pruning end, 248 extra nodes, 8 pruned nodes, max_depth=15\n",
      "[16:00:47] INFO: C:\\Users\\Administrator\\workspace\\xgboost-win64_release_1.2.0\\src\\tree\\updater_prune.cc:101: tree pruning end, 224 extra nodes, 0 pruned nodes, max_depth=15\n",
      "[16:00:48] INFO: C:\\Users\\Administrator\\workspace\\xgboost-win64_release_1.2.0\\src\\tree\\updater_prune.cc:101: tree pruning end, 180 extra nodes, 2 pruned nodes, max_depth=15\n",
      "[16:00:48] INFO: C:\\Users\\Administrator\\workspace\\xgboost-win64_release_1.2.0\\src\\tree\\updater_prune.cc:101: tree pruning end, 232 extra nodes, 0 pruned nodes, max_depth=15\n",
      "[16:00:48] INFO: C:\\Users\\Administrator\\workspace\\xgboost-win64_release_1.2.0\\src\\tree\\updater_prune.cc:101: tree pruning end, 202 extra nodes, 6 pruned nodes, max_depth=15\n",
      "[16:00:48] INFO: C:\\Users\\Administrator\\workspace\\xgboost-win64_release_1.2.0\\src\\tree\\updater_prune.cc:101: tree pruning end, 128 extra nodes, 2 pruned nodes, max_depth=15\n",
      "[16:00:49] INFO: C:\\Users\\Administrator\\workspace\\xgboost-win64_release_1.2.0\\src\\tree\\updater_prune.cc:101: tree pruning end, 208 extra nodes, 8 pruned nodes, max_depth=15\n",
      "[16:00:49] INFO: C:\\Users\\Administrator\\workspace\\xgboost-win64_release_1.2.0\\src\\tree\\updater_prune.cc:101: tree pruning end, 100 extra nodes, 2 pruned nodes, max_depth=15\n",
      "[16:00:49] INFO: C:\\Users\\Administrator\\workspace\\xgboost-win64_release_1.2.0\\src\\tree\\updater_prune.cc:101: tree pruning end, 140 extra nodes, 2 pruned nodes, max_depth=15\n",
      "[16:00:49] INFO: C:\\Users\\Administrator\\workspace\\xgboost-win64_release_1.2.0\\src\\tree\\updater_prune.cc:101: tree pruning end, 134 extra nodes, 6 pruned nodes, max_depth=15\n",
      "[16:00:49] INFO: C:\\Users\\Administrator\\workspace\\xgboost-win64_release_1.2.0\\src\\tree\\updater_prune.cc:101: tree pruning end, 194 extra nodes, 4 pruned nodes, max_depth=15\n",
      "[16:00:50] INFO: C:\\Users\\Administrator\\workspace\\xgboost-win64_release_1.2.0\\src\\tree\\updater_prune.cc:101: tree pruning end, 168 extra nodes, 0 pruned nodes, max_depth=15\n",
      "[16:00:50] INFO: C:\\Users\\Administrator\\workspace\\xgboost-win64_release_1.2.0\\src\\tree\\updater_prune.cc:101: tree pruning end, 176 extra nodes, 2 pruned nodes, max_depth=15\n",
      "[16:00:50] INFO: C:\\Users\\Administrator\\workspace\\xgboost-win64_release_1.2.0\\src\\tree\\updater_prune.cc:101: tree pruning end, 164 extra nodes, 2 pruned nodes, max_depth=15\n",
      "[16:00:50] INFO: C:\\Users\\Administrator\\workspace\\xgboost-win64_release_1.2.0\\src\\tree\\updater_prune.cc:101: tree pruning end, 80 extra nodes, 0 pruned nodes, max_depth=15\n",
      "[16:00:51] INFO: C:\\Users\\Administrator\\workspace\\xgboost-win64_release_1.2.0\\src\\tree\\updater_prune.cc:101: tree pruning end, 126 extra nodes, 2 pruned nodes, max_depth=15\n"
     ]
    },
    {
     "name": "stdout",
     "output_type": "stream",
     "text": [
      "[16:00:51] INFO: C:\\Users\\Administrator\\workspace\\xgboost-win64_release_1.2.0\\src\\tree\\updater_prune.cc:101: tree pruning end, 48 extra nodes, 0 pruned nodes, max_depth=15\n",
      "[16:00:51] INFO: C:\\Users\\Administrator\\workspace\\xgboost-win64_release_1.2.0\\src\\tree\\updater_prune.cc:101: tree pruning end, 80 extra nodes, 2 pruned nodes, max_depth=15\n",
      "[16:00:51] INFO: C:\\Users\\Administrator\\workspace\\xgboost-win64_release_1.2.0\\src\\tree\\updater_prune.cc:101: tree pruning end, 68 extra nodes, 0 pruned nodes, max_depth=15\n",
      "[16:00:52] INFO: C:\\Users\\Administrator\\workspace\\xgboost-win64_release_1.2.0\\src\\tree\\updater_prune.cc:101: tree pruning end, 170 extra nodes, 4 pruned nodes, max_depth=15\n",
      "[16:00:52] INFO: C:\\Users\\Administrator\\workspace\\xgboost-win64_release_1.2.0\\src\\tree\\updater_prune.cc:101: tree pruning end, 188 extra nodes, 2 pruned nodes, max_depth=15\n",
      "[16:00:52] INFO: C:\\Users\\Administrator\\workspace\\xgboost-win64_release_1.2.0\\src\\tree\\updater_prune.cc:101: tree pruning end, 168 extra nodes, 2 pruned nodes, max_depth=15\n",
      "[16:00:52] INFO: C:\\Users\\Administrator\\workspace\\xgboost-win64_release_1.2.0\\src\\tree\\updater_prune.cc:101: tree pruning end, 174 extra nodes, 4 pruned nodes, max_depth=15\n",
      "[16:00:52] INFO: C:\\Users\\Administrator\\workspace\\xgboost-win64_release_1.2.0\\src\\tree\\updater_prune.cc:101: tree pruning end, 78 extra nodes, 2 pruned nodes, max_depth=15\n",
      "[16:00:53] INFO: C:\\Users\\Administrator\\workspace\\xgboost-win64_release_1.2.0\\src\\tree\\updater_prune.cc:101: tree pruning end, 170 extra nodes, 0 pruned nodes, max_depth=14\n",
      "[16:00:53] INFO: C:\\Users\\Administrator\\workspace\\xgboost-win64_release_1.2.0\\src\\tree\\updater_prune.cc:101: tree pruning end, 150 extra nodes, 2 pruned nodes, max_depth=15\n",
      "[16:00:53] INFO: C:\\Users\\Administrator\\workspace\\xgboost-win64_release_1.2.0\\src\\tree\\updater_prune.cc:101: tree pruning end, 110 extra nodes, 0 pruned nodes, max_depth=15\n",
      "[16:00:53] INFO: C:\\Users\\Administrator\\workspace\\xgboost-win64_release_1.2.0\\src\\tree\\updater_prune.cc:101: tree pruning end, 100 extra nodes, 2 pruned nodes, max_depth=15\n",
      "[16:00:54] INFO: C:\\Users\\Administrator\\workspace\\xgboost-win64_release_1.2.0\\src\\tree\\updater_prune.cc:101: tree pruning end, 72 extra nodes, 2 pruned nodes, max_depth=15\n",
      "[16:00:54] INFO: C:\\Users\\Administrator\\workspace\\xgboost-win64_release_1.2.0\\src\\tree\\updater_prune.cc:101: tree pruning end, 156 extra nodes, 2 pruned nodes, max_depth=15\n",
      "[16:00:54] INFO: C:\\Users\\Administrator\\workspace\\xgboost-win64_release_1.2.0\\src\\tree\\updater_prune.cc:101: tree pruning end, 146 extra nodes, 4 pruned nodes, max_depth=15\n",
      "[16:00:54] INFO: C:\\Users\\Administrator\\workspace\\xgboost-win64_release_1.2.0\\src\\tree\\updater_prune.cc:101: tree pruning end, 156 extra nodes, 2 pruned nodes, max_depth=15\n",
      "[16:00:54] INFO: C:\\Users\\Administrator\\workspace\\xgboost-win64_release_1.2.0\\src\\tree\\updater_prune.cc:101: tree pruning end, 86 extra nodes, 0 pruned nodes, max_depth=15\n",
      "[16:00:55] INFO: C:\\Users\\Administrator\\workspace\\xgboost-win64_release_1.2.0\\src\\tree\\updater_prune.cc:101: tree pruning end, 60 extra nodes, 0 pruned nodes, max_depth=15\n",
      "[16:00:55] INFO: C:\\Users\\Administrator\\workspace\\xgboost-win64_release_1.2.0\\src\\tree\\updater_prune.cc:101: tree pruning end, 84 extra nodes, 2 pruned nodes, max_depth=15\n",
      "[16:00:55] INFO: C:\\Users\\Administrator\\workspace\\xgboost-win64_release_1.2.0\\src\\tree\\updater_prune.cc:101: tree pruning end, 116 extra nodes, 0 pruned nodes, max_depth=15\n",
      "[16:00:55] INFO: C:\\Users\\Administrator\\workspace\\xgboost-win64_release_1.2.0\\src\\tree\\updater_prune.cc:101: tree pruning end, 146 extra nodes, 2 pruned nodes, max_depth=15\n",
      "[16:00:56] INFO: C:\\Users\\Administrator\\workspace\\xgboost-win64_release_1.2.0\\src\\tree\\updater_prune.cc:101: tree pruning end, 144 extra nodes, 0 pruned nodes, max_depth=14\n",
      "[16:00:56] INFO: C:\\Users\\Administrator\\workspace\\xgboost-win64_release_1.2.0\\src\\tree\\updater_prune.cc:101: tree pruning end, 144 extra nodes, 0 pruned nodes, max_depth=15\n",
      "[16:00:56] INFO: C:\\Users\\Administrator\\workspace\\xgboost-win64_release_1.2.0\\src\\tree\\updater_prune.cc:101: tree pruning end, 140 extra nodes, 2 pruned nodes, max_depth=13\n",
      "[16:00:56] INFO: C:\\Users\\Administrator\\workspace\\xgboost-win64_release_1.2.0\\src\\tree\\updater_prune.cc:101: tree pruning end, 140 extra nodes, 2 pruned nodes, max_depth=14\n",
      "[16:00:56] INFO: C:\\Users\\Administrator\\workspace\\xgboost-win64_release_1.2.0\\src\\tree\\updater_prune.cc:101: tree pruning end, 134 extra nodes, 4 pruned nodes, max_depth=15\n",
      "[16:00:57] INFO: C:\\Users\\Administrator\\workspace\\xgboost-win64_release_1.2.0\\src\\tree\\updater_prune.cc:101: tree pruning end, 120 extra nodes, 4 pruned nodes, max_depth=15\n",
      "[16:00:57] INFO: C:\\Users\\Administrator\\workspace\\xgboost-win64_release_1.2.0\\src\\tree\\updater_prune.cc:101: tree pruning end, 92 extra nodes, 6 pruned nodes, max_depth=15\n",
      "[16:00:57] INFO: C:\\Users\\Administrator\\workspace\\xgboost-win64_release_1.2.0\\src\\tree\\updater_prune.cc:101: tree pruning end, 102 extra nodes, 4 pruned nodes, max_depth=15\n",
      "[16:00:57] INFO: C:\\Users\\Administrator\\workspace\\xgboost-win64_release_1.2.0\\src\\tree\\updater_prune.cc:101: tree pruning end, 78 extra nodes, 2 pruned nodes, max_depth=15\n",
      "[16:00:57] INFO: C:\\Users\\Administrator\\workspace\\xgboost-win64_release_1.2.0\\src\\tree\\updater_prune.cc:101: tree pruning end, 124 extra nodes, 2 pruned nodes, max_depth=15\n",
      "[16:00:58] INFO: C:\\Users\\Administrator\\workspace\\xgboost-win64_release_1.2.0\\src\\tree\\updater_prune.cc:101: tree pruning end, 120 extra nodes, 4 pruned nodes, max_depth=15\n",
      "[16:00:58] INFO: C:\\Users\\Administrator\\workspace\\xgboost-win64_release_1.2.0\\src\\tree\\updater_prune.cc:101: tree pruning end, 108 extra nodes, 0 pruned nodes, max_depth=15\n",
      "[16:00:58] INFO: C:\\Users\\Administrator\\workspace\\xgboost-win64_release_1.2.0\\src\\tree\\updater_prune.cc:101: tree pruning end, 110 extra nodes, 2 pruned nodes, max_depth=15\n",
      "[16:00:58] INFO: C:\\Users\\Administrator\\workspace\\xgboost-win64_release_1.2.0\\src\\tree\\updater_prune.cc:101: tree pruning end, 102 extra nodes, 2 pruned nodes, max_depth=15\n",
      "[16:00:59] INFO: C:\\Users\\Administrator\\workspace\\xgboost-win64_release_1.2.0\\src\\tree\\updater_prune.cc:101: tree pruning end, 108 extra nodes, 2 pruned nodes, max_depth=15\n",
      "[16:00:59] INFO: C:\\Users\\Administrator\\workspace\\xgboost-win64_release_1.2.0\\src\\tree\\updater_prune.cc:101: tree pruning end, 90 extra nodes, 2 pruned nodes, max_depth=15\n",
      "[16:00:59] INFO: C:\\Users\\Administrator\\workspace\\xgboost-win64_release_1.2.0\\src\\tree\\updater_prune.cc:101: tree pruning end, 122 extra nodes, 2 pruned nodes, max_depth=15\n",
      "[16:00:59] INFO: C:\\Users\\Administrator\\workspace\\xgboost-win64_release_1.2.0\\src\\tree\\updater_prune.cc:101: tree pruning end, 112 extra nodes, 4 pruned nodes, max_depth=11\n",
      "[16:00:59] INFO: C:\\Users\\Administrator\\workspace\\xgboost-win64_release_1.2.0\\src\\tree\\updater_prune.cc:101: tree pruning end, 86 extra nodes, 0 pruned nodes, max_depth=15\n",
      "[16:01:00] INFO: C:\\Users\\Administrator\\workspace\\xgboost-win64_release_1.2.0\\src\\tree\\updater_prune.cc:101: tree pruning end, 76 extra nodes, 2 pruned nodes, max_depth=15\n",
      "[16:01:00] INFO: C:\\Users\\Administrator\\workspace\\xgboost-win64_release_1.2.0\\src\\tree\\updater_prune.cc:101: tree pruning end, 118 extra nodes, 4 pruned nodes, max_depth=11\n",
      "[16:01:00] INFO: C:\\Users\\Administrator\\workspace\\xgboost-win64_release_1.2.0\\src\\tree\\updater_prune.cc:101: tree pruning end, 112 extra nodes, 6 pruned nodes, max_depth=15\n",
      "[16:01:00] INFO: C:\\Users\\Administrator\\workspace\\xgboost-win64_release_1.2.0\\src\\tree\\updater_prune.cc:101: tree pruning end, 104 extra nodes, 12 pruned nodes, max_depth=12\n",
      "[16:01:00] INFO: C:\\Users\\Administrator\\workspace\\xgboost-win64_release_1.2.0\\src\\tree\\updater_prune.cc:101: tree pruning end, 102 extra nodes, 2 pruned nodes, max_depth=15\n",
      "[16:01:01] INFO: C:\\Users\\Administrator\\workspace\\xgboost-win64_release_1.2.0\\src\\tree\\updater_prune.cc:101: tree pruning end, 104 extra nodes, 2 pruned nodes, max_depth=15\n",
      "[16:01:01] INFO: C:\\Users\\Administrator\\workspace\\xgboost-win64_release_1.2.0\\src\\tree\\updater_prune.cc:101: tree pruning end, 104 extra nodes, 6 pruned nodes, max_depth=14\n",
      "[16:01:01] INFO: C:\\Users\\Administrator\\workspace\\xgboost-win64_release_1.2.0\\src\\tree\\updater_prune.cc:101: tree pruning end, 106 extra nodes, 0 pruned nodes, max_depth=14\n",
      "[16:01:01] INFO: C:\\Users\\Administrator\\workspace\\xgboost-win64_release_1.2.0\\src\\tree\\updater_prune.cc:101: tree pruning end, 106 extra nodes, 2 pruned nodes, max_depth=12\n"
     ]
    },
    {
     "name": "stdout",
     "output_type": "stream",
     "text": [
      "[16:01:01] INFO: C:\\Users\\Administrator\\workspace\\xgboost-win64_release_1.2.0\\src\\tree\\updater_prune.cc:101: tree pruning end, 106 extra nodes, 2 pruned nodes, max_depth=13\n",
      "[16:01:02] INFO: C:\\Users\\Administrator\\workspace\\xgboost-win64_release_1.2.0\\src\\tree\\updater_prune.cc:101: tree pruning end, 94 extra nodes, 0 pruned nodes, max_depth=15\n",
      "[16:01:02] INFO: C:\\Users\\Administrator\\workspace\\xgboost-win64_release_1.2.0\\src\\tree\\updater_prune.cc:101: tree pruning end, 80 extra nodes, 2 pruned nodes, max_depth=15\n",
      "[16:01:02] INFO: C:\\Users\\Administrator\\workspace\\xgboost-win64_release_1.2.0\\src\\tree\\updater_prune.cc:101: tree pruning end, 96 extra nodes, 2 pruned nodes, max_depth=15\n",
      "[16:01:02] INFO: C:\\Users\\Administrator\\workspace\\xgboost-win64_release_1.2.0\\src\\tree\\updater_prune.cc:101: tree pruning end, 68 extra nodes, 0 pruned nodes, max_depth=15\n",
      "[16:01:02] INFO: C:\\Users\\Administrator\\workspace\\xgboost-win64_release_1.2.0\\src\\tree\\updater_prune.cc:101: tree pruning end, 58 extra nodes, 0 pruned nodes, max_depth=15\n",
      "[16:01:03] INFO: C:\\Users\\Administrator\\workspace\\xgboost-win64_release_1.2.0\\src\\tree\\updater_prune.cc:101: tree pruning end, 86 extra nodes, 8 pruned nodes, max_depth=15\n",
      "[16:01:03] INFO: C:\\Users\\Administrator\\workspace\\xgboost-win64_release_1.2.0\\src\\tree\\updater_prune.cc:101: tree pruning end, 62 extra nodes, 2 pruned nodes, max_depth=15\n",
      "[16:01:03] INFO: C:\\Users\\Administrator\\workspace\\xgboost-win64_release_1.2.0\\src\\tree\\updater_prune.cc:101: tree pruning end, 98 extra nodes, 0 pruned nodes, max_depth=14\n",
      "[16:01:03] INFO: C:\\Users\\Administrator\\workspace\\xgboost-win64_release_1.2.0\\src\\tree\\updater_prune.cc:101: tree pruning end, 92 extra nodes, 4 pruned nodes, max_depth=13\n",
      "[16:01:04] INFO: C:\\Users\\Administrator\\workspace\\xgboost-win64_release_1.2.0\\src\\tree\\updater_prune.cc:101: tree pruning end, 100 extra nodes, 2 pruned nodes, max_depth=15\n",
      "[16:01:04] INFO: C:\\Users\\Administrator\\workspace\\xgboost-win64_release_1.2.0\\src\\tree\\updater_prune.cc:101: tree pruning end, 74 extra nodes, 0 pruned nodes, max_depth=15\n",
      "[16:01:04] INFO: C:\\Users\\Administrator\\workspace\\xgboost-win64_release_1.2.0\\src\\tree\\updater_prune.cc:101: tree pruning end, 72 extra nodes, 2 pruned nodes, max_depth=15\n",
      "[16:01:04] INFO: C:\\Users\\Administrator\\workspace\\xgboost-win64_release_1.2.0\\src\\tree\\updater_prune.cc:101: tree pruning end, 86 extra nodes, 6 pruned nodes, max_depth=15\n",
      "[16:01:04] INFO: C:\\Users\\Administrator\\workspace\\xgboost-win64_release_1.2.0\\src\\tree\\updater_prune.cc:101: tree pruning end, 96 extra nodes, 4 pruned nodes, max_depth=10\n",
      "[16:01:04] INFO: C:\\Users\\Administrator\\workspace\\xgboost-win64_release_1.2.0\\src\\tree\\updater_prune.cc:101: tree pruning end, 80 extra nodes, 2 pruned nodes, max_depth=15\n",
      "[16:01:05] INFO: C:\\Users\\Administrator\\workspace\\xgboost-win64_release_1.2.0\\src\\tree\\updater_prune.cc:101: tree pruning end, 88 extra nodes, 2 pruned nodes, max_depth=9\n",
      "[16:01:05] INFO: C:\\Users\\Administrator\\workspace\\xgboost-win64_release_1.2.0\\src\\tree\\updater_prune.cc:101: tree pruning end, 56 extra nodes, 2 pruned nodes, max_depth=15\n",
      "[16:01:05] INFO: C:\\Users\\Administrator\\workspace\\xgboost-win64_release_1.2.0\\src\\tree\\updater_prune.cc:101: tree pruning end, 62 extra nodes, 0 pruned nodes, max_depth=15\n",
      "[16:01:05] INFO: C:\\Users\\Administrator\\workspace\\xgboost-win64_release_1.2.0\\src\\tree\\updater_prune.cc:101: tree pruning end, 84 extra nodes, 4 pruned nodes, max_depth=15\n",
      "[16:01:06] INFO: C:\\Users\\Administrator\\workspace\\xgboost-win64_release_1.2.0\\src\\tree\\updater_prune.cc:101: tree pruning end, 82 extra nodes, 0 pruned nodes, max_depth=15\n",
      "[16:01:06] INFO: C:\\Users\\Administrator\\workspace\\xgboost-win64_release_1.2.0\\src\\tree\\updater_prune.cc:101: tree pruning end, 88 extra nodes, 2 pruned nodes, max_depth=15\n",
      "[16:01:06] INFO: C:\\Users\\Administrator\\workspace\\xgboost-win64_release_1.2.0\\src\\tree\\updater_prune.cc:101: tree pruning end, 94 extra nodes, 6 pruned nodes, max_depth=10\n",
      "[16:01:06] INFO: C:\\Users\\Administrator\\workspace\\xgboost-win64_release_1.2.0\\src\\tree\\updater_prune.cc:101: tree pruning end, 88 extra nodes, 2 pruned nodes, max_depth=15\n",
      "[16:01:06] INFO: C:\\Users\\Administrator\\workspace\\xgboost-win64_release_1.2.0\\src\\tree\\updater_prune.cc:101: tree pruning end, 78 extra nodes, 8 pruned nodes, max_depth=12\n",
      "[16:01:06] INFO: C:\\Users\\Administrator\\workspace\\xgboost-win64_release_1.2.0\\src\\tree\\updater_prune.cc:101: tree pruning end, 86 extra nodes, 4 pruned nodes, max_depth=12\n",
      "[16:01:07] INFO: C:\\Users\\Administrator\\workspace\\xgboost-win64_release_1.2.0\\src\\tree\\updater_prune.cc:101: tree pruning end, 54 extra nodes, 4 pruned nodes, max_depth=15\n",
      "[16:01:07] INFO: C:\\Users\\Administrator\\workspace\\xgboost-win64_release_1.2.0\\src\\tree\\updater_prune.cc:101: tree pruning end, 86 extra nodes, 2 pruned nodes, max_depth=13\n",
      "[16:01:07] INFO: C:\\Users\\Administrator\\workspace\\xgboost-win64_release_1.2.0\\src\\tree\\updater_prune.cc:101: tree pruning end, 52 extra nodes, 0 pruned nodes, max_depth=15\n",
      "[16:01:07] INFO: C:\\Users\\Administrator\\workspace\\xgboost-win64_release_1.2.0\\src\\tree\\updater_prune.cc:101: tree pruning end, 80 extra nodes, 4 pruned nodes, max_depth=15\n",
      "[16:01:08] INFO: C:\\Users\\Administrator\\workspace\\xgboost-win64_release_1.2.0\\src\\tree\\updater_prune.cc:101: tree pruning end, 82 extra nodes, 2 pruned nodes, max_depth=15\n",
      "[16:01:08] INFO: C:\\Users\\Administrator\\workspace\\xgboost-win64_release_1.2.0\\src\\tree\\updater_prune.cc:101: tree pruning end, 76 extra nodes, 4 pruned nodes, max_depth=15\n",
      "[16:01:08] INFO: C:\\Users\\Administrator\\workspace\\xgboost-win64_release_1.2.0\\src\\tree\\updater_prune.cc:101: tree pruning end, 78 extra nodes, 8 pruned nodes, max_depth=11\n",
      "[16:01:08] INFO: C:\\Users\\Administrator\\workspace\\xgboost-win64_release_1.2.0\\src\\tree\\updater_prune.cc:101: tree pruning end, 80 extra nodes, 2 pruned nodes, max_depth=14\n",
      "[16:01:08] INFO: C:\\Users\\Administrator\\workspace\\xgboost-win64_release_1.2.0\\src\\tree\\updater_prune.cc:101: tree pruning end, 78 extra nodes, 0 pruned nodes, max_depth=15\n",
      "[16:01:08] INFO: C:\\Users\\Administrator\\workspace\\xgboost-win64_release_1.2.0\\src\\tree\\updater_prune.cc:101: tree pruning end, 80 extra nodes, 0 pruned nodes, max_depth=14\n",
      "[16:01:09] INFO: C:\\Users\\Administrator\\workspace\\xgboost-win64_release_1.2.0\\src\\tree\\updater_prune.cc:101: tree pruning end, 68 extra nodes, 2 pruned nodes, max_depth=15\n",
      "[16:01:09] INFO: C:\\Users\\Administrator\\workspace\\xgboost-win64_release_1.2.0\\src\\tree\\updater_prune.cc:101: tree pruning end, 58 extra nodes, 4 pruned nodes, max_depth=15\n",
      "[16:01:09] INFO: C:\\Users\\Administrator\\workspace\\xgboost-win64_release_1.2.0\\src\\tree\\updater_prune.cc:101: tree pruning end, 70 extra nodes, 4 pruned nodes, max_depth=15\n",
      "[16:01:09] INFO: C:\\Users\\Administrator\\workspace\\xgboost-win64_release_1.2.0\\src\\tree\\updater_prune.cc:101: tree pruning end, 76 extra nodes, 10 pruned nodes, max_depth=13\n",
      "[16:01:10] INFO: C:\\Users\\Administrator\\workspace\\xgboost-win64_release_1.2.0\\src\\tree\\updater_prune.cc:101: tree pruning end, 76 extra nodes, 4 pruned nodes, max_depth=10\n",
      "[16:01:10] INFO: C:\\Users\\Administrator\\workspace\\xgboost-win64_release_1.2.0\\src\\tree\\updater_prune.cc:101: tree pruning end, 72 extra nodes, 8 pruned nodes, max_depth=13\n",
      "[16:01:10] INFO: C:\\Users\\Administrator\\workspace\\xgboost-win64_release_1.2.0\\src\\tree\\updater_prune.cc:101: tree pruning end, 50 extra nodes, 4 pruned nodes, max_depth=15\n",
      "[16:01:10] INFO: C:\\Users\\Administrator\\workspace\\xgboost-win64_release_1.2.0\\src\\tree\\updater_prune.cc:101: tree pruning end, 42 extra nodes, 0 pruned nodes, max_depth=15\n",
      "[16:01:10] INFO: C:\\Users\\Administrator\\workspace\\xgboost-win64_release_1.2.0\\src\\tree\\updater_prune.cc:101: tree pruning end, 76 extra nodes, 4 pruned nodes, max_depth=12\n",
      "[16:01:11] INFO: C:\\Users\\Administrator\\workspace\\xgboost-win64_release_1.2.0\\src\\tree\\updater_prune.cc:101: tree pruning end, 72 extra nodes, 0 pruned nodes, max_depth=15\n",
      "[16:01:11] INFO: C:\\Users\\Administrator\\workspace\\xgboost-win64_release_1.2.0\\src\\tree\\updater_prune.cc:101: tree pruning end, 56 extra nodes, 6 pruned nodes, max_depth=15\n"
     ]
    },
    {
     "name": "stdout",
     "output_type": "stream",
     "text": [
      "[16:01:11] INFO: C:\\Users\\Administrator\\workspace\\xgboost-win64_release_1.2.0\\src\\tree\\updater_prune.cc:101: tree pruning end, 70 extra nodes, 2 pruned nodes, max_depth=12\n",
      "[16:01:11] INFO: C:\\Users\\Administrator\\workspace\\xgboost-win64_release_1.2.0\\src\\tree\\updater_prune.cc:101: tree pruning end, 72 extra nodes, 6 pruned nodes, max_depth=14\n",
      "[16:01:11] INFO: C:\\Users\\Administrator\\workspace\\xgboost-win64_release_1.2.0\\src\\tree\\updater_prune.cc:101: tree pruning end, 64 extra nodes, 4 pruned nodes, max_depth=15\n",
      "[16:01:12] INFO: C:\\Users\\Administrator\\workspace\\xgboost-win64_release_1.2.0\\src\\tree\\updater_prune.cc:101: tree pruning end, 54 extra nodes, 0 pruned nodes, max_depth=15\n",
      "[16:01:12] INFO: C:\\Users\\Administrator\\workspace\\xgboost-win64_release_1.2.0\\src\\tree\\updater_prune.cc:101: tree pruning end, 68 extra nodes, 6 pruned nodes, max_depth=13\n",
      "[16:01:12] INFO: C:\\Users\\Administrator\\workspace\\xgboost-win64_release_1.2.0\\src\\tree\\updater_prune.cc:101: tree pruning end, 54 extra nodes, 6 pruned nodes, max_depth=15\n",
      "[16:01:12] INFO: C:\\Users\\Administrator\\workspace\\xgboost-win64_release_1.2.0\\src\\tree\\updater_prune.cc:101: tree pruning end, 68 extra nodes, 10 pruned nodes, max_depth=14\n",
      "[16:01:12] INFO: C:\\Users\\Administrator\\workspace\\xgboost-win64_release_1.2.0\\src\\tree\\updater_prune.cc:101: tree pruning end, 68 extra nodes, 4 pruned nodes, max_depth=15\n",
      "[16:01:13] INFO: C:\\Users\\Administrator\\workspace\\xgboost-win64_release_1.2.0\\src\\tree\\updater_prune.cc:101: tree pruning end, 70 extra nodes, 6 pruned nodes, max_depth=10\n",
      "[16:01:13] INFO: C:\\Users\\Administrator\\workspace\\xgboost-win64_release_1.2.0\\src\\tree\\updater_prune.cc:101: tree pruning end, 66 extra nodes, 0 pruned nodes, max_depth=15\n",
      "[16:01:13] INFO: C:\\Users\\Administrator\\workspace\\xgboost-win64_release_1.2.0\\src\\tree\\updater_prune.cc:101: tree pruning end, 64 extra nodes, 4 pruned nodes, max_depth=15\n",
      "[16:01:13] INFO: C:\\Users\\Administrator\\workspace\\xgboost-win64_release_1.2.0\\src\\tree\\updater_prune.cc:101: tree pruning end, 74 extra nodes, 4 pruned nodes, max_depth=13\n",
      "[16:01:13] INFO: C:\\Users\\Administrator\\workspace\\xgboost-win64_release_1.2.0\\src\\tree\\updater_prune.cc:101: tree pruning end, 68 extra nodes, 2 pruned nodes, max_depth=15\n",
      "[16:01:14] INFO: C:\\Users\\Administrator\\workspace\\xgboost-win64_release_1.2.0\\src\\tree\\updater_prune.cc:101: tree pruning end, 54 extra nodes, 6 pruned nodes, max_depth=15\n",
      "[16:01:14] INFO: C:\\Users\\Administrator\\workspace\\xgboost-win64_release_1.2.0\\src\\tree\\updater_prune.cc:101: tree pruning end, 70 extra nodes, 2 pruned nodes, max_depth=12\n",
      "[16:01:14] INFO: C:\\Users\\Administrator\\workspace\\xgboost-win64_release_1.2.0\\src\\tree\\updater_prune.cc:101: tree pruning end, 54 extra nodes, 0 pruned nodes, max_depth=15\n",
      "[16:01:14] INFO: C:\\Users\\Administrator\\workspace\\xgboost-win64_release_1.2.0\\src\\tree\\updater_prune.cc:101: tree pruning end, 66 extra nodes, 10 pruned nodes, max_depth=12\n",
      "[16:01:14] INFO: C:\\Users\\Administrator\\workspace\\xgboost-win64_release_1.2.0\\src\\tree\\updater_prune.cc:101: tree pruning end, 62 extra nodes, 8 pruned nodes, max_depth=11\n",
      "[16:01:14] INFO: C:\\Users\\Administrator\\workspace\\xgboost-win64_release_1.2.0\\src\\tree\\updater_prune.cc:101: tree pruning end, 50 extra nodes, 6 pruned nodes, max_depth=15\n",
      "[16:01:15] INFO: C:\\Users\\Administrator\\workspace\\xgboost-win64_release_1.2.0\\src\\tree\\updater_prune.cc:101: tree pruning end, 66 extra nodes, 6 pruned nodes, max_depth=14\n",
      "[16:01:15] INFO: C:\\Users\\Administrator\\workspace\\xgboost-win64_release_1.2.0\\src\\tree\\updater_prune.cc:101: tree pruning end, 58 extra nodes, 4 pruned nodes, max_depth=15\n",
      "[16:01:15] INFO: C:\\Users\\Administrator\\workspace\\xgboost-win64_release_1.2.0\\src\\tree\\updater_prune.cc:101: tree pruning end, 62 extra nodes, 6 pruned nodes, max_depth=10\n",
      "[16:01:15] INFO: C:\\Users\\Administrator\\workspace\\xgboost-win64_release_1.2.0\\src\\tree\\updater_prune.cc:101: tree pruning end, 66 extra nodes, 4 pruned nodes, max_depth=14\n",
      "[16:01:15] INFO: C:\\Users\\Administrator\\workspace\\xgboost-win64_release_1.2.0\\src\\tree\\updater_prune.cc:101: tree pruning end, 58 extra nodes, 6 pruned nodes, max_depth=13\n",
      "[16:01:16] INFO: C:\\Users\\Administrator\\workspace\\xgboost-win64_release_1.2.0\\src\\tree\\updater_prune.cc:101: tree pruning end, 60 extra nodes, 6 pruned nodes, max_depth=15\n",
      "[16:01:16] INFO: C:\\Users\\Administrator\\workspace\\xgboost-win64_release_1.2.0\\src\\tree\\updater_prune.cc:101: tree pruning end, 64 extra nodes, 6 pruned nodes, max_depth=14\n",
      "[16:01:16] INFO: C:\\Users\\Administrator\\workspace\\xgboost-win64_release_1.2.0\\src\\tree\\updater_prune.cc:101: tree pruning end, 68 extra nodes, 2 pruned nodes, max_depth=14\n",
      "[16:01:16] INFO: C:\\Users\\Administrator\\workspace\\xgboost-win64_release_1.2.0\\src\\tree\\updater_prune.cc:101: tree pruning end, 54 extra nodes, 6 pruned nodes, max_depth=13\n",
      "[16:01:16] INFO: C:\\Users\\Administrator\\workspace\\xgboost-win64_release_1.2.0\\src\\tree\\updater_prune.cc:101: tree pruning end, 56 extra nodes, 6 pruned nodes, max_depth=10\n",
      "[16:01:16] INFO: C:\\Users\\Administrator\\workspace\\xgboost-win64_release_1.2.0\\src\\tree\\updater_prune.cc:101: tree pruning end, 56 extra nodes, 10 pruned nodes, max_depth=11\n",
      "[16:01:17] INFO: C:\\Users\\Administrator\\workspace\\xgboost-win64_release_1.2.0\\src\\tree\\updater_prune.cc:101: tree pruning end, 56 extra nodes, 10 pruned nodes, max_depth=15\n",
      "[16:01:17] INFO: C:\\Users\\Administrator\\workspace\\xgboost-win64_release_1.2.0\\src\\tree\\updater_prune.cc:101: tree pruning end, 52 extra nodes, 0 pruned nodes, max_depth=15\n",
      "[16:01:17] INFO: C:\\Users\\Administrator\\workspace\\xgboost-win64_release_1.2.0\\src\\tree\\updater_prune.cc:101: tree pruning end, 56 extra nodes, 8 pruned nodes, max_depth=9\n",
      "[16:01:17] INFO: C:\\Users\\Administrator\\workspace\\xgboost-win64_release_1.2.0\\src\\tree\\updater_prune.cc:101: tree pruning end, 52 extra nodes, 8 pruned nodes, max_depth=11\n",
      "[16:01:17] INFO: C:\\Users\\Administrator\\workspace\\xgboost-win64_release_1.2.0\\src\\tree\\updater_prune.cc:101: tree pruning end, 50 extra nodes, 2 pruned nodes, max_depth=15\n",
      "[16:01:18] INFO: C:\\Users\\Administrator\\workspace\\xgboost-win64_release_1.2.0\\src\\tree\\updater_prune.cc:101: tree pruning end, 60 extra nodes, 4 pruned nodes, max_depth=12\n",
      "[16:01:18] INFO: C:\\Users\\Administrator\\workspace\\xgboost-win64_release_1.2.0\\src\\tree\\updater_prune.cc:101: tree pruning end, 58 extra nodes, 4 pruned nodes, max_depth=14\n",
      "[16:01:18] INFO: C:\\Users\\Administrator\\workspace\\xgboost-win64_release_1.2.0\\src\\tree\\updater_prune.cc:101: tree pruning end, 58 extra nodes, 8 pruned nodes, max_depth=15\n",
      "[16:01:18] INFO: C:\\Users\\Administrator\\workspace\\xgboost-win64_release_1.2.0\\src\\tree\\updater_prune.cc:101: tree pruning end, 54 extra nodes, 8 pruned nodes, max_depth=9\n",
      "[16:01:18] INFO: C:\\Users\\Administrator\\workspace\\xgboost-win64_release_1.2.0\\src\\tree\\updater_prune.cc:101: tree pruning end, 46 extra nodes, 18 pruned nodes, max_depth=9\n",
      "[16:01:18] INFO: C:\\Users\\Administrator\\workspace\\xgboost-win64_release_1.2.0\\src\\tree\\updater_prune.cc:101: tree pruning end, 48 extra nodes, 14 pruned nodes, max_depth=13\n",
      "[16:01:19] INFO: C:\\Users\\Administrator\\workspace\\xgboost-win64_release_1.2.0\\src\\tree\\updater_prune.cc:101: tree pruning end, 58 extra nodes, 4 pruned nodes, max_depth=11\n",
      "[16:01:19] INFO: C:\\Users\\Administrator\\workspace\\xgboost-win64_release_1.2.0\\src\\tree\\updater_prune.cc:101: tree pruning end, 50 extra nodes, 8 pruned nodes, max_depth=13\n",
      "[16:01:19] INFO: C:\\Users\\Administrator\\workspace\\xgboost-win64_release_1.2.0\\src\\tree\\updater_prune.cc:101: tree pruning end, 58 extra nodes, 2 pruned nodes, max_depth=15\n",
      "[16:01:19] INFO: C:\\Users\\Administrator\\workspace\\xgboost-win64_release_1.2.0\\src\\tree\\updater_prune.cc:101: tree pruning end, 52 extra nodes, 4 pruned nodes, max_depth=15\n",
      "[16:01:19] INFO: C:\\Users\\Administrator\\workspace\\xgboost-win64_release_1.2.0\\src\\tree\\updater_prune.cc:101: tree pruning end, 46 extra nodes, 12 pruned nodes, max_depth=15\n",
      "[16:01:20] INFO: C:\\Users\\Administrator\\workspace\\xgboost-win64_release_1.2.0\\src\\tree\\updater_prune.cc:101: tree pruning end, 44 extra nodes, 14 pruned nodes, max_depth=15\n",
      "[16:01:20] INFO: C:\\Users\\Administrator\\workspace\\xgboost-win64_release_1.2.0\\src\\tree\\updater_prune.cc:101: tree pruning end, 50 extra nodes, 14 pruned nodes, max_depth=12\n"
     ]
    },
    {
     "name": "stdout",
     "output_type": "stream",
     "text": [
      "[16:01:20] INFO: C:\\Users\\Administrator\\workspace\\xgboost-win64_release_1.2.0\\src\\tree\\updater_prune.cc:101: tree pruning end, 40 extra nodes, 14 pruned nodes, max_depth=14\n",
      "[16:01:20] INFO: C:\\Users\\Administrator\\workspace\\xgboost-win64_release_1.2.0\\src\\tree\\updater_prune.cc:101: tree pruning end, 58 extra nodes, 4 pruned nodes, max_depth=12\n",
      "[16:01:20] INFO: C:\\Users\\Administrator\\workspace\\xgboost-win64_release_1.2.0\\src\\tree\\updater_prune.cc:101: tree pruning end, 56 extra nodes, 6 pruned nodes, max_depth=15\n",
      "[16:01:20] INFO: C:\\Users\\Administrator\\workspace\\xgboost-win64_release_1.2.0\\src\\tree\\updater_prune.cc:101: tree pruning end, 50 extra nodes, 6 pruned nodes, max_depth=8\n",
      "[16:01:21] INFO: C:\\Users\\Administrator\\workspace\\xgboost-win64_release_1.2.0\\src\\tree\\updater_prune.cc:101: tree pruning end, 46 extra nodes, 12 pruned nodes, max_depth=13\n",
      "[16:01:21] INFO: C:\\Users\\Administrator\\workspace\\xgboost-win64_release_1.2.0\\src\\tree\\updater_prune.cc:101: tree pruning end, 52 extra nodes, 4 pruned nodes, max_depth=13\n",
      "[16:01:21] INFO: C:\\Users\\Administrator\\workspace\\xgboost-win64_release_1.2.0\\src\\tree\\updater_prune.cc:101: tree pruning end, 40 extra nodes, 20 pruned nodes, max_depth=10\n",
      "[16:01:21] INFO: C:\\Users\\Administrator\\workspace\\xgboost-win64_release_1.2.0\\src\\tree\\updater_prune.cc:101: tree pruning end, 42 extra nodes, 14 pruned nodes, max_depth=11\n",
      "[16:01:21] INFO: C:\\Users\\Administrator\\workspace\\xgboost-win64_release_1.2.0\\src\\tree\\updater_prune.cc:101: tree pruning end, 54 extra nodes, 4 pruned nodes, max_depth=10\n",
      "[16:01:21] INFO: C:\\Users\\Administrator\\workspace\\xgboost-win64_release_1.2.0\\src\\tree\\updater_prune.cc:101: tree pruning end, 48 extra nodes, 8 pruned nodes, max_depth=14\n",
      "[16:01:22] INFO: C:\\Users\\Administrator\\workspace\\xgboost-win64_release_1.2.0\\src\\tree\\updater_prune.cc:101: tree pruning end, 34 extra nodes, 24 pruned nodes, max_depth=8\n",
      "[16:01:22] INFO: C:\\Users\\Administrator\\workspace\\xgboost-win64_release_1.2.0\\src\\tree\\updater_prune.cc:101: tree pruning end, 46 extra nodes, 6 pruned nodes, max_depth=15\n",
      "[16:01:22] INFO: C:\\Users\\Administrator\\workspace\\xgboost-win64_release_1.2.0\\src\\tree\\updater_prune.cc:101: tree pruning end, 46 extra nodes, 8 pruned nodes, max_depth=10\n",
      "[16:01:22] INFO: C:\\Users\\Administrator\\workspace\\xgboost-win64_release_1.2.0\\src\\tree\\updater_prune.cc:101: tree pruning end, 42 extra nodes, 14 pruned nodes, max_depth=8\n",
      "[16:01:22] INFO: C:\\Users\\Administrator\\workspace\\xgboost-win64_release_1.2.0\\src\\tree\\updater_prune.cc:101: tree pruning end, 36 extra nodes, 20 pruned nodes, max_depth=9\n",
      "[16:01:22] INFO: C:\\Users\\Administrator\\workspace\\xgboost-win64_release_1.2.0\\src\\tree\\updater_prune.cc:101: tree pruning end, 52 extra nodes, 8 pruned nodes, max_depth=15\n",
      "[16:01:23] INFO: C:\\Users\\Administrator\\workspace\\xgboost-win64_release_1.2.0\\src\\tree\\updater_prune.cc:101: tree pruning end, 36 extra nodes, 16 pruned nodes, max_depth=10\n",
      "[16:01:23] INFO: C:\\Users\\Administrator\\workspace\\xgboost-win64_release_1.2.0\\src\\tree\\updater_prune.cc:101: tree pruning end, 46 extra nodes, 12 pruned nodes, max_depth=8\n",
      "[16:01:23] INFO: C:\\Users\\Administrator\\workspace\\xgboost-win64_release_1.2.0\\src\\tree\\updater_prune.cc:101: tree pruning end, 36 extra nodes, 18 pruned nodes, max_depth=10\n",
      "[16:01:23] INFO: C:\\Users\\Administrator\\workspace\\xgboost-win64_release_1.2.0\\src\\tree\\updater_prune.cc:101: tree pruning end, 48 extra nodes, 10 pruned nodes, max_depth=13\n",
      "[16:01:23] INFO: C:\\Users\\Administrator\\workspace\\xgboost-win64_release_1.2.0\\src\\tree\\updater_prune.cc:101: tree pruning end, 38 extra nodes, 12 pruned nodes, max_depth=13\n",
      "[16:01:23] INFO: C:\\Users\\Administrator\\workspace\\xgboost-win64_release_1.2.0\\src\\tree\\updater_prune.cc:101: tree pruning end, 38 extra nodes, 12 pruned nodes, max_depth=15\n",
      "[16:01:24] INFO: C:\\Users\\Administrator\\workspace\\xgboost-win64_release_1.2.0\\src\\tree\\updater_prune.cc:101: tree pruning end, 34 extra nodes, 16 pruned nodes, max_depth=10\n",
      "[16:01:24] INFO: C:\\Users\\Administrator\\workspace\\xgboost-win64_release_1.2.0\\src\\tree\\updater_prune.cc:101: tree pruning end, 46 extra nodes, 10 pruned nodes, max_depth=12\n",
      "[16:01:24] INFO: C:\\Users\\Administrator\\workspace\\xgboost-win64_release_1.2.0\\src\\tree\\updater_prune.cc:101: tree pruning end, 44 extra nodes, 8 pruned nodes, max_depth=14\n",
      "[16:01:24] INFO: C:\\Users\\Administrator\\workspace\\xgboost-win64_release_1.2.0\\src\\tree\\updater_prune.cc:101: tree pruning end, 48 extra nodes, 0 pruned nodes, max_depth=15\n",
      "[16:01:24] INFO: C:\\Users\\Administrator\\workspace\\xgboost-win64_release_1.2.0\\src\\tree\\updater_prune.cc:101: tree pruning end, 40 extra nodes, 16 pruned nodes, max_depth=14\n",
      "[16:01:25] INFO: C:\\Users\\Administrator\\workspace\\xgboost-win64_release_1.2.0\\src\\tree\\updater_prune.cc:101: tree pruning end, 42 extra nodes, 14 pruned nodes, max_depth=10\n",
      "[16:01:25] INFO: C:\\Users\\Administrator\\workspace\\xgboost-win64_release_1.2.0\\src\\tree\\updater_prune.cc:101: tree pruning end, 48 extra nodes, 6 pruned nodes, max_depth=15\n",
      "[16:01:25] INFO: C:\\Users\\Administrator\\workspace\\xgboost-win64_release_1.2.0\\src\\tree\\updater_prune.cc:101: tree pruning end, 42 extra nodes, 12 pruned nodes, max_depth=12\n",
      "[16:01:25] INFO: C:\\Users\\Administrator\\workspace\\xgboost-win64_release_1.2.0\\src\\tree\\updater_prune.cc:101: tree pruning end, 40 extra nodes, 10 pruned nodes, max_depth=7\n",
      "[16:01:25] INFO: C:\\Users\\Administrator\\workspace\\xgboost-win64_release_1.2.0\\src\\tree\\updater_prune.cc:101: tree pruning end, 46 extra nodes, 4 pruned nodes, max_depth=14\n",
      "[16:01:25] INFO: C:\\Users\\Administrator\\workspace\\xgboost-win64_release_1.2.0\\src\\tree\\updater_prune.cc:101: tree pruning end, 34 extra nodes, 16 pruned nodes, max_depth=6\n",
      "[16:01:26] INFO: C:\\Users\\Administrator\\workspace\\xgboost-win64_release_1.2.0\\src\\tree\\updater_prune.cc:101: tree pruning end, 36 extra nodes, 12 pruned nodes, max_depth=9\n",
      "[16:01:26] INFO: C:\\Users\\Administrator\\workspace\\xgboost-win64_release_1.2.0\\src\\tree\\updater_prune.cc:101: tree pruning end, 38 extra nodes, 16 pruned nodes, max_depth=12\n",
      "[16:01:26] INFO: C:\\Users\\Administrator\\workspace\\xgboost-win64_release_1.2.0\\src\\tree\\updater_prune.cc:101: tree pruning end, 36 extra nodes, 14 pruned nodes, max_depth=15\n",
      "[16:01:26] INFO: C:\\Users\\Administrator\\workspace\\xgboost-win64_release_1.2.0\\src\\tree\\updater_prune.cc:101: tree pruning end, 40 extra nodes, 2 pruned nodes, max_depth=15\n",
      "[16:01:26] INFO: C:\\Users\\Administrator\\workspace\\xgboost-win64_release_1.2.0\\src\\tree\\updater_prune.cc:101: tree pruning end, 38 extra nodes, 10 pruned nodes, max_depth=15\n",
      "[16:01:27] INFO: C:\\Users\\Administrator\\workspace\\xgboost-win64_release_1.2.0\\src\\tree\\updater_prune.cc:101: tree pruning end, 46 extra nodes, 6 pruned nodes, max_depth=11\n",
      "[16:01:27] INFO: C:\\Users\\Administrator\\workspace\\xgboost-win64_release_1.2.0\\src\\tree\\updater_prune.cc:101: tree pruning end, 34 extra nodes, 16 pruned nodes, max_depth=11\n",
      "[16:01:27] INFO: C:\\Users\\Administrator\\workspace\\xgboost-win64_release_1.2.0\\src\\tree\\updater_prune.cc:101: tree pruning end, 44 extra nodes, 4 pruned nodes, max_depth=10\n",
      "[16:01:27] INFO: C:\\Users\\Administrator\\workspace\\xgboost-win64_release_1.2.0\\src\\tree\\updater_prune.cc:101: tree pruning end, 42 extra nodes, 12 pruned nodes, max_depth=13\n",
      "[16:01:27] INFO: C:\\Users\\Administrator\\workspace\\xgboost-win64_release_1.2.0\\src\\tree\\updater_prune.cc:101: tree pruning end, 26 extra nodes, 24 pruned nodes, max_depth=9\n",
      "[16:01:27] INFO: C:\\Users\\Administrator\\workspace\\xgboost-win64_release_1.2.0\\src\\tree\\updater_prune.cc:101: tree pruning end, 42 extra nodes, 8 pruned nodes, max_depth=14\n",
      "[16:01:28] INFO: C:\\Users\\Administrator\\workspace\\xgboost-win64_release_1.2.0\\src\\tree\\updater_prune.cc:101: tree pruning end, 38 extra nodes, 12 pruned nodes, max_depth=13\n",
      "[16:01:28] INFO: C:\\Users\\Administrator\\workspace\\xgboost-win64_release_1.2.0\\src\\tree\\updater_prune.cc:101: tree pruning end, 32 extra nodes, 18 pruned nodes, max_depth=10\n",
      "[16:01:28] INFO: C:\\Users\\Administrator\\workspace\\xgboost-win64_release_1.2.0\\src\\tree\\updater_prune.cc:101: tree pruning end, 36 extra nodes, 10 pruned nodes, max_depth=15\n",
      "[16:01:28] INFO: C:\\Users\\Administrator\\workspace\\xgboost-win64_release_1.2.0\\src\\tree\\updater_prune.cc:101: tree pruning end, 30 extra nodes, 18 pruned nodes, max_depth=8\n"
     ]
    },
    {
     "name": "stdout",
     "output_type": "stream",
     "text": [
      "[16:01:28] INFO: C:\\Users\\Administrator\\workspace\\xgboost-win64_release_1.2.0\\src\\tree\\updater_prune.cc:101: tree pruning end, 34 extra nodes, 18 pruned nodes, max_depth=12\n",
      "[16:01:28] INFO: C:\\Users\\Administrator\\workspace\\xgboost-win64_release_1.2.0\\src\\tree\\updater_prune.cc:101: tree pruning end, 30 extra nodes, 18 pruned nodes, max_depth=9\n",
      "[16:01:28] INFO: C:\\Users\\Administrator\\workspace\\xgboost-win64_release_1.2.0\\src\\tree\\updater_prune.cc:101: tree pruning end, 20 extra nodes, 28 pruned nodes, max_depth=7\n",
      "[16:01:29] INFO: C:\\Users\\Administrator\\workspace\\xgboost-win64_release_1.2.0\\src\\tree\\updater_prune.cc:101: tree pruning end, 34 extra nodes, 14 pruned nodes, max_depth=11\n",
      "[16:01:29] INFO: C:\\Users\\Administrator\\workspace\\xgboost-win64_release_1.2.0\\src\\tree\\updater_prune.cc:101: tree pruning end, 40 extra nodes, 8 pruned nodes, max_depth=7\n",
      "[16:01:29] INFO: C:\\Users\\Administrator\\workspace\\xgboost-win64_release_1.2.0\\src\\tree\\updater_prune.cc:101: tree pruning end, 36 extra nodes, 14 pruned nodes, max_depth=10\n",
      "[16:01:29] INFO: C:\\Users\\Administrator\\workspace\\xgboost-win64_release_1.2.0\\src\\tree\\updater_prune.cc:101: tree pruning end, 34 extra nodes, 16 pruned nodes, max_depth=11\n",
      "[16:01:29] INFO: C:\\Users\\Administrator\\workspace\\xgboost-win64_release_1.2.0\\src\\tree\\updater_prune.cc:101: tree pruning end, 34 extra nodes, 16 pruned nodes, max_depth=11\n",
      "[16:01:29] INFO: C:\\Users\\Administrator\\workspace\\xgboost-win64_release_1.2.0\\src\\tree\\updater_prune.cc:101: tree pruning end, 42 extra nodes, 6 pruned nodes, max_depth=14\n",
      "[16:01:30] INFO: C:\\Users\\Administrator\\workspace\\xgboost-win64_release_1.2.0\\src\\tree\\updater_prune.cc:101: tree pruning end, 32 extra nodes, 16 pruned nodes, max_depth=8\n",
      "[16:01:30] INFO: C:\\Users\\Administrator\\workspace\\xgboost-win64_release_1.2.0\\src\\tree\\updater_prune.cc:101: tree pruning end, 40 extra nodes, 12 pruned nodes, max_depth=14\n",
      "[16:01:30] INFO: C:\\Users\\Administrator\\workspace\\xgboost-win64_release_1.2.0\\src\\tree\\updater_prune.cc:101: tree pruning end, 30 extra nodes, 18 pruned nodes, max_depth=13\n",
      "[16:01:30] INFO: C:\\Users\\Administrator\\workspace\\xgboost-win64_release_1.2.0\\src\\tree\\updater_prune.cc:101: tree pruning end, 32 extra nodes, 10 pruned nodes, max_depth=14\n",
      "[16:01:30] INFO: C:\\Users\\Administrator\\workspace\\xgboost-win64_release_1.2.0\\src\\tree\\updater_prune.cc:101: tree pruning end, 32 extra nodes, 20 pruned nodes, max_depth=9\n",
      "[16:01:30] INFO: C:\\Users\\Administrator\\workspace\\xgboost-win64_release_1.2.0\\src\\tree\\updater_prune.cc:101: tree pruning end, 28 extra nodes, 22 pruned nodes, max_depth=12\n",
      "[16:01:31] INFO: C:\\Users\\Administrator\\workspace\\xgboost-win64_release_1.2.0\\src\\tree\\updater_prune.cc:101: tree pruning end, 34 extra nodes, 10 pruned nodes, max_depth=15\n",
      "[16:01:31] INFO: C:\\Users\\Administrator\\workspace\\xgboost-win64_release_1.2.0\\src\\tree\\updater_prune.cc:101: tree pruning end, 34 extra nodes, 2 pruned nodes, max_depth=15\n",
      "[16:01:31] INFO: C:\\Users\\Administrator\\workspace\\xgboost-win64_release_1.2.0\\src\\tree\\updater_prune.cc:101: tree pruning end, 10 extra nodes, 38 pruned nodes, max_depth=5\n",
      "[16:01:31] INFO: C:\\Users\\Administrator\\workspace\\xgboost-win64_release_1.2.0\\src\\tree\\updater_prune.cc:101: tree pruning end, 34 extra nodes, 14 pruned nodes, max_depth=9\n",
      "[16:01:31] INFO: C:\\Users\\Administrator\\workspace\\xgboost-win64_release_1.2.0\\src\\tree\\updater_prune.cc:101: tree pruning end, 32 extra nodes, 14 pruned nodes, max_depth=14\n",
      "[16:01:32] INFO: C:\\Users\\Administrator\\workspace\\xgboost-win64_release_1.2.0\\src\\tree\\updater_prune.cc:101: tree pruning end, 28 extra nodes, 20 pruned nodes, max_depth=6\n",
      "[16:01:32] INFO: C:\\Users\\Administrator\\workspace\\xgboost-win64_release_1.2.0\\src\\tree\\updater_prune.cc:101: tree pruning end, 24 extra nodes, 22 pruned nodes, max_depth=10\n",
      "[16:01:32] INFO: C:\\Users\\Administrator\\workspace\\xgboost-win64_release_1.2.0\\src\\tree\\updater_prune.cc:101: tree pruning end, 38 extra nodes, 10 pruned nodes, max_depth=12\n",
      "[16:01:32] INFO: C:\\Users\\Administrator\\workspace\\xgboost-win64_release_1.2.0\\src\\tree\\updater_prune.cc:101: tree pruning end, 34 extra nodes, 16 pruned nodes, max_depth=9\n",
      "[16:01:32] INFO: C:\\Users\\Administrator\\workspace\\xgboost-win64_release_1.2.0\\src\\tree\\updater_prune.cc:101: tree pruning end, 34 extra nodes, 18 pruned nodes, max_depth=7\n",
      "[16:01:32] INFO: C:\\Users\\Administrator\\workspace\\xgboost-win64_release_1.2.0\\src\\tree\\updater_prune.cc:101: tree pruning end, 34 extra nodes, 10 pruned nodes, max_depth=8\n",
      "[16:01:32] INFO: C:\\Users\\Administrator\\workspace\\xgboost-win64_release_1.2.0\\src\\tree\\updater_prune.cc:101: tree pruning end, 30 extra nodes, 16 pruned nodes, max_depth=6\n",
      "[16:01:33] INFO: C:\\Users\\Administrator\\workspace\\xgboost-win64_release_1.2.0\\src\\tree\\updater_prune.cc:101: tree pruning end, 34 extra nodes, 14 pruned nodes, max_depth=14\n",
      "[16:01:33] INFO: C:\\Users\\Administrator\\workspace\\xgboost-win64_release_1.2.0\\src\\tree\\updater_prune.cc:101: tree pruning end, 26 extra nodes, 22 pruned nodes, max_depth=7\n",
      "[16:01:33] INFO: C:\\Users\\Administrator\\workspace\\xgboost-win64_release_1.2.0\\src\\tree\\updater_prune.cc:101: tree pruning end, 38 extra nodes, 8 pruned nodes, max_depth=7\n",
      "[16:01:33] INFO: C:\\Users\\Administrator\\workspace\\xgboost-win64_release_1.2.0\\src\\tree\\updater_prune.cc:101: tree pruning end, 38 extra nodes, 8 pruned nodes, max_depth=10\n",
      "[16:01:33] INFO: C:\\Users\\Administrator\\workspace\\xgboost-win64_release_1.2.0\\src\\tree\\updater_prune.cc:101: tree pruning end, 36 extra nodes, 10 pruned nodes, max_depth=15\n",
      "[16:01:33] INFO: C:\\Users\\Administrator\\workspace\\xgboost-win64_release_1.2.0\\src\\tree\\updater_prune.cc:101: tree pruning end, 40 extra nodes, 6 pruned nodes, max_depth=15\n",
      "[16:01:34] INFO: C:\\Users\\Administrator\\workspace\\xgboost-win64_release_1.2.0\\src\\tree\\updater_prune.cc:101: tree pruning end, 30 extra nodes, 14 pruned nodes, max_depth=8\n",
      "[16:01:34] INFO: C:\\Users\\Administrator\\workspace\\xgboost-win64_release_1.2.0\\src\\tree\\updater_prune.cc:101: tree pruning end, 24 extra nodes, 20 pruned nodes, max_depth=9\n",
      "[16:01:34] INFO: C:\\Users\\Administrator\\workspace\\xgboost-win64_release_1.2.0\\src\\tree\\updater_prune.cc:101: tree pruning end, 28 extra nodes, 20 pruned nodes, max_depth=8\n",
      "[16:01:34] INFO: C:\\Users\\Administrator\\workspace\\xgboost-win64_release_1.2.0\\src\\tree\\updater_prune.cc:101: tree pruning end, 40 extra nodes, 8 pruned nodes, max_depth=15\n",
      "[16:01:34] INFO: C:\\Users\\Administrator\\workspace\\xgboost-win64_release_1.2.0\\src\\tree\\updater_prune.cc:101: tree pruning end, 30 extra nodes, 14 pruned nodes, max_depth=10\n",
      "[16:01:34] INFO: C:\\Users\\Administrator\\workspace\\xgboost-win64_release_1.2.0\\src\\tree\\updater_prune.cc:101: tree pruning end, 26 extra nodes, 20 pruned nodes, max_depth=9\n",
      "[16:01:34] INFO: C:\\Users\\Administrator\\workspace\\xgboost-win64_release_1.2.0\\src\\tree\\updater_prune.cc:101: tree pruning end, 28 extra nodes, 18 pruned nodes, max_depth=8\n",
      "[16:01:35] INFO: C:\\Users\\Administrator\\workspace\\xgboost-win64_release_1.2.0\\src\\tree\\updater_prune.cc:101: tree pruning end, 30 extra nodes, 16 pruned nodes, max_depth=11\n",
      "[16:01:35] INFO: C:\\Users\\Administrator\\workspace\\xgboost-win64_release_1.2.0\\src\\tree\\updater_prune.cc:101: tree pruning end, 32 extra nodes, 12 pruned nodes, max_depth=12\n",
      "[16:01:35] INFO: C:\\Users\\Administrator\\workspace\\xgboost-win64_release_1.2.0\\src\\tree\\updater_prune.cc:101: tree pruning end, 26 extra nodes, 18 pruned nodes, max_depth=6\n",
      "[16:01:35] INFO: C:\\Users\\Administrator\\workspace\\xgboost-win64_release_1.2.0\\src\\tree\\updater_prune.cc:101: tree pruning end, 36 extra nodes, 10 pruned nodes, max_depth=8\n",
      "[16:01:35] INFO: C:\\Users\\Administrator\\workspace\\xgboost-win64_release_1.2.0\\src\\tree\\updater_prune.cc:101: tree pruning end, 30 extra nodes, 14 pruned nodes, max_depth=9\n",
      "[16:01:35] INFO: C:\\Users\\Administrator\\workspace\\xgboost-win64_release_1.2.0\\src\\tree\\updater_prune.cc:101: tree pruning end, 22 extra nodes, 26 pruned nodes, max_depth=9\n",
      "[16:01:35] INFO: C:\\Users\\Administrator\\workspace\\xgboost-win64_release_1.2.0\\src\\tree\\updater_prune.cc:101: tree pruning end, 24 extra nodes, 24 pruned nodes, max_depth=7\n"
     ]
    },
    {
     "name": "stdout",
     "output_type": "stream",
     "text": [
      "[16:01:36] INFO: C:\\Users\\Administrator\\workspace\\xgboost-win64_release_1.2.0\\src\\tree\\updater_prune.cc:101: tree pruning end, 32 extra nodes, 8 pruned nodes, max_depth=15\n",
      "[16:01:36] INFO: C:\\Users\\Administrator\\workspace\\xgboost-win64_release_1.2.0\\src\\tree\\updater_prune.cc:101: tree pruning end, 28 extra nodes, 14 pruned nodes, max_depth=12\n",
      "[16:01:36] INFO: C:\\Users\\Administrator\\workspace\\xgboost-win64_release_1.2.0\\src\\tree\\updater_prune.cc:101: tree pruning end, 34 extra nodes, 10 pruned nodes, max_depth=9\n",
      "[16:01:36] INFO: C:\\Users\\Administrator\\workspace\\xgboost-win64_release_1.2.0\\src\\tree\\updater_prune.cc:101: tree pruning end, 26 extra nodes, 18 pruned nodes, max_depth=10\n",
      "[16:01:36] INFO: C:\\Users\\Administrator\\workspace\\xgboost-win64_release_1.2.0\\src\\tree\\updater_prune.cc:101: tree pruning end, 20 extra nodes, 26 pruned nodes, max_depth=5\n",
      "[16:01:36] INFO: C:\\Users\\Administrator\\workspace\\xgboost-win64_release_1.2.0\\src\\tree\\updater_prune.cc:101: tree pruning end, 22 extra nodes, 22 pruned nodes, max_depth=8\n",
      "[16:01:37] INFO: C:\\Users\\Administrator\\workspace\\xgboost-win64_release_1.2.0\\src\\tree\\updater_prune.cc:101: tree pruning end, 28 extra nodes, 12 pruned nodes, max_depth=11\n",
      "[16:01:37] INFO: C:\\Users\\Administrator\\workspace\\xgboost-win64_release_1.2.0\\src\\tree\\updater_prune.cc:101: tree pruning end, 24 extra nodes, 16 pruned nodes, max_depth=8\n",
      "[16:01:37] INFO: C:\\Users\\Administrator\\workspace\\xgboost-win64_release_1.2.0\\src\\tree\\updater_prune.cc:101: tree pruning end, 34 extra nodes, 14 pruned nodes, max_depth=8\n",
      "[16:01:37] INFO: C:\\Users\\Administrator\\workspace\\xgboost-win64_release_1.2.0\\src\\tree\\updater_prune.cc:101: tree pruning end, 26 extra nodes, 14 pruned nodes, max_depth=9\n",
      "[16:01:37] INFO: C:\\Users\\Administrator\\workspace\\xgboost-win64_release_1.2.0\\src\\tree\\updater_prune.cc:101: tree pruning end, 22 extra nodes, 18 pruned nodes, max_depth=6\n",
      "[16:01:37] INFO: C:\\Users\\Administrator\\workspace\\xgboost-win64_release_1.2.0\\src\\tree\\updater_prune.cc:101: tree pruning end, 30 extra nodes, 14 pruned nodes, max_depth=9\n",
      "[16:01:37] INFO: C:\\Users\\Administrator\\workspace\\xgboost-win64_release_1.2.0\\src\\tree\\updater_prune.cc:101: tree pruning end, 32 extra nodes, 10 pruned nodes, max_depth=10\n",
      "[16:01:38] INFO: C:\\Users\\Administrator\\workspace\\xgboost-win64_release_1.2.0\\src\\tree\\updater_prune.cc:101: tree pruning end, 26 extra nodes, 18 pruned nodes, max_depth=8\n",
      "[16:01:38] INFO: C:\\Users\\Administrator\\workspace\\xgboost-win64_release_1.2.0\\src\\tree\\updater_prune.cc:101: tree pruning end, 16 extra nodes, 20 pruned nodes, max_depth=7\n",
      "[Pipeline] ................. (step 5 of 5) Processing m, total=  57.9s\n"
     ]
    },
    {
     "data": {
      "text/plain": [
       "Pipeline(steps=[('i', SimpleImputer(strategy='median')),\n",
       "                ('o', SMOTETomek(random_state=42)), ('s', StandardScaler()),\n",
       "                ('p', PCA(n_components=0.7)),\n",
       "                ('m',\n",
       "                 XGBClassifier(base_score=0.5, booster='gbtree',\n",
       "                               colsample_bylevel=1, colsample_bynode=1,\n",
       "                               colsample_bytree=0.5, gamma=0.5, gpu_id=-1,\n",
       "                               importance_type='gain',\n",
       "                               interaction_constraints='', learning_rate=0.2,\n",
       "                               max_delta_step=0, max_depth=15,\n",
       "                               min_child_weight=9, missing=nan,\n",
       "                               monotone_constraints='()', n_estimators=300,\n",
       "                               n_jobs=-1, num_parallel_tree=1, random_state=42,\n",
       "                               reg_alpha=0, reg_lambda=1, scale_pos_weight=1,\n",
       "                               subsample=0.7, tree_method='exact',\n",
       "                               validate_parameters=1, verbosity=2))],\n",
       "         verbose=True)"
      ]
     },
     "execution_count": 9,
     "metadata": {},
     "output_type": "execute_result"
    }
   ],
   "source": [
    "bestpipe = ImbPipeline(steps=[('i', SimpleImputer(strategy='median')),\n",
    "                  ('o', SMOTETomek(random_state=42)), ('s', StandardScaler()),\n",
    "                  ('p', PCA(n_components=0.7)),\n",
    "                  ('m',\n",
    "                   XGBClassifier(base_score=0.5, booster='gbtree',\n",
    "                                 colsample_bylevel=1, colsample_bynode=1,\n",
    "                                 colsample_bytree=0.5, gamma=0.5, gpu_id=-1,\n",
    "                                 importance_type='gain',\n",
    "                                 interaction_constraints='', learning_rate=0.2,\n",
    "                                 max_delta_step=0, max_depth=15,\n",
    "                                 min_child_weight=9,\n",
    "                                 monotone_constraints='()', n_estimators=300,\n",
    "                                 n_jobs=-1, num_parallel_tree=1, random_state=42,\n",
    "                                 reg_alpha=0, reg_lambda=1, scale_pos_weight=1,\n",
    "                                 subsample=0.7, tree_method='exact',\n",
    "                                 validate_parameters=1, verbosity=2))],\n",
    "           verbose=True)\n",
    "bestpipe.fit(X,y.values.ravel())"
   ]
  },
  {
   "cell_type": "code",
   "execution_count": 11,
   "metadata": {},
   "outputs": [
    {
     "data": {
      "text/plain": [
       "24310"
      ]
     },
     "execution_count": 11,
     "metadata": {},
     "output_type": "execute_result"
    }
   ],
   "source": [
    "cm = confusion_matrix(testy,bestpipe.predict(testX))\n",
    "cm[0][1]*10+cm[1][0]*500"
   ]
  },
  {
   "cell_type": "code",
   "execution_count": null,
   "metadata": {},
   "outputs": [],
   "source": []
  },
  {
   "cell_type": "code",
   "execution_count": 58,
   "metadata": {},
   "outputs": [
    {
     "data": {
      "text/plain": [
       "(Pipeline(steps=[('i', SimpleImputer()), ('o', SMOTETomek(random_state=42)),\n",
       "                 ('s', StandardScaler()), ('p', PCA(n_components=0.9)),\n",
       "                 ('m',\n",
       "                  XGBClassifier(base_score=0.5, booster='gbtree',\n",
       "                                colsample_bylevel=1, colsample_bynode=1,\n",
       "                                colsample_bytree=0.7, gamma=0.0, gpu_id=-1,\n",
       "                                importance_type='gain',\n",
       "                                interaction_constraints='', learning_rate=0.5,\n",
       "                                max_delta_step=0, max_depth=3,\n",
       "                                min_child_weight=1, missing=nan,\n",
       "                                monotone_constraints='()', n_estimators=200,\n",
       "                                n_jobs=-1, num_parallel_tree=1, random_state=42,\n",
       "                                reg_alpha=0, reg_lambda=1, scale_pos_weight=1,\n",
       "                                subsample=0.3, tree_method='exact',\n",
       "                                validate_parameters=1, verbosity=2))],\n",
       "          verbose=True),\n",
       " 1.7220000000000002,\n",
       " 0.056001488075466954)"
      ]
     },
     "execution_count": 58,
     "metadata": {},
     "output_type": "execute_result"
    }
   ],
   "source": [
    "rs.best_estimator_,rs.best_score_,rs.cv_results_['std_test_score'][rs.best_index_]"
   ]
  },
  {
   "cell_type": "code",
   "execution_count": 59,
   "metadata": {},
   "outputs": [
    {
     "name": "stdout",
     "output_type": "stream",
     "text": [
      "[Pipeline] ................. (step 1 of 5) Processing i, total=   0.3s\n",
      "[Pipeline] ................. (step 2 of 5) Processing o, total= 2.6min\n",
      "[Pipeline] ................. (step 3 of 5) Processing s, total=   0.5s\n",
      "[Pipeline] ................. (step 4 of 5) Processing p, total=   4.3s\n"
     ]
    },
    {
     "name": "stderr",
     "output_type": "stream",
     "text": [
      "c:\\users\\hari\\anaconda3\\lib\\site-packages\\sklearn\\utils\\validation.py:72: DataConversionWarning: A column-vector y was passed when a 1d array was expected. Please change the shape of y to (n_samples, ), for example using ravel().\n",
      "  return f(**kwargs)\n"
     ]
    },
    {
     "name": "stdout",
     "output_type": "stream",
     "text": [
      "[01:19:55] INFO: C:\\Users\\Administrator\\workspace\\xgboost-win64_release_1.2.0\\src\\tree\\updater_prune.cc:101: tree pruning end, 14 extra nodes, 0 pruned nodes, max_depth=3\n",
      "[01:19:55] INFO: C:\\Users\\Administrator\\workspace\\xgboost-win64_release_1.2.0\\src\\tree\\updater_prune.cc:101: tree pruning end, 14 extra nodes, 0 pruned nodes, max_depth=3\n",
      "[01:19:55] INFO: C:\\Users\\Administrator\\workspace\\xgboost-win64_release_1.2.0\\src\\tree\\updater_prune.cc:101: tree pruning end, 14 extra nodes, 0 pruned nodes, max_depth=3\n",
      "[01:19:55] INFO: C:\\Users\\Administrator\\workspace\\xgboost-win64_release_1.2.0\\src\\tree\\updater_prune.cc:101: tree pruning end, 14 extra nodes, 0 pruned nodes, max_depth=3\n",
      "[01:19:55] INFO: C:\\Users\\Administrator\\workspace\\xgboost-win64_release_1.2.0\\src\\tree\\updater_prune.cc:101: tree pruning end, 14 extra nodes, 0 pruned nodes, max_depth=3\n",
      "[01:19:55] INFO: C:\\Users\\Administrator\\workspace\\xgboost-win64_release_1.2.0\\src\\tree\\updater_prune.cc:101: tree pruning end, 14 extra nodes, 0 pruned nodes, max_depth=3\n",
      "[01:19:56] INFO: C:\\Users\\Administrator\\workspace\\xgboost-win64_release_1.2.0\\src\\tree\\updater_prune.cc:101: tree pruning end, 14 extra nodes, 0 pruned nodes, max_depth=3\n",
      "[01:19:56] INFO: C:\\Users\\Administrator\\workspace\\xgboost-win64_release_1.2.0\\src\\tree\\updater_prune.cc:101: tree pruning end, 14 extra nodes, 0 pruned nodes, max_depth=3\n",
      "[01:19:56] INFO: C:\\Users\\Administrator\\workspace\\xgboost-win64_release_1.2.0\\src\\tree\\updater_prune.cc:101: tree pruning end, 14 extra nodes, 0 pruned nodes, max_depth=3\n",
      "[01:19:56] INFO: C:\\Users\\Administrator\\workspace\\xgboost-win64_release_1.2.0\\src\\tree\\updater_prune.cc:101: tree pruning end, 14 extra nodes, 0 pruned nodes, max_depth=3\n",
      "[01:19:56] INFO: C:\\Users\\Administrator\\workspace\\xgboost-win64_release_1.2.0\\src\\tree\\updater_prune.cc:101: tree pruning end, 14 extra nodes, 0 pruned nodes, max_depth=3\n",
      "[01:19:56] INFO: C:\\Users\\Administrator\\workspace\\xgboost-win64_release_1.2.0\\src\\tree\\updater_prune.cc:101: tree pruning end, 14 extra nodes, 0 pruned nodes, max_depth=3\n",
      "[01:19:56] INFO: C:\\Users\\Administrator\\workspace\\xgboost-win64_release_1.2.0\\src\\tree\\updater_prune.cc:101: tree pruning end, 14 extra nodes, 0 pruned nodes, max_depth=3\n",
      "[01:19:56] INFO: C:\\Users\\Administrator\\workspace\\xgboost-win64_release_1.2.0\\src\\tree\\updater_prune.cc:101: tree pruning end, 14 extra nodes, 0 pruned nodes, max_depth=3\n",
      "[01:19:56] INFO: C:\\Users\\Administrator\\workspace\\xgboost-win64_release_1.2.0\\src\\tree\\updater_prune.cc:101: tree pruning end, 14 extra nodes, 0 pruned nodes, max_depth=3\n",
      "[01:19:56] INFO: C:\\Users\\Administrator\\workspace\\xgboost-win64_release_1.2.0\\src\\tree\\updater_prune.cc:101: tree pruning end, 12 extra nodes, 0 pruned nodes, max_depth=3\n",
      "[01:19:57] INFO: C:\\Users\\Administrator\\workspace\\xgboost-win64_release_1.2.0\\src\\tree\\updater_prune.cc:101: tree pruning end, 14 extra nodes, 0 pruned nodes, max_depth=3\n",
      "[01:19:57] INFO: C:\\Users\\Administrator\\workspace\\xgboost-win64_release_1.2.0\\src\\tree\\updater_prune.cc:101: tree pruning end, 14 extra nodes, 0 pruned nodes, max_depth=3\n",
      "[01:19:57] INFO: C:\\Users\\Administrator\\workspace\\xgboost-win64_release_1.2.0\\src\\tree\\updater_prune.cc:101: tree pruning end, 14 extra nodes, 0 pruned nodes, max_depth=3\n",
      "[01:19:57] INFO: C:\\Users\\Administrator\\workspace\\xgboost-win64_release_1.2.0\\src\\tree\\updater_prune.cc:101: tree pruning end, 14 extra nodes, 0 pruned nodes, max_depth=3\n",
      "[01:19:57] INFO: C:\\Users\\Administrator\\workspace\\xgboost-win64_release_1.2.0\\src\\tree\\updater_prune.cc:101: tree pruning end, 12 extra nodes, 0 pruned nodes, max_depth=3\n",
      "[01:19:57] INFO: C:\\Users\\Administrator\\workspace\\xgboost-win64_release_1.2.0\\src\\tree\\updater_prune.cc:101: tree pruning end, 8 extra nodes, 0 pruned nodes, max_depth=3\n",
      "[01:19:57] INFO: C:\\Users\\Administrator\\workspace\\xgboost-win64_release_1.2.0\\src\\tree\\updater_prune.cc:101: tree pruning end, 14 extra nodes, 0 pruned nodes, max_depth=3\n",
      "[01:19:57] INFO: C:\\Users\\Administrator\\workspace\\xgboost-win64_release_1.2.0\\src\\tree\\updater_prune.cc:101: tree pruning end, 12 extra nodes, 0 pruned nodes, max_depth=3\n",
      "[01:19:57] INFO: C:\\Users\\Administrator\\workspace\\xgboost-win64_release_1.2.0\\src\\tree\\updater_prune.cc:101: tree pruning end, 14 extra nodes, 0 pruned nodes, max_depth=3\n",
      "[01:19:57] INFO: C:\\Users\\Administrator\\workspace\\xgboost-win64_release_1.2.0\\src\\tree\\updater_prune.cc:101: tree pruning end, 14 extra nodes, 0 pruned nodes, max_depth=3\n",
      "[01:19:58] INFO: C:\\Users\\Administrator\\workspace\\xgboost-win64_release_1.2.0\\src\\tree\\updater_prune.cc:101: tree pruning end, 14 extra nodes, 0 pruned nodes, max_depth=3\n",
      "[01:19:58] INFO: C:\\Users\\Administrator\\workspace\\xgboost-win64_release_1.2.0\\src\\tree\\updater_prune.cc:101: tree pruning end, 14 extra nodes, 0 pruned nodes, max_depth=3\n",
      "[01:19:58] INFO: C:\\Users\\Administrator\\workspace\\xgboost-win64_release_1.2.0\\src\\tree\\updater_prune.cc:101: tree pruning end, 14 extra nodes, 0 pruned nodes, max_depth=3\n",
      "[01:19:58] INFO: C:\\Users\\Administrator\\workspace\\xgboost-win64_release_1.2.0\\src\\tree\\updater_prune.cc:101: tree pruning end, 14 extra nodes, 0 pruned nodes, max_depth=3\n",
      "[01:19:58] INFO: C:\\Users\\Administrator\\workspace\\xgboost-win64_release_1.2.0\\src\\tree\\updater_prune.cc:101: tree pruning end, 14 extra nodes, 0 pruned nodes, max_depth=3\n",
      "[01:19:58] INFO: C:\\Users\\Administrator\\workspace\\xgboost-win64_release_1.2.0\\src\\tree\\updater_prune.cc:101: tree pruning end, 14 extra nodes, 0 pruned nodes, max_depth=3\n",
      "[01:19:58] INFO: C:\\Users\\Administrator\\workspace\\xgboost-win64_release_1.2.0\\src\\tree\\updater_prune.cc:101: tree pruning end, 14 extra nodes, 0 pruned nodes, max_depth=3\n",
      "[01:19:58] INFO: C:\\Users\\Administrator\\workspace\\xgboost-win64_release_1.2.0\\src\\tree\\updater_prune.cc:101: tree pruning end, 14 extra nodes, 0 pruned nodes, max_depth=3\n",
      "[01:19:58] INFO: C:\\Users\\Administrator\\workspace\\xgboost-win64_release_1.2.0\\src\\tree\\updater_prune.cc:101: tree pruning end, 14 extra nodes, 0 pruned nodes, max_depth=3\n",
      "[01:19:58] INFO: C:\\Users\\Administrator\\workspace\\xgboost-win64_release_1.2.0\\src\\tree\\updater_prune.cc:101: tree pruning end, 14 extra nodes, 0 pruned nodes, max_depth=3\n",
      "[01:19:59] INFO: C:\\Users\\Administrator\\workspace\\xgboost-win64_release_1.2.0\\src\\tree\\updater_prune.cc:101: tree pruning end, 14 extra nodes, 0 pruned nodes, max_depth=3\n",
      "[01:19:59] INFO: C:\\Users\\Administrator\\workspace\\xgboost-win64_release_1.2.0\\src\\tree\\updater_prune.cc:101: tree pruning end, 14 extra nodes, 0 pruned nodes, max_depth=3\n",
      "[01:19:59] INFO: C:\\Users\\Administrator\\workspace\\xgboost-win64_release_1.2.0\\src\\tree\\updater_prune.cc:101: tree pruning end, 14 extra nodes, 0 pruned nodes, max_depth=3\n",
      "[01:19:59] INFO: C:\\Users\\Administrator\\workspace\\xgboost-win64_release_1.2.0\\src\\tree\\updater_prune.cc:101: tree pruning end, 14 extra nodes, 0 pruned nodes, max_depth=3\n",
      "[01:19:59] INFO: C:\\Users\\Administrator\\workspace\\xgboost-win64_release_1.2.0\\src\\tree\\updater_prune.cc:101: tree pruning end, 14 extra nodes, 0 pruned nodes, max_depth=3\n",
      "[01:19:59] INFO: C:\\Users\\Administrator\\workspace\\xgboost-win64_release_1.2.0\\src\\tree\\updater_prune.cc:101: tree pruning end, 14 extra nodes, 0 pruned nodes, max_depth=3\n",
      "[01:19:59] INFO: C:\\Users\\Administrator\\workspace\\xgboost-win64_release_1.2.0\\src\\tree\\updater_prune.cc:101: tree pruning end, 14 extra nodes, 0 pruned nodes, max_depth=3\n",
      "[01:19:59] INFO: C:\\Users\\Administrator\\workspace\\xgboost-win64_release_1.2.0\\src\\tree\\updater_prune.cc:101: tree pruning end, 14 extra nodes, 0 pruned nodes, max_depth=3\n",
      "[01:19:59] INFO: C:\\Users\\Administrator\\workspace\\xgboost-win64_release_1.2.0\\src\\tree\\updater_prune.cc:101: tree pruning end, 14 extra nodes, 0 pruned nodes, max_depth=3\n",
      "[01:19:59] INFO: C:\\Users\\Administrator\\workspace\\xgboost-win64_release_1.2.0\\src\\tree\\updater_prune.cc:101: tree pruning end, 12 extra nodes, 0 pruned nodes, max_depth=3\n",
      "[01:20:00] INFO: C:\\Users\\Administrator\\workspace\\xgboost-win64_release_1.2.0\\src\\tree\\updater_prune.cc:101: tree pruning end, 14 extra nodes, 0 pruned nodes, max_depth=3\n",
      "[01:20:00] INFO: C:\\Users\\Administrator\\workspace\\xgboost-win64_release_1.2.0\\src\\tree\\updater_prune.cc:101: tree pruning end, 14 extra nodes, 0 pruned nodes, max_depth=3\n"
     ]
    },
    {
     "name": "stdout",
     "output_type": "stream",
     "text": [
      "[01:20:00] INFO: C:\\Users\\Administrator\\workspace\\xgboost-win64_release_1.2.0\\src\\tree\\updater_prune.cc:101: tree pruning end, 14 extra nodes, 0 pruned nodes, max_depth=3\n",
      "[01:20:00] INFO: C:\\Users\\Administrator\\workspace\\xgboost-win64_release_1.2.0\\src\\tree\\updater_prune.cc:101: tree pruning end, 14 extra nodes, 0 pruned nodes, max_depth=3\n",
      "[01:20:00] INFO: C:\\Users\\Administrator\\workspace\\xgboost-win64_release_1.2.0\\src\\tree\\updater_prune.cc:101: tree pruning end, 14 extra nodes, 0 pruned nodes, max_depth=3\n",
      "[01:20:00] INFO: C:\\Users\\Administrator\\workspace\\xgboost-win64_release_1.2.0\\src\\tree\\updater_prune.cc:101: tree pruning end, 14 extra nodes, 0 pruned nodes, max_depth=3\n",
      "[01:20:00] INFO: C:\\Users\\Administrator\\workspace\\xgboost-win64_release_1.2.0\\src\\tree\\updater_prune.cc:101: tree pruning end, 14 extra nodes, 0 pruned nodes, max_depth=3\n",
      "[01:20:00] INFO: C:\\Users\\Administrator\\workspace\\xgboost-win64_release_1.2.0\\src\\tree\\updater_prune.cc:101: tree pruning end, 14 extra nodes, 0 pruned nodes, max_depth=3\n",
      "[01:20:00] INFO: C:\\Users\\Administrator\\workspace\\xgboost-win64_release_1.2.0\\src\\tree\\updater_prune.cc:101: tree pruning end, 14 extra nodes, 0 pruned nodes, max_depth=3\n",
      "[01:20:01] INFO: C:\\Users\\Administrator\\workspace\\xgboost-win64_release_1.2.0\\src\\tree\\updater_prune.cc:101: tree pruning end, 14 extra nodes, 0 pruned nodes, max_depth=3\n",
      "[01:20:01] INFO: C:\\Users\\Administrator\\workspace\\xgboost-win64_release_1.2.0\\src\\tree\\updater_prune.cc:101: tree pruning end, 14 extra nodes, 0 pruned nodes, max_depth=3\n",
      "[01:20:01] INFO: C:\\Users\\Administrator\\workspace\\xgboost-win64_release_1.2.0\\src\\tree\\updater_prune.cc:101: tree pruning end, 10 extra nodes, 0 pruned nodes, max_depth=3\n",
      "[01:20:01] INFO: C:\\Users\\Administrator\\workspace\\xgboost-win64_release_1.2.0\\src\\tree\\updater_prune.cc:101: tree pruning end, 14 extra nodes, 0 pruned nodes, max_depth=3\n",
      "[01:20:01] INFO: C:\\Users\\Administrator\\workspace\\xgboost-win64_release_1.2.0\\src\\tree\\updater_prune.cc:101: tree pruning end, 14 extra nodes, 0 pruned nodes, max_depth=3\n",
      "[01:20:01] INFO: C:\\Users\\Administrator\\workspace\\xgboost-win64_release_1.2.0\\src\\tree\\updater_prune.cc:101: tree pruning end, 14 extra nodes, 0 pruned nodes, max_depth=3\n",
      "[01:20:01] INFO: C:\\Users\\Administrator\\workspace\\xgboost-win64_release_1.2.0\\src\\tree\\updater_prune.cc:101: tree pruning end, 14 extra nodes, 0 pruned nodes, max_depth=3\n",
      "[01:20:01] INFO: C:\\Users\\Administrator\\workspace\\xgboost-win64_release_1.2.0\\src\\tree\\updater_prune.cc:101: tree pruning end, 14 extra nodes, 0 pruned nodes, max_depth=3\n",
      "[01:20:01] INFO: C:\\Users\\Administrator\\workspace\\xgboost-win64_release_1.2.0\\src\\tree\\updater_prune.cc:101: tree pruning end, 14 extra nodes, 0 pruned nodes, max_depth=3\n",
      "[01:20:01] INFO: C:\\Users\\Administrator\\workspace\\xgboost-win64_release_1.2.0\\src\\tree\\updater_prune.cc:101: tree pruning end, 14 extra nodes, 0 pruned nodes, max_depth=3\n",
      "[01:20:02] INFO: C:\\Users\\Administrator\\workspace\\xgboost-win64_release_1.2.0\\src\\tree\\updater_prune.cc:101: tree pruning end, 14 extra nodes, 0 pruned nodes, max_depth=3\n",
      "[01:20:02] INFO: C:\\Users\\Administrator\\workspace\\xgboost-win64_release_1.2.0\\src\\tree\\updater_prune.cc:101: tree pruning end, 14 extra nodes, 0 pruned nodes, max_depth=3\n",
      "[01:20:02] INFO: C:\\Users\\Administrator\\workspace\\xgboost-win64_release_1.2.0\\src\\tree\\updater_prune.cc:101: tree pruning end, 14 extra nodes, 0 pruned nodes, max_depth=3\n",
      "[01:20:02] INFO: C:\\Users\\Administrator\\workspace\\xgboost-win64_release_1.2.0\\src\\tree\\updater_prune.cc:101: tree pruning end, 14 extra nodes, 0 pruned nodes, max_depth=3\n",
      "[01:20:02] INFO: C:\\Users\\Administrator\\workspace\\xgboost-win64_release_1.2.0\\src\\tree\\updater_prune.cc:101: tree pruning end, 14 extra nodes, 0 pruned nodes, max_depth=3\n",
      "[01:20:02] INFO: C:\\Users\\Administrator\\workspace\\xgboost-win64_release_1.2.0\\src\\tree\\updater_prune.cc:101: tree pruning end, 14 extra nodes, 0 pruned nodes, max_depth=3\n",
      "[01:20:02] INFO: C:\\Users\\Administrator\\workspace\\xgboost-win64_release_1.2.0\\src\\tree\\updater_prune.cc:101: tree pruning end, 14 extra nodes, 0 pruned nodes, max_depth=3\n",
      "[01:20:02] INFO: C:\\Users\\Administrator\\workspace\\xgboost-win64_release_1.2.0\\src\\tree\\updater_prune.cc:101: tree pruning end, 14 extra nodes, 0 pruned nodes, max_depth=3\n",
      "[01:20:02] INFO: C:\\Users\\Administrator\\workspace\\xgboost-win64_release_1.2.0\\src\\tree\\updater_prune.cc:101: tree pruning end, 12 extra nodes, 0 pruned nodes, max_depth=3\n",
      "[01:20:02] INFO: C:\\Users\\Administrator\\workspace\\xgboost-win64_release_1.2.0\\src\\tree\\updater_prune.cc:101: tree pruning end, 14 extra nodes, 0 pruned nodes, max_depth=3\n",
      "[01:20:03] INFO: C:\\Users\\Administrator\\workspace\\xgboost-win64_release_1.2.0\\src\\tree\\updater_prune.cc:101: tree pruning end, 12 extra nodes, 0 pruned nodes, max_depth=3\n",
      "[01:20:03] INFO: C:\\Users\\Administrator\\workspace\\xgboost-win64_release_1.2.0\\src\\tree\\updater_prune.cc:101: tree pruning end, 14 extra nodes, 0 pruned nodes, max_depth=3\n",
      "[01:20:03] INFO: C:\\Users\\Administrator\\workspace\\xgboost-win64_release_1.2.0\\src\\tree\\updater_prune.cc:101: tree pruning end, 14 extra nodes, 0 pruned nodes, max_depth=3\n",
      "[01:20:03] INFO: C:\\Users\\Administrator\\workspace\\xgboost-win64_release_1.2.0\\src\\tree\\updater_prune.cc:101: tree pruning end, 14 extra nodes, 0 pruned nodes, max_depth=3\n",
      "[01:20:03] INFO: C:\\Users\\Administrator\\workspace\\xgboost-win64_release_1.2.0\\src\\tree\\updater_prune.cc:101: tree pruning end, 14 extra nodes, 0 pruned nodes, max_depth=3\n",
      "[01:20:03] INFO: C:\\Users\\Administrator\\workspace\\xgboost-win64_release_1.2.0\\src\\tree\\updater_prune.cc:101: tree pruning end, 14 extra nodes, 0 pruned nodes, max_depth=3\n",
      "[01:20:03] INFO: C:\\Users\\Administrator\\workspace\\xgboost-win64_release_1.2.0\\src\\tree\\updater_prune.cc:101: tree pruning end, 14 extra nodes, 0 pruned nodes, max_depth=3\n",
      "[01:20:03] INFO: C:\\Users\\Administrator\\workspace\\xgboost-win64_release_1.2.0\\src\\tree\\updater_prune.cc:101: tree pruning end, 14 extra nodes, 0 pruned nodes, max_depth=3\n",
      "[01:20:03] INFO: C:\\Users\\Administrator\\workspace\\xgboost-win64_release_1.2.0\\src\\tree\\updater_prune.cc:101: tree pruning end, 14 extra nodes, 0 pruned nodes, max_depth=3\n",
      "[01:20:04] INFO: C:\\Users\\Administrator\\workspace\\xgboost-win64_release_1.2.0\\src\\tree\\updater_prune.cc:101: tree pruning end, 14 extra nodes, 0 pruned nodes, max_depth=3\n",
      "[01:20:04] INFO: C:\\Users\\Administrator\\workspace\\xgboost-win64_release_1.2.0\\src\\tree\\updater_prune.cc:101: tree pruning end, 14 extra nodes, 0 pruned nodes, max_depth=3\n",
      "[01:20:04] INFO: C:\\Users\\Administrator\\workspace\\xgboost-win64_release_1.2.0\\src\\tree\\updater_prune.cc:101: tree pruning end, 14 extra nodes, 0 pruned nodes, max_depth=3\n",
      "[01:20:04] INFO: C:\\Users\\Administrator\\workspace\\xgboost-win64_release_1.2.0\\src\\tree\\updater_prune.cc:101: tree pruning end, 14 extra nodes, 0 pruned nodes, max_depth=3\n",
      "[01:20:04] INFO: C:\\Users\\Administrator\\workspace\\xgboost-win64_release_1.2.0\\src\\tree\\updater_prune.cc:101: tree pruning end, 14 extra nodes, 0 pruned nodes, max_depth=3\n",
      "[01:20:04] INFO: C:\\Users\\Administrator\\workspace\\xgboost-win64_release_1.2.0\\src\\tree\\updater_prune.cc:101: tree pruning end, 14 extra nodes, 0 pruned nodes, max_depth=3\n",
      "[01:20:04] INFO: C:\\Users\\Administrator\\workspace\\xgboost-win64_release_1.2.0\\src\\tree\\updater_prune.cc:101: tree pruning end, 14 extra nodes, 0 pruned nodes, max_depth=3\n",
      "[01:20:04] INFO: C:\\Users\\Administrator\\workspace\\xgboost-win64_release_1.2.0\\src\\tree\\updater_prune.cc:101: tree pruning end, 14 extra nodes, 0 pruned nodes, max_depth=3\n",
      "[01:20:04] INFO: C:\\Users\\Administrator\\workspace\\xgboost-win64_release_1.2.0\\src\\tree\\updater_prune.cc:101: tree pruning end, 14 extra nodes, 0 pruned nodes, max_depth=3\n",
      "[01:20:04] INFO: C:\\Users\\Administrator\\workspace\\xgboost-win64_release_1.2.0\\src\\tree\\updater_prune.cc:101: tree pruning end, 12 extra nodes, 0 pruned nodes, max_depth=3\n",
      "[01:20:05] INFO: C:\\Users\\Administrator\\workspace\\xgboost-win64_release_1.2.0\\src\\tree\\updater_prune.cc:101: tree pruning end, 14 extra nodes, 0 pruned nodes, max_depth=3\n",
      "[01:20:05] INFO: C:\\Users\\Administrator\\workspace\\xgboost-win64_release_1.2.0\\src\\tree\\updater_prune.cc:101: tree pruning end, 14 extra nodes, 0 pruned nodes, max_depth=3\n"
     ]
    },
    {
     "name": "stdout",
     "output_type": "stream",
     "text": [
      "[01:20:05] INFO: C:\\Users\\Administrator\\workspace\\xgboost-win64_release_1.2.0\\src\\tree\\updater_prune.cc:101: tree pruning end, 12 extra nodes, 0 pruned nodes, max_depth=3\n",
      "[01:20:05] INFO: C:\\Users\\Administrator\\workspace\\xgboost-win64_release_1.2.0\\src\\tree\\updater_prune.cc:101: tree pruning end, 14 extra nodes, 0 pruned nodes, max_depth=3\n",
      "[01:20:05] INFO: C:\\Users\\Administrator\\workspace\\xgboost-win64_release_1.2.0\\src\\tree\\updater_prune.cc:101: tree pruning end, 14 extra nodes, 0 pruned nodes, max_depth=3\n",
      "[01:20:05] INFO: C:\\Users\\Administrator\\workspace\\xgboost-win64_release_1.2.0\\src\\tree\\updater_prune.cc:101: tree pruning end, 14 extra nodes, 0 pruned nodes, max_depth=3\n",
      "[01:20:05] INFO: C:\\Users\\Administrator\\workspace\\xgboost-win64_release_1.2.0\\src\\tree\\updater_prune.cc:101: tree pruning end, 14 extra nodes, 0 pruned nodes, max_depth=3\n",
      "[01:20:05] INFO: C:\\Users\\Administrator\\workspace\\xgboost-win64_release_1.2.0\\src\\tree\\updater_prune.cc:101: tree pruning end, 14 extra nodes, 0 pruned nodes, max_depth=3\n",
      "[01:20:05] INFO: C:\\Users\\Administrator\\workspace\\xgboost-win64_release_1.2.0\\src\\tree\\updater_prune.cc:101: tree pruning end, 14 extra nodes, 0 pruned nodes, max_depth=3\n",
      "[01:20:05] INFO: C:\\Users\\Administrator\\workspace\\xgboost-win64_release_1.2.0\\src\\tree\\updater_prune.cc:101: tree pruning end, 14 extra nodes, 0 pruned nodes, max_depth=3\n",
      "[01:20:06] INFO: C:\\Users\\Administrator\\workspace\\xgboost-win64_release_1.2.0\\src\\tree\\updater_prune.cc:101: tree pruning end, 14 extra nodes, 0 pruned nodes, max_depth=3\n",
      "[01:20:06] INFO: C:\\Users\\Administrator\\workspace\\xgboost-win64_release_1.2.0\\src\\tree\\updater_prune.cc:101: tree pruning end, 14 extra nodes, 0 pruned nodes, max_depth=3\n",
      "[01:20:06] INFO: C:\\Users\\Administrator\\workspace\\xgboost-win64_release_1.2.0\\src\\tree\\updater_prune.cc:101: tree pruning end, 14 extra nodes, 0 pruned nodes, max_depth=3\n",
      "[01:20:06] INFO: C:\\Users\\Administrator\\workspace\\xgboost-win64_release_1.2.0\\src\\tree\\updater_prune.cc:101: tree pruning end, 14 extra nodes, 0 pruned nodes, max_depth=3\n",
      "[01:20:06] INFO: C:\\Users\\Administrator\\workspace\\xgboost-win64_release_1.2.0\\src\\tree\\updater_prune.cc:101: tree pruning end, 14 extra nodes, 0 pruned nodes, max_depth=3\n",
      "[01:20:06] INFO: C:\\Users\\Administrator\\workspace\\xgboost-win64_release_1.2.0\\src\\tree\\updater_prune.cc:101: tree pruning end, 14 extra nodes, 0 pruned nodes, max_depth=3\n",
      "[01:20:06] INFO: C:\\Users\\Administrator\\workspace\\xgboost-win64_release_1.2.0\\src\\tree\\updater_prune.cc:101: tree pruning end, 14 extra nodes, 0 pruned nodes, max_depth=3\n",
      "[01:20:06] INFO: C:\\Users\\Administrator\\workspace\\xgboost-win64_release_1.2.0\\src\\tree\\updater_prune.cc:101: tree pruning end, 14 extra nodes, 0 pruned nodes, max_depth=3\n",
      "[01:20:06] INFO: C:\\Users\\Administrator\\workspace\\xgboost-win64_release_1.2.0\\src\\tree\\updater_prune.cc:101: tree pruning end, 14 extra nodes, 0 pruned nodes, max_depth=3\n",
      "[01:20:07] INFO: C:\\Users\\Administrator\\workspace\\xgboost-win64_release_1.2.0\\src\\tree\\updater_prune.cc:101: tree pruning end, 14 extra nodes, 0 pruned nodes, max_depth=3\n",
      "[01:20:07] INFO: C:\\Users\\Administrator\\workspace\\xgboost-win64_release_1.2.0\\src\\tree\\updater_prune.cc:101: tree pruning end, 8 extra nodes, 0 pruned nodes, max_depth=3\n",
      "[01:20:07] INFO: C:\\Users\\Administrator\\workspace\\xgboost-win64_release_1.2.0\\src\\tree\\updater_prune.cc:101: tree pruning end, 14 extra nodes, 0 pruned nodes, max_depth=3\n",
      "[01:20:07] INFO: C:\\Users\\Administrator\\workspace\\xgboost-win64_release_1.2.0\\src\\tree\\updater_prune.cc:101: tree pruning end, 14 extra nodes, 0 pruned nodes, max_depth=3\n",
      "[01:20:07] INFO: C:\\Users\\Administrator\\workspace\\xgboost-win64_release_1.2.0\\src\\tree\\updater_prune.cc:101: tree pruning end, 14 extra nodes, 0 pruned nodes, max_depth=3\n",
      "[01:20:07] INFO: C:\\Users\\Administrator\\workspace\\xgboost-win64_release_1.2.0\\src\\tree\\updater_prune.cc:101: tree pruning end, 14 extra nodes, 0 pruned nodes, max_depth=3\n",
      "[01:20:07] INFO: C:\\Users\\Administrator\\workspace\\xgboost-win64_release_1.2.0\\src\\tree\\updater_prune.cc:101: tree pruning end, 14 extra nodes, 0 pruned nodes, max_depth=3\n",
      "[01:20:07] INFO: C:\\Users\\Administrator\\workspace\\xgboost-win64_release_1.2.0\\src\\tree\\updater_prune.cc:101: tree pruning end, 14 extra nodes, 0 pruned nodes, max_depth=3\n",
      "[01:20:07] INFO: C:\\Users\\Administrator\\workspace\\xgboost-win64_release_1.2.0\\src\\tree\\updater_prune.cc:101: tree pruning end, 14 extra nodes, 0 pruned nodes, max_depth=3\n",
      "[01:20:07] INFO: C:\\Users\\Administrator\\workspace\\xgboost-win64_release_1.2.0\\src\\tree\\updater_prune.cc:101: tree pruning end, 14 extra nodes, 0 pruned nodes, max_depth=3\n",
      "[01:20:08] INFO: C:\\Users\\Administrator\\workspace\\xgboost-win64_release_1.2.0\\src\\tree\\updater_prune.cc:101: tree pruning end, 12 extra nodes, 0 pruned nodes, max_depth=3\n",
      "[01:20:08] INFO: C:\\Users\\Administrator\\workspace\\xgboost-win64_release_1.2.0\\src\\tree\\updater_prune.cc:101: tree pruning end, 14 extra nodes, 0 pruned nodes, max_depth=3\n",
      "[01:20:08] INFO: C:\\Users\\Administrator\\workspace\\xgboost-win64_release_1.2.0\\src\\tree\\updater_prune.cc:101: tree pruning end, 14 extra nodes, 0 pruned nodes, max_depth=3\n",
      "[01:20:08] INFO: C:\\Users\\Administrator\\workspace\\xgboost-win64_release_1.2.0\\src\\tree\\updater_prune.cc:101: tree pruning end, 14 extra nodes, 0 pruned nodes, max_depth=3\n",
      "[01:20:08] INFO: C:\\Users\\Administrator\\workspace\\xgboost-win64_release_1.2.0\\src\\tree\\updater_prune.cc:101: tree pruning end, 14 extra nodes, 0 pruned nodes, max_depth=3\n",
      "[01:20:08] INFO: C:\\Users\\Administrator\\workspace\\xgboost-win64_release_1.2.0\\src\\tree\\updater_prune.cc:101: tree pruning end, 14 extra nodes, 0 pruned nodes, max_depth=3\n",
      "[01:20:08] INFO: C:\\Users\\Administrator\\workspace\\xgboost-win64_release_1.2.0\\src\\tree\\updater_prune.cc:101: tree pruning end, 14 extra nodes, 0 pruned nodes, max_depth=3\n",
      "[01:20:08] INFO: C:\\Users\\Administrator\\workspace\\xgboost-win64_release_1.2.0\\src\\tree\\updater_prune.cc:101: tree pruning end, 14 extra nodes, 0 pruned nodes, max_depth=3\n",
      "[01:20:08] INFO: C:\\Users\\Administrator\\workspace\\xgboost-win64_release_1.2.0\\src\\tree\\updater_prune.cc:101: tree pruning end, 14 extra nodes, 0 pruned nodes, max_depth=3\n",
      "[01:20:09] INFO: C:\\Users\\Administrator\\workspace\\xgboost-win64_release_1.2.0\\src\\tree\\updater_prune.cc:101: tree pruning end, 14 extra nodes, 0 pruned nodes, max_depth=3\n",
      "[01:20:09] INFO: C:\\Users\\Administrator\\workspace\\xgboost-win64_release_1.2.0\\src\\tree\\updater_prune.cc:101: tree pruning end, 14 extra nodes, 0 pruned nodes, max_depth=3\n",
      "[01:20:09] INFO: C:\\Users\\Administrator\\workspace\\xgboost-win64_release_1.2.0\\src\\tree\\updater_prune.cc:101: tree pruning end, 14 extra nodes, 0 pruned nodes, max_depth=3\n",
      "[01:20:09] INFO: C:\\Users\\Administrator\\workspace\\xgboost-win64_release_1.2.0\\src\\tree\\updater_prune.cc:101: tree pruning end, 14 extra nodes, 0 pruned nodes, max_depth=3\n",
      "[01:20:09] INFO: C:\\Users\\Administrator\\workspace\\xgboost-win64_release_1.2.0\\src\\tree\\updater_prune.cc:101: tree pruning end, 14 extra nodes, 0 pruned nodes, max_depth=3\n",
      "[01:20:09] INFO: C:\\Users\\Administrator\\workspace\\xgboost-win64_release_1.2.0\\src\\tree\\updater_prune.cc:101: tree pruning end, 14 extra nodes, 0 pruned nodes, max_depth=3\n",
      "[01:20:09] INFO: C:\\Users\\Administrator\\workspace\\xgboost-win64_release_1.2.0\\src\\tree\\updater_prune.cc:101: tree pruning end, 14 extra nodes, 0 pruned nodes, max_depth=3\n",
      "[01:20:09] INFO: C:\\Users\\Administrator\\workspace\\xgboost-win64_release_1.2.0\\src\\tree\\updater_prune.cc:101: tree pruning end, 14 extra nodes, 0 pruned nodes, max_depth=3\n",
      "[01:20:09] INFO: C:\\Users\\Administrator\\workspace\\xgboost-win64_release_1.2.0\\src\\tree\\updater_prune.cc:101: tree pruning end, 12 extra nodes, 0 pruned nodes, max_depth=3\n",
      "[01:20:09] INFO: C:\\Users\\Administrator\\workspace\\xgboost-win64_release_1.2.0\\src\\tree\\updater_prune.cc:101: tree pruning end, 14 extra nodes, 0 pruned nodes, max_depth=3\n",
      "[01:20:10] INFO: C:\\Users\\Administrator\\workspace\\xgboost-win64_release_1.2.0\\src\\tree\\updater_prune.cc:101: tree pruning end, 14 extra nodes, 0 pruned nodes, max_depth=3\n",
      "[01:20:10] INFO: C:\\Users\\Administrator\\workspace\\xgboost-win64_release_1.2.0\\src\\tree\\updater_prune.cc:101: tree pruning end, 12 extra nodes, 0 pruned nodes, max_depth=3\n"
     ]
    },
    {
     "name": "stdout",
     "output_type": "stream",
     "text": [
      "[01:20:10] INFO: C:\\Users\\Administrator\\workspace\\xgboost-win64_release_1.2.0\\src\\tree\\updater_prune.cc:101: tree pruning end, 14 extra nodes, 0 pruned nodes, max_depth=3\n",
      "[01:20:10] INFO: C:\\Users\\Administrator\\workspace\\xgboost-win64_release_1.2.0\\src\\tree\\updater_prune.cc:101: tree pruning end, 14 extra nodes, 0 pruned nodes, max_depth=3\n",
      "[01:20:10] INFO: C:\\Users\\Administrator\\workspace\\xgboost-win64_release_1.2.0\\src\\tree\\updater_prune.cc:101: tree pruning end, 14 extra nodes, 0 pruned nodes, max_depth=3\n",
      "[01:20:10] INFO: C:\\Users\\Administrator\\workspace\\xgboost-win64_release_1.2.0\\src\\tree\\updater_prune.cc:101: tree pruning end, 14 extra nodes, 0 pruned nodes, max_depth=3\n",
      "[01:20:10] INFO: C:\\Users\\Administrator\\workspace\\xgboost-win64_release_1.2.0\\src\\tree\\updater_prune.cc:101: tree pruning end, 14 extra nodes, 0 pruned nodes, max_depth=3\n",
      "[01:20:10] INFO: C:\\Users\\Administrator\\workspace\\xgboost-win64_release_1.2.0\\src\\tree\\updater_prune.cc:101: tree pruning end, 14 extra nodes, 0 pruned nodes, max_depth=3\n",
      "[01:20:10] INFO: C:\\Users\\Administrator\\workspace\\xgboost-win64_release_1.2.0\\src\\tree\\updater_prune.cc:101: tree pruning end, 14 extra nodes, 0 pruned nodes, max_depth=3\n",
      "[01:20:10] INFO: C:\\Users\\Administrator\\workspace\\xgboost-win64_release_1.2.0\\src\\tree\\updater_prune.cc:101: tree pruning end, 14 extra nodes, 0 pruned nodes, max_depth=3\n",
      "[01:20:11] INFO: C:\\Users\\Administrator\\workspace\\xgboost-win64_release_1.2.0\\src\\tree\\updater_prune.cc:101: tree pruning end, 14 extra nodes, 0 pruned nodes, max_depth=3\n",
      "[01:20:11] INFO: C:\\Users\\Administrator\\workspace\\xgboost-win64_release_1.2.0\\src\\tree\\updater_prune.cc:101: tree pruning end, 14 extra nodes, 0 pruned nodes, max_depth=3\n",
      "[01:20:11] INFO: C:\\Users\\Administrator\\workspace\\xgboost-win64_release_1.2.0\\src\\tree\\updater_prune.cc:101: tree pruning end, 14 extra nodes, 0 pruned nodes, max_depth=3\n",
      "[01:20:11] INFO: C:\\Users\\Administrator\\workspace\\xgboost-win64_release_1.2.0\\src\\tree\\updater_prune.cc:101: tree pruning end, 14 extra nodes, 0 pruned nodes, max_depth=3\n",
      "[01:20:11] INFO: C:\\Users\\Administrator\\workspace\\xgboost-win64_release_1.2.0\\src\\tree\\updater_prune.cc:101: tree pruning end, 14 extra nodes, 0 pruned nodes, max_depth=3\n",
      "[01:20:11] INFO: C:\\Users\\Administrator\\workspace\\xgboost-win64_release_1.2.0\\src\\tree\\updater_prune.cc:101: tree pruning end, 14 extra nodes, 0 pruned nodes, max_depth=3\n",
      "[01:20:11] INFO: C:\\Users\\Administrator\\workspace\\xgboost-win64_release_1.2.0\\src\\tree\\updater_prune.cc:101: tree pruning end, 14 extra nodes, 0 pruned nodes, max_depth=3\n",
      "[01:20:11] INFO: C:\\Users\\Administrator\\workspace\\xgboost-win64_release_1.2.0\\src\\tree\\updater_prune.cc:101: tree pruning end, 14 extra nodes, 0 pruned nodes, max_depth=3\n",
      "[01:20:11] INFO: C:\\Users\\Administrator\\workspace\\xgboost-win64_release_1.2.0\\src\\tree\\updater_prune.cc:101: tree pruning end, 14 extra nodes, 0 pruned nodes, max_depth=3\n",
      "[01:20:12] INFO: C:\\Users\\Administrator\\workspace\\xgboost-win64_release_1.2.0\\src\\tree\\updater_prune.cc:101: tree pruning end, 14 extra nodes, 0 pruned nodes, max_depth=3\n",
      "[01:20:12] INFO: C:\\Users\\Administrator\\workspace\\xgboost-win64_release_1.2.0\\src\\tree\\updater_prune.cc:101: tree pruning end, 14 extra nodes, 0 pruned nodes, max_depth=3\n",
      "[01:20:12] INFO: C:\\Users\\Administrator\\workspace\\xgboost-win64_release_1.2.0\\src\\tree\\updater_prune.cc:101: tree pruning end, 14 extra nodes, 0 pruned nodes, max_depth=3\n",
      "[01:20:12] INFO: C:\\Users\\Administrator\\workspace\\xgboost-win64_release_1.2.0\\src\\tree\\updater_prune.cc:101: tree pruning end, 12 extra nodes, 0 pruned nodes, max_depth=3\n",
      "[01:20:12] INFO: C:\\Users\\Administrator\\workspace\\xgboost-win64_release_1.2.0\\src\\tree\\updater_prune.cc:101: tree pruning end, 14 extra nodes, 0 pruned nodes, max_depth=3\n",
      "[01:20:12] INFO: C:\\Users\\Administrator\\workspace\\xgboost-win64_release_1.2.0\\src\\tree\\updater_prune.cc:101: tree pruning end, 14 extra nodes, 0 pruned nodes, max_depth=3\n",
      "[01:20:12] INFO: C:\\Users\\Administrator\\workspace\\xgboost-win64_release_1.2.0\\src\\tree\\updater_prune.cc:101: tree pruning end, 14 extra nodes, 0 pruned nodes, max_depth=3\n",
      "[01:20:12] INFO: C:\\Users\\Administrator\\workspace\\xgboost-win64_release_1.2.0\\src\\tree\\updater_prune.cc:101: tree pruning end, 14 extra nodes, 0 pruned nodes, max_depth=3\n",
      "[01:20:12] INFO: C:\\Users\\Administrator\\workspace\\xgboost-win64_release_1.2.0\\src\\tree\\updater_prune.cc:101: tree pruning end, 14 extra nodes, 0 pruned nodes, max_depth=3\n",
      "[01:20:12] INFO: C:\\Users\\Administrator\\workspace\\xgboost-win64_release_1.2.0\\src\\tree\\updater_prune.cc:101: tree pruning end, 14 extra nodes, 0 pruned nodes, max_depth=3\n",
      "[01:20:13] INFO: C:\\Users\\Administrator\\workspace\\xgboost-win64_release_1.2.0\\src\\tree\\updater_prune.cc:101: tree pruning end, 14 extra nodes, 0 pruned nodes, max_depth=3\n",
      "[01:20:13] INFO: C:\\Users\\Administrator\\workspace\\xgboost-win64_release_1.2.0\\src\\tree\\updater_prune.cc:101: tree pruning end, 14 extra nodes, 0 pruned nodes, max_depth=3\n",
      "[01:20:13] INFO: C:\\Users\\Administrator\\workspace\\xgboost-win64_release_1.2.0\\src\\tree\\updater_prune.cc:101: tree pruning end, 14 extra nodes, 0 pruned nodes, max_depth=3\n",
      "[01:20:13] INFO: C:\\Users\\Administrator\\workspace\\xgboost-win64_release_1.2.0\\src\\tree\\updater_prune.cc:101: tree pruning end, 14 extra nodes, 0 pruned nodes, max_depth=3\n",
      "[01:20:13] INFO: C:\\Users\\Administrator\\workspace\\xgboost-win64_release_1.2.0\\src\\tree\\updater_prune.cc:101: tree pruning end, 14 extra nodes, 0 pruned nodes, max_depth=3\n",
      "[01:20:13] INFO: C:\\Users\\Administrator\\workspace\\xgboost-win64_release_1.2.0\\src\\tree\\updater_prune.cc:101: tree pruning end, 14 extra nodes, 0 pruned nodes, max_depth=3\n",
      "[01:20:13] INFO: C:\\Users\\Administrator\\workspace\\xgboost-win64_release_1.2.0\\src\\tree\\updater_prune.cc:101: tree pruning end, 14 extra nodes, 0 pruned nodes, max_depth=3\n",
      "[01:20:13] INFO: C:\\Users\\Administrator\\workspace\\xgboost-win64_release_1.2.0\\src\\tree\\updater_prune.cc:101: tree pruning end, 14 extra nodes, 0 pruned nodes, max_depth=3\n",
      "[01:20:13] INFO: C:\\Users\\Administrator\\workspace\\xgboost-win64_release_1.2.0\\src\\tree\\updater_prune.cc:101: tree pruning end, 14 extra nodes, 0 pruned nodes, max_depth=3\n",
      "[01:20:14] INFO: C:\\Users\\Administrator\\workspace\\xgboost-win64_release_1.2.0\\src\\tree\\updater_prune.cc:101: tree pruning end, 14 extra nodes, 0 pruned nodes, max_depth=3\n",
      "[01:20:14] INFO: C:\\Users\\Administrator\\workspace\\xgboost-win64_release_1.2.0\\src\\tree\\updater_prune.cc:101: tree pruning end, 14 extra nodes, 0 pruned nodes, max_depth=3\n",
      "[01:20:14] INFO: C:\\Users\\Administrator\\workspace\\xgboost-win64_release_1.2.0\\src\\tree\\updater_prune.cc:101: tree pruning end, 14 extra nodes, 0 pruned nodes, max_depth=3\n",
      "[01:20:14] INFO: C:\\Users\\Administrator\\workspace\\xgboost-win64_release_1.2.0\\src\\tree\\updater_prune.cc:101: tree pruning end, 14 extra nodes, 0 pruned nodes, max_depth=3\n",
      "[01:20:14] INFO: C:\\Users\\Administrator\\workspace\\xgboost-win64_release_1.2.0\\src\\tree\\updater_prune.cc:101: tree pruning end, 14 extra nodes, 0 pruned nodes, max_depth=3\n",
      "[01:20:14] INFO: C:\\Users\\Administrator\\workspace\\xgboost-win64_release_1.2.0\\src\\tree\\updater_prune.cc:101: tree pruning end, 14 extra nodes, 0 pruned nodes, max_depth=3\n",
      "[01:20:14] INFO: C:\\Users\\Administrator\\workspace\\xgboost-win64_release_1.2.0\\src\\tree\\updater_prune.cc:101: tree pruning end, 14 extra nodes, 0 pruned nodes, max_depth=3\n",
      "[01:20:14] INFO: C:\\Users\\Administrator\\workspace\\xgboost-win64_release_1.2.0\\src\\tree\\updater_prune.cc:101: tree pruning end, 14 extra nodes, 0 pruned nodes, max_depth=3\n",
      "[01:20:14] INFO: C:\\Users\\Administrator\\workspace\\xgboost-win64_release_1.2.0\\src\\tree\\updater_prune.cc:101: tree pruning end, 14 extra nodes, 0 pruned nodes, max_depth=3\n",
      "[01:20:14] INFO: C:\\Users\\Administrator\\workspace\\xgboost-win64_release_1.2.0\\src\\tree\\updater_prune.cc:101: tree pruning end, 14 extra nodes, 0 pruned nodes, max_depth=3\n",
      "[01:20:15] INFO: C:\\Users\\Administrator\\workspace\\xgboost-win64_release_1.2.0\\src\\tree\\updater_prune.cc:101: tree pruning end, 14 extra nodes, 0 pruned nodes, max_depth=3\n",
      "[01:20:15] INFO: C:\\Users\\Administrator\\workspace\\xgboost-win64_release_1.2.0\\src\\tree\\updater_prune.cc:101: tree pruning end, 14 extra nodes, 0 pruned nodes, max_depth=3\n"
     ]
    },
    {
     "name": "stdout",
     "output_type": "stream",
     "text": [
      "[01:20:15] INFO: C:\\Users\\Administrator\\workspace\\xgboost-win64_release_1.2.0\\src\\tree\\updater_prune.cc:101: tree pruning end, 14 extra nodes, 0 pruned nodes, max_depth=3\n",
      "[01:20:15] INFO: C:\\Users\\Administrator\\workspace\\xgboost-win64_release_1.2.0\\src\\tree\\updater_prune.cc:101: tree pruning end, 14 extra nodes, 0 pruned nodes, max_depth=3\n",
      "[01:20:15] INFO: C:\\Users\\Administrator\\workspace\\xgboost-win64_release_1.2.0\\src\\tree\\updater_prune.cc:101: tree pruning end, 14 extra nodes, 0 pruned nodes, max_depth=3\n",
      "[01:20:15] INFO: C:\\Users\\Administrator\\workspace\\xgboost-win64_release_1.2.0\\src\\tree\\updater_prune.cc:101: tree pruning end, 14 extra nodes, 0 pruned nodes, max_depth=3\n",
      "[01:20:15] INFO: C:\\Users\\Administrator\\workspace\\xgboost-win64_release_1.2.0\\src\\tree\\updater_prune.cc:101: tree pruning end, 14 extra nodes, 0 pruned nodes, max_depth=3\n",
      "[01:20:15] INFO: C:\\Users\\Administrator\\workspace\\xgboost-win64_release_1.2.0\\src\\tree\\updater_prune.cc:101: tree pruning end, 14 extra nodes, 0 pruned nodes, max_depth=3\n",
      "[01:20:15] INFO: C:\\Users\\Administrator\\workspace\\xgboost-win64_release_1.2.0\\src\\tree\\updater_prune.cc:101: tree pruning end, 14 extra nodes, 0 pruned nodes, max_depth=3\n",
      "[01:20:16] INFO: C:\\Users\\Administrator\\workspace\\xgboost-win64_release_1.2.0\\src\\tree\\updater_prune.cc:101: tree pruning end, 14 extra nodes, 0 pruned nodes, max_depth=3\n",
      "[Pipeline] ................. (step 5 of 5) Processing m, total=  21.3s\n"
     ]
    },
    {
     "data": {
      "text/plain": [
       "Pipeline(steps=[('i', SimpleImputer()), ('o', SMOTETomek(random_state=42)),\n",
       "                ('s', StandardScaler()), ('p', PCA(n_components=0.9)),\n",
       "                ('m',\n",
       "                 XGBClassifier(base_score=0.5, booster='gbtree',\n",
       "                               colsample_bylevel=1, colsample_bynode=1,\n",
       "                               colsample_bytree=0.7, gamma=0.0, gpu_id=-1,\n",
       "                               importance_type='gain',\n",
       "                               interaction_constraints='', learning_rate=0.5,\n",
       "                               max_delta_step=0, max_depth=3,\n",
       "                               min_child_weight=1, missing=nan,\n",
       "                               monotone_constraints='()', n_estimators=200,\n",
       "                               n_jobs=-1, num_parallel_tree=1, random_state=42,\n",
       "                               reg_alpha=0, reg_lambda=1, scale_pos_weight=1,\n",
       "                               subsample=0.3, tree_method='exact',\n",
       "                               validate_parameters=1, verbosity=2))],\n",
       "         verbose=True)"
      ]
     },
     "execution_count": 59,
     "metadata": {},
     "output_type": "execute_result"
    }
   ],
   "source": [
    "rs.best_estimator_.fit(X,y)"
   ]
  },
  {
   "cell_type": "code",
   "execution_count": 60,
   "metadata": {},
   "outputs": [
    {
     "data": {
      "text/plain": [
       "33320"
      ]
     },
     "execution_count": 60,
     "metadata": {},
     "output_type": "execute_result"
    }
   ],
   "source": [
    "cm = confusion_matrix(testy,rs.predict(testX))\n",
    "cm[0][1]*10+cm[1][0]*500"
   ]
  },
  {
   "cell_type": "code",
   "execution_count": null,
   "metadata": {},
   "outputs": [],
   "source": [
    "xgb = XBGClassifier()"
   ]
  },
  {
   "cell_type": "code",
   "execution_count": 8,
   "metadata": {},
   "outputs": [],
   "source": [
    "y_pred = rs.predict(X_test)"
   ]
  },
  {
   "cell_type": "code",
   "execution_count": 10,
   "metadata": {},
   "outputs": [
    {
     "data": {
      "text/plain": [
       "array([[11656,   144],\n",
       "       [   25,   175]], dtype=int64)"
      ]
     },
     "execution_count": 10,
     "metadata": {},
     "output_type": "execute_result"
    }
   ],
   "source": [
    "cm = confusion_matrix(y_test,y_pred)\n",
    "#score = (cm[0][1]*10+cm[1][0]*500) / cm.sum()\n",
    "cm"
   ]
  },
  {
   "cell_type": "code",
   "execution_count": null,
   "metadata": {},
   "outputs": [],
   "source": []
  },
  {
   "cell_type": "code",
   "execution_count": 11,
   "metadata": {},
   "outputs": [
    {
     "data": {
      "text/plain": [
       "13940"
      ]
     },
     "execution_count": 11,
     "metadata": {},
     "output_type": "execute_result"
    }
   ],
   "source": [
    "cm[0][1]*10+cm[1][0]*500"
   ]
  },
  {
   "cell_type": "code",
   "execution_count": null,
   "metadata": {},
   "outputs": [],
   "source": []
  },
  {
   "cell_type": "code",
   "execution_count": 121,
   "metadata": {},
   "outputs": [],
   "source": [
    "test = pd.read_csv('C:\\\\Users\\\\Hari\\\\Downloads\\\\aps_failure_test_set.csv',skiprows=20,na_values='na')\n",
    "test.columns = ['class',*[str(x) for x in range(1,171)]]\n",
    "test['class'].replace({'neg':0,'pos':1},inplace=True)\n",
    "test.drop('90',axis=1,inplace=True)\n",
    "#testX = test.loc[:,'1':]\n",
    "testy = test[['class']]\n",
    "testX = test.loc[:,corrs[corrs.abs()>0.3].index]"
   ]
  },
  {
   "cell_type": "code",
   "execution_count": 42,
   "metadata": {},
   "outputs": [
    {
     "data": {
      "text/plain": [
       "24920"
      ]
     },
     "execution_count": 42,
     "metadata": {},
     "output_type": "execute_result"
    }
   ],
   "source": [
    "cm = confusion_matrix(testy,rs.predict(testX))\n",
    "cm[0][1]*10+cm[1][0]*500"
   ]
  },
  {
   "cell_type": "code",
   "execution_count": 44,
   "metadata": {},
   "outputs": [
    {
     "name": "stdout",
     "output_type": "stream",
     "text": [
      "\n",
      "Score on test data: 19190\n"
     ]
    }
   ],
   "source": [
    "temp=testX['95'].copy()\n",
    "temp.values[:]=1\n",
    "temp[testX[testX['95']<8852649.726388311].index]=0\n",
    "cm = confusion_matrix(testy,temp)\n",
    "score = cm[0][1]*10+cm[1][0]*500\n",
    "#score = lc / cm.sum()\n",
    "#print('\\nleast cost on test data:',lc)\n",
    "print('\\nScore on test data:',score);"
   ]
  },
  {
   "cell_type": "code",
   "execution_count": 46,
   "metadata": {},
   "outputs": [],
   "source": [
    "posmask = df['class']==1\n",
    "negmask = df['class']==0"
   ]
  },
  {
   "cell_type": "code",
   "execution_count": 19,
   "metadata": {},
   "outputs": [
    {
     "data": {
      "text/plain": [
       "((60000, 169), (60000, 1))"
      ]
     },
     "execution_count": 19,
     "metadata": {},
     "output_type": "execute_result"
    }
   ],
   "source": [
    "Xreal.shape,yreal.shape"
   ]
  },
  {
   "cell_type": "code",
   "execution_count": 4,
   "metadata": {},
   "outputs": [],
   "source": [
    "scaler = StandardScaler()\n",
    "Xreal = scaler.fit_transform(Xreal)\n",
    "pca = PCA(n_components = 0.99)\n",
    "Xreal = pca.fit_transform(Xreal)"
   ]
  },
  {
   "cell_type": "code",
   "execution_count": 54,
   "metadata": {},
   "outputs": [
    {
     "data": {
      "text/plain": [
       "array([-213.32467746, -188.83966194, -188.83491642, -186.6446323 ,\n",
       "       -192.33972838, -171.37138609, -206.31980976])"
      ]
     },
     "execution_count": 54,
     "metadata": {},
     "output_type": "execute_result"
    }
   ],
   "source": [
    "logreg = LogisticRegression(random_state=42)\n",
    "scaler = StandardScaler()\n",
    "pca = PCA(n_components = 0.99)\n",
    "scorer = make_scorer(score_func, greater_is_better=False)\n",
    "clf = make_pipeline(scaler, pca, logreg)\n",
    "cross_val_score(clf, Xreal, yreal,scoring=scorer,n_jobs=-1,cv=7)"
   ]
  },
  {
   "cell_type": "code",
   "execution_count": 44,
   "metadata": {},
   "outputs": [
    {
     "name": "stderr",
     "output_type": "stream",
     "text": [
      "c:\\users\\hari\\anaconda3\\lib\\site-packages\\sklearn\\utils\\validation.py:72: DataConversionWarning: A column-vector y was passed when a 1d array was expected. Please change the shape of y to (n_samples, ), for example using ravel().\n",
      "  return f(**kwargs)\n",
      "c:\\users\\hari\\anaconda3\\lib\\site-packages\\sklearn\\linear_model\\_logistic.py:764: ConvergenceWarning: lbfgs failed to converge (status=1):\n",
      "STOP: TOTAL NO. of ITERATIONS REACHED LIMIT.\n",
      "\n",
      "Increase the number of iterations (max_iter) or scale the data as shown in:\n",
      "    https://scikit-learn.org/stable/modules/preprocessing.html\n",
      "Please also refer to the documentation for alternative solver options:\n",
      "    https://scikit-learn.org/stable/modules/linear_model.html#logistic-regression\n",
      "  extra_warning_msg=_LOGISTIC_SOLVER_CONVERGENCE_MSG)\n"
     ]
    },
    {
     "data": {
      "text/plain": [
       "LogisticRegression(random_state=42)"
      ]
     },
     "execution_count": 44,
     "metadata": {},
     "output_type": "execute_result"
    }
   ],
   "source": [
    "scaled = scaler.fit_transform(Xreal)\n",
    "pcaed = pca.fit_transform(scaled)\n",
    "logreg.fit(pcaed, yreal)"
   ]
  },
  {
   "cell_type": "code",
   "execution_count": 12,
   "metadata": {},
   "outputs": [
    {
     "data": {
      "text/plain": [
       "<sklearn.metrics._plot.confusion_matrix.ConfusionMatrixDisplay at 0x23831c2c3c8>"
      ]
     },
     "execution_count": 12,
     "metadata": {},
     "output_type": "execute_result"
    },
    {
     "data": {
      "image/png": "[encoded data removed]",
      "text/plain": [
       "<Figure size 432x288 with 2 Axes>"
      ]
     },
     "metadata": {
      "needs_background": "light"
     },
     "output_type": "display_data"
    }
   ],
   "source": [
    "plot_confusion_matrix(logreg, Xreal[:,:91], yreal)"
   ]
  },
  {
   "cell_type": "code",
   "execution_count": 21,
   "metadata": {},
   "outputs": [
    {
     "data": {
      "text/plain": [
       "(0.5463559322033898, 0.035)"
      ]
     },
     "execution_count": 21,
     "metadata": {},
     "output_type": "execute_result"
    }
   ],
   "source": [
    "cm = confusion_matrix(yreal,logreg.predict(Xreal[:,:91]))\n",
    "fpr = cm[0][1]/cm[0].sum()\n",
    "fnr = cm[1][0]/cm[1].sum()\n",
    "fpr,fnr"
   ]
  },
  {
   "cell_type": "code",
   "execution_count": null,
   "metadata": {},
   "outputs": [],
   "source": [
    "fpr*10+fnr*500"
   ]
  },
  {
   "cell_type": "code",
   "execution_count": 22,
   "metadata": {},
   "outputs": [
    {
     "data": {
      "text/plain": [
       "60000"
      ]
     },
     "execution_count": 22,
     "metadata": {},
     "output_type": "execute_result"
    }
   ],
   "source": [
    "len(Xreal[:,:91])"
   ]
  },
  {
   "cell_type": "code",
   "execution_count": 29,
   "metadata": {},
   "outputs": [
    {
     "data": {
      "text/plain": [
       "339850"
      ]
     },
     "execution_count": 29,
     "metadata": {},
     "output_type": "execute_result"
    }
   ],
   "source": [
    "cm[0][1]*10+cm[1][0]*500"
   ]
  },
  {
   "cell_type": "code",
   "execution_count": null,
   "metadata": {},
   "outputs": [],
   "source": []
  }
 ],
 "metadata": {
  "kernelspec": {
   "display_name": "Python 3",
   "language": "python",
   "name": "python3"
  },
  "language_info": {
   "codemirror_mode": {
    "name": "ipython",
    "version": 3
   },
   "file_extension": ".py",
   "mimetype": "text/x-python",
   "name": "python",
   "nbconvert_exporter": "python",
   "pygments_lexer": "ipython3",
   "version": "3.7.6"
  }
 },
 "nbformat": 4,
 "nbformat_minor": 4
}
